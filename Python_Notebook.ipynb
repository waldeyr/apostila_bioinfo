{
 "cells": [
  {
   "cell_type": "code",
   "execution_count": 36,
   "id": "impossible-evanescence",
   "metadata": {
    "scrolled": true
   },
   "outputs": [
    {
     "name": "stdout",
     "output_type": "stream",
     "text": [
      "Requirement already satisfied: biopython in /home/waldeyr/.conda/envs/notebooks/lib/python3.9/site-packages (1.78)\n",
      "Requirement already satisfied: numpy in /home/waldeyr/.conda/envs/notebooks/lib/python3.9/site-packages (from biopython) (1.20.1)\n",
      "Collecting requests\n",
      "  Using cached requests-2.25.1-py2.py3-none-any.whl (61 kB)\n",
      "Collecting idna<3,>=2.5\n",
      "  Using cached idna-2.10-py2.py3-none-any.whl (58 kB)\n",
      "Collecting chardet<5,>=3.0.2\n",
      "  Using cached chardet-4.0.0-py2.py3-none-any.whl (178 kB)\n",
      "Collecting urllib3<1.27,>=1.21.1\n",
      "  Downloading urllib3-1.26.4-py2.py3-none-any.whl (153 kB)\n",
      "\u001b[K     |████████████████████████████████| 153 kB 3.0 MB/s eta 0:00:01\n",
      "\u001b[?25hRequirement already satisfied: certifi>=2017.4.17 in /home/waldeyr/.conda/envs/notebooks/lib/python3.9/site-packages (from requests) (2020.12.5)\n",
      "Installing collected packages: urllib3, idna, chardet, requests\n",
      "Successfully installed chardet-4.0.0 idna-2.10 requests-2.25.1 urllib3-1.26.4\n"
     ]
    }
   ],
   "source": [
    "! pip install biopython\n",
    "! pip install requests"
   ]
  },
  {
   "cell_type": "code",
   "execution_count": 97,
   "id": "immune-music",
   "metadata": {},
   "outputs": [],
   "source": [
    "# Importando as bibliotecas de Byopython que serao usadas\n",
    "from Bio.Seq import Seq\n",
    "from Bio.Data import CodonTable\n",
    "from Bio import SeqIO\n",
    "from Bio import Align\n",
    "from Bio.KEGG import REST\n",
    "from Bio.KEGG import Enzyme\n",
    "from Bio.KEGG import REST\n",
    "from Bio import ExPASy\n",
    "from Bio import SeqIO\n",
    "import requests"
   ]
  },
  {
   "cell_type": "code",
   "execution_count": 17,
   "id": "varied-output",
   "metadata": {},
   "outputs": [
    {
     "name": "stdout",
     "output_type": "stream",
     "text": [
      "ATGGCCATTGTAATGGGCCGCTGAAAGGGTGCCCGATAG\n"
     ]
    }
   ],
   "source": [
    "dna_exemplo = Seq(\"ATGgccattgTAATGGGCCGCTgaaagggTGCCCGATAG\") # dna com nucleotideos em maiusculas e minusculas\n",
    "dna_exemplo = dna_exemplo.upper() # converte todos os nucleotideos para maiusculas\n",
    "print(dna_exemplo)"
   ]
  },
  {
   "cell_type": "code",
   "execution_count": 14,
   "id": "unlikely-prediction",
   "metadata": {},
   "outputs": [
    {
     "name": "stdout",
     "output_type": "stream",
     "text": [
      "CTATCGGGCACCCTTTCAGCGGCCCATTACAATGGCCAT\n"
     ]
    }
   ],
   "source": [
    "# Gerar a fita reversa complementar de da sequencia dna_exemplo\n",
    "rev_compl_dna_exemplo = dna_exemplo.reverse_complement()\n",
    "print(rev_compl_dna_exemplo)"
   ]
  },
  {
   "cell_type": "code",
   "execution_count": 18,
   "id": "numerous-exposure",
   "metadata": {},
   "outputs": [
    {
     "name": "stdout",
     "output_type": "stream",
     "text": [
      "AUGGCCAUUGUAAUGGGCCGCUGAAAGGGUGCCCGAUAG\n"
     ]
    }
   ],
   "source": [
    "# Gerar o RNA mensageiro (transcrição)\n",
    "rna_mensageiro = dna_exemplo.transcribe()\n",
    "print(rna_mensageiro)"
   ]
  },
  {
   "cell_type": "code",
   "execution_count": 24,
   "id": "rental-drill",
   "metadata": {},
   "outputs": [
    {
     "name": "stdout",
     "output_type": "stream",
     "text": [
      "Table 1 Standard, SGC0\n",
      "\n",
      "  |  T      |  C      |  A      |  G      |\n",
      "--+---------+---------+---------+---------+--\n",
      "T | TTT F   | TCT S   | TAT Y   | TGT C   | T\n",
      "T | TTC F   | TCC S   | TAC Y   | TGC C   | C\n",
      "T | TTA L   | TCA S   | TAA Stop| TGA Stop| A\n",
      "T | TTG L(s)| TCG S   | TAG Stop| TGG W   | G\n",
      "--+---------+---------+---------+---------+--\n",
      "C | CTT L   | CCT P   | CAT H   | CGT R   | T\n",
      "C | CTC L   | CCC P   | CAC H   | CGC R   | C\n",
      "C | CTA L   | CCA P   | CAA Q   | CGA R   | A\n",
      "C | CTG L(s)| CCG P   | CAG Q   | CGG R   | G\n",
      "--+---------+---------+---------+---------+--\n",
      "A | ATT I   | ACT T   | AAT N   | AGT S   | T\n",
      "A | ATC I   | ACC T   | AAC N   | AGC S   | C\n",
      "A | ATA I   | ACA T   | AAA K   | AGA R   | A\n",
      "A | ATG M(s)| ACG T   | AAG K   | AGG R   | G\n",
      "--+---------+---------+---------+---------+--\n",
      "G | GTT V   | GCT A   | GAT D   | GGT G   | T\n",
      "G | GTC V   | GCC A   | GAC D   | GGC G   | C\n",
      "G | GTA V   | GCA A   | GAA E   | GGA G   | A\n",
      "G | GTG V   | GCG A   | GAG E   | GGG G   | G\n",
      "--+---------+---------+---------+---------+--\n",
      "MAIVMGR*KGAR*\n"
     ]
    }
   ],
   "source": [
    "# Gerar a tradução do RNA mensageiro com a tabela de codigo genetico padrao\n",
    "tabela_padrao = CodonTable.unambiguous_dna_by_id[1]\n",
    "print(tabela_padrao)\n",
    "aminoacidos = rna_mensageiro.translate()\n",
    "print(aminoacidos)"
   ]
  },
  {
   "cell_type": "code",
   "execution_count": 25,
   "id": "complex-relevance",
   "metadata": {},
   "outputs": [
    {
     "name": "stdout",
     "output_type": "stream",
     "text": [
      "Table 2 Vertebrate Mitochondrial, SGC1\n",
      "\n",
      "  |  T      |  C      |  A      |  G      |\n",
      "--+---------+---------+---------+---------+--\n",
      "T | TTT F   | TCT S   | TAT Y   | TGT C   | T\n",
      "T | TTC F   | TCC S   | TAC Y   | TGC C   | C\n",
      "T | TTA L   | TCA S   | TAA Stop| TGA W   | A\n",
      "T | TTG L   | TCG S   | TAG Stop| TGG W   | G\n",
      "--+---------+---------+---------+---------+--\n",
      "C | CTT L   | CCT P   | CAT H   | CGT R   | T\n",
      "C | CTC L   | CCC P   | CAC H   | CGC R   | C\n",
      "C | CTA L   | CCA P   | CAA Q   | CGA R   | A\n",
      "C | CTG L   | CCG P   | CAG Q   | CGG R   | G\n",
      "--+---------+---------+---------+---------+--\n",
      "A | ATT I(s)| ACT T   | AAT N   | AGT S   | T\n",
      "A | ATC I(s)| ACC T   | AAC N   | AGC S   | C\n",
      "A | ATA M(s)| ACA T   | AAA K   | AGA Stop| A\n",
      "A | ATG M(s)| ACG T   | AAG K   | AGG Stop| G\n",
      "--+---------+---------+---------+---------+--\n",
      "G | GTT V   | GCT A   | GAT D   | GGT G   | T\n",
      "G | GTC V   | GCC A   | GAC D   | GGC G   | C\n",
      "G | GTA V   | GCA A   | GAA E   | GGA G   | A\n",
      "G | GTG V(s)| GCG A   | GAG E   | GGG G   | G\n",
      "--+---------+---------+---------+---------+--\n",
      "MAIVMGRWKGAR*\n"
     ]
    }
   ],
   "source": [
    "# Gerar a tradução do RNA mensageiro com a tabela de codigo genetico para dna mitocondrial de vertebrados\n",
    "tabela_mitocondrial = CodonTable.unambiguous_dna_by_id[2]\n",
    "print(tabela_mitocondrial)\n",
    "aminoacidos = rna_mensageiro.translate(table=\"Vertebrate Mitochondrial\")\n",
    "print(aminoacidos)"
   ]
  },
  {
   "cell_type": "code",
   "execution_count": 21,
   "id": "humanitarian-encoding",
   "metadata": {},
   "outputs": [
    {
     "name": "stdout",
     "output_type": "stream",
     "text": [
      "MAIVMGR*KGAR*\n"
     ]
    }
   ],
   "source": [
    "# Gerar a tradução do RNA mensageiro com a tabela de codigo genetico para dna mitocondrial de vertebrados\n",
    "aminoacidos = rna_mensageiro.translate(table=\"Bacterial\")\n",
    "print(aminoacidos)"
   ]
  },
  {
   "cell_type": "code",
   "execution_count": 41,
   "id": "returning-vegetable",
   "metadata": {
    "scrolled": true
   },
   "outputs": [
    {
     "data": {
      "text/plain": [
       "78471"
      ]
     },
     "execution_count": 41,
     "metadata": {},
     "output_type": "execute_result"
    }
   ],
   "source": [
    "# Baixar para  notebook o genoma do Sars-Cov-2 em formato genbank\n",
    "url_genoma_sars_cov_2 =  \"https://raw.githubusercontent.com/waldeyr/apostila_bioinfo/main/Sars_Cov_2_Genoma.gb\"\n",
    "r = requests.get(url_genoma_sars_cov_2, allow_redirects=True)\n",
    "open('genoma_sars_cov_2.gb', 'wb').write(r.content)"
   ]
  },
  {
   "cell_type": "code",
   "execution_count": 45,
   "id": "inappropriate-contribution",
   "metadata": {},
   "outputs": [
    {
     "name": "stdout",
     "output_type": "stream",
     "text": [
      "NC_045512.2\n"
     ]
    }
   ],
   "source": [
    "# Ler o genoma em formato genbank e mostrar o NCBI ID do genoma\n",
    "genoma_sars_cov_2 = SeqIO.read(\"genoma_sars_cov_2.gb\", \"genbank\")\n",
    "print(genoma_sars_cov_2.id)"
   ]
  },
  {
   "cell_type": "code",
   "execution_count": 54,
   "id": "located-press",
   "metadata": {},
   "outputs": [
    {
     "name": "stdout",
     "output_type": "stream",
     "text": [
      "NCBI ID: NC_045512.2;\t Tamanho do genoma: 29903 bp;\t  Qtd features: 57;\t Qtd de genes anotados: 13;\n"
     ]
    }
   ],
   "source": [
    "# Imprimindo algumas caracteristicas de interesse\n",
    "print(\"NCBI ID: %s;\\t Tamanho do genoma: %i bp;\\t  Qtd features: %i;\\t Qtd de genes anotados: %i;\" % (\n",
    "    genoma_sars_cov_2.id, # NCBI ID\n",
    "    len(genoma_sars_cov_2), # tamanho do genoma em pares de bases\n",
    "    len(genoma_sars_cov_2.features), #quantidades de features\n",
    "    len(genoma_sars_cov_2.annotations)# quantidade de genes anotados\n",
    "))"
   ]
  },
  {
   "cell_type": "code",
   "execution_count": 57,
   "id": "registered-abortion",
   "metadata": {},
   "outputs": [
    {
     "name": "stdout",
     "output_type": "stream",
     "text": [
      ">GU280_gp02\n",
      "MFVFLVLLPLVSSQCVNLTTRTQLPPAYTNSFTRGVYYPDKVFRSSVLHSTQDLFLPFFSNVTWFHAIHVSGTNGTKRFDNPVLPFNDGVYFASTEKSNIIRGWIFGTTLDSKTQSLLIVNNATNVVIKVCEFQFCNDPFLGVYYHKNNKSWMESEFRVYSSANNCTFEYVSQPFLMDLEGKQGNFKNLREFVFKNIDGYFKIYSKHTPINLVRDLPQGFSALEPLVDLPIGINITRFQTLLALHRSYLTPGDSSSGWTAGAAAYYVGYLQPRTFLLKYNENGTITDAVDCALDPLSETKCTLKSFTVEKGIYQTSNFRVQPTESIVRFPNITNLCPFGEVFNATRFASVYAWNRKRISNCVADYSVLYNSASFSTFKCYGVSPTKLNDLCFTNVYADSFVIRGDEVRQIAPGQTGKIADYNYKLPDDFTGCVIAWNSNNLDSKVGGNYNYLYRLFRKSNLKPFERDISTEIYQAGSTPCNGVEGFNCYFPLQSYGFQPTNGVGYQPYRVVVLSFELLHAPATVCGPKKSTNLVKNKCVNFNFNGLTGTGVLTESNKKFLPFQQFGRDIADTTDAVRDPQTLEILDITPCSFGGVSVITPGTNTSNQVAVLYQDVNCTEVPVAIHADQLTPTWRVYSTGSNVFQTRAGCLIGAEHVNNSYECDIPIGAGICASYQTQTNSPRRARSVASQSIIAYTMSLGAENSVAYSNNSIAIPTNFTISVTTEILPVSMTKTSVDCTMYICGDSTECSNLLLQYGSFCTQLNRALTGIAVEQDKNTQEVFAQVKQIYKTPPIKDFGGFNFSQILPDPSKPSKRSFIEDLLFNKVTLADAGFIKQYGDCLGDIAARDLICAQKFNGLTVLPPLLTDEMIAQYTSALLAGTITSGWTFGAGAALQIPFAMQMAYRFNGIGVTQNVLYENQKLIANQFNSAIGKIQDSLSSTASALGKLQDVVNQNAQALNTLVKQLSSNFGAISSVLNDILSRLDKVEAEVQIDRLITGRLQSLQTYVTQQLIRAAEIRASANLAATKMSECVLGQSKRVDFCGKGYHLMSFPQSAPHGVVFLHVTYVPAQEKNFTTAPAICHDGKAHFPREGVFVSNGTHWFVTQRNFYEPQIITTDNTFVSGNCDVVIGIVNNTVYDPLQPELDSFKEELDKYFKNHTSPDVDLGDISGINASVVNIQKEIDRLNEVAKNLNESLIDLQELGKYEQYIKWPWYIWLGFIAGLIAIVMVTIMLCCMTSCCSCLKGCCSCGSCCKFDEDDSEPVLKGVKLHYT\n"
     ]
    }
   ],
   "source": [
    "# Gerar um fasta com os aminoacidos da regiao codificadora do gene da proteina spike \n",
    "for seq_feature in genoma_sars_cov_2.features: # ler as features do genoma\n",
    "    if seq_feature.type == \"CDS\": # misc_feature, gene, misc_RNA, CDS\n",
    "        for key, value in seq_feature.qualifiers.items(): # ler qualificadores de cada feature\n",
    "            if key == \"translation\": # verificar o qualificador de interesse que é translation\n",
    "                if seq_feature.qualifiers['locus_tag'][0] == \"GU280_gp02\":# Gene da proteina spike\n",
    "                    print(f\">{seq_feature.qualifiers['locus_tag'][0]}\") # imprimir o nome do gene\n",
    "                    print(f\"{str(value[0])}\")#imprimir a sequencia da regiao codificadora do gene traduzida para proteina"
   ]
  },
  {
   "cell_type": "code",
   "execution_count": 51,
   "id": "european-criminal",
   "metadata": {},
   "outputs": [
    {
     "name": "stdout",
     "output_type": "stream",
     "text": [
      "NC_045512.2 29903 57 1 13\n"
     ]
    }
   ],
   "source": [
    "# Alinhamentos entre sequencias de anticorpos humanos para a proteina spike do sars-cov-2 (GU280_gp02)"
   ]
  },
  {
   "cell_type": "code",
   "execution_count": 61,
   "id": "quick-exhaust",
   "metadata": {},
   "outputs": [
    {
     "data": {
      "text/plain": [
       "2011"
      ]
     },
     "execution_count": 61,
     "metadata": {},
     "output_type": "execute_result"
    }
   ],
   "source": [
    "# Baixar arquivo com 4 sequencias de anticorpos humanos para a proteina spike do sars-cov-2 (GU280_gp02)\n",
    "url_anticorpos = \"https://raw.githubusercontent.com/waldeyr/apostila_bioinfo/main/imunoglobulinas_humanas_cadeia_pesada.fasta\"\n",
    "r = requests.get(url_anticorpos, allow_redirects=True)\n",
    "open('anticorpos_sars_cov_2.fasta', 'wb').write(r.content)"
   ]
  },
  {
   "cell_type": "code",
   "execution_count": 90,
   "id": "alleged-controversy",
   "metadata": {},
   "outputs": [
    {
     "name": "stdout",
     "output_type": "stream",
     "text": [
      "CAGGTGCAGCTGGTGGAGTCTGGGGGAGGCGTGGTCCAGCCTGGGAGGTCCCTGAGACTCTCCTGTGCAGCCTCTGGATTCACCTTCAGTAGCTATGCTATGCACTGGGTCCGCCAGGCTCCAGGCAAGGGGCTGGAGTGGGTGGCAGGTATATCATATGATGGAAGCAATAAATACTACGCAGACTCCGTGAAGGGCCGATTCACCATCTCCAGAGACAATTCCAAGAACACGCTGTATCTGCAAATGAACAGCCTGAGAGCTGAGGACACGGCTGTGTATTACTGTGCGAGAGCGGACACTATGGTTCGGGGAACTTATTTTGAGTACTGGGGCCAGGGAACCCTGGTCACCGTCTCCTCA\n",
      ".|||||||||||||||||||||||||||||.||||||||||||||.|||||||||||||||||||||.||||||||||||||||||.|||..||||...|||..|||||||||||||||||||||.||||||||.|||||||||||....|||....|.||||||.|..|.||||||||.|..|||||.||||||||||||||||||||||||||||||||..||||||||.|.|||||||||||||||||||||||||||||.||||||||||||||||||||||||||||||-|.|.|.....|...|.||||-|||-|---||.||||||||||||||||||||||||||||||||||||\n",
      "GAGGTGCAGCTGGTGGAGTCTGGGGGAGGCTTGGTCCAGCCTGGGGGGTCCCTGAGACTCTCCTGTGTAGCCTCTGGATTCACCTTTAGTTTCTATTGGATGAGCTGGGTCCGCCAGGCTCCAGGAAAGGGGCTCGAGTGGGTGGCCAACATAAAGCAAGATGGAGGTGAGAAATACTATGTGGACTCTGTGAAGGGCCGATTCACCATCTCCAGAGACAACGCCAAGAACTCACTGTATCTGCAAATGAACAGCCTGAGAGCCGAGGACACGGCTGTGTATTACTGTGCGAGA-CTGTCTGGCAGCAGCTGGGA-CTT-T---GACTACTGGGGCCAGGGAACCCTGGTCACCGTCTCCTCA\n",
      "\n",
      "CAGGTGCAGCTGGTGGAGTCTGGGGGAGGCGTGGTCCAGCCTGGGAGGTCCCTGAGACTCTCCTGTGCAGCCTCTGGATTCACCTTCAGTAGCTATGCTATGCACTGGGTCCGCCAGGCTCCAGGCAAGGGGCTGGAGTGGGTGGCAGGTATATCATATGATGGAAGCAATAAATACTACGCAGACTCCGTGAAGGGCCGATTCACCATCTCCAGAGACAATTCCAAGAACACGCTGTATCTGCAAATGAACAGCCTGAGAGCTGAGGACACGGCTGTGTATTACTGTGCGAGAGCGGACACTATGGTTCGGGGAACTTATTTTGAGTACTGGGGCCAGGGAACCCTGGTCACCGTCTCCTCA\n",
      ".|||||||||||||||||||||||||||||.||||||||||||||.|||||||||||||||||||||.||||||||||||||||||.|||..||||...|||..|||||||||||||||||||||.||||||||.|||||||||||....|||....|.||||||.|..|.||||||||.|..|||||.||||||||||||||||||||||||||||||||..||||||||.|.|||||||||||||||||||||||||||||.||||||||||||||||||||||||||||||-|.|.|.....|...|.|||-||||-|---||.||||||||||||||||||||||||||||||||||||\n",
      "GAGGTGCAGCTGGTGGAGTCTGGGGGAGGCTTGGTCCAGCCTGGGGGGTCCCTGAGACTCTCCTGTGTAGCCTCTGGATTCACCTTTAGTTTCTATTGGATGAGCTGGGTCCGCCAGGCTCCAGGAAAGGGGCTCGAGTGGGTGGCCAACATAAAGCAAGATGGAGGTGAGAAATACTATGTGGACTCTGTGAAGGGCCGATTCACCATCTCCAGAGACAACGCCAAGAACTCACTGTATCTGCAAATGAACAGCCTGAGAGCCGAGGACACGGCTGTGTATTACTGTGCGAGA-CTGTCTGGCAGCAGCTGGG-ACTT-T---GACTACTGGGGCCAGGGAACCCTGGTCACCGTCTCCTCA\n",
      "\n",
      "CAGGTGCAGCTGGTGGAGTCTGGGGGAGGCGTGGTCCAGCCTGGGAGGTCCCTGAGACTCTCCTGTGCAGCCTCTGGATTCACCTTCAGTAGCTATGCTATGCACTGGGTCCGCCAGGCTCCAGGCAAGGGGCTGGAGTGGGTGGCAGGTATATCATATGATGGAAGCAATAAATACTACGCAGACTCCGTGAAGGGCCGATTCACCATCTCCAGAGACAATTCCAAGAACACGCTGTATCTGCAAATGAACAGCCTGAGAGCTGAGGACACGGCTGTGTATTACTGTGCGAGAGCGGACACTATGGTTCGGGGAACTTATTTTGAGTACTGGGGCCAGGGAACCCTGGTCACCGTCTCCTCA\n",
      ".|||||||||||||||||||||||||||||.||||||||||||||.|||||||||||||||||||||.||||||||||||||||||.|||..||||...|||..|||||||||||||||||||||.||||||||.|||||||||||....|||....|.||||||.|..|.||||||||.|..|||||.||||||||||||||||||||||||||||||||..||||||||.|.|||||||||||||||||||||||||||||.||||||||||||||||||||||||||||||-|.|.|.....|...|.||||-|||--|--||.||||||||||||||||||||||||||||||||||||\n",
      "GAGGTGCAGCTGGTGGAGTCTGGGGGAGGCTTGGTCCAGCCTGGGGGGTCCCTGAGACTCTCCTGTGTAGCCTCTGGATTCACCTTTAGTTTCTATTGGATGAGCTGGGTCCGCCAGGCTCCAGGAAAGGGGCTCGAGTGGGTGGCCAACATAAAGCAAGATGGAGGTGAGAAATACTATGTGGACTCTGTGAAGGGCCGATTCACCATCTCCAGAGACAACGCCAAGAACTCACTGTATCTGCAAATGAACAGCCTGAGAGCCGAGGACACGGCTGTGTATTACTGTGCGAGA-CTGTCTGGCAGCAGCTGGGA-CTT--T--GACTACTGGGGCCAGGGAACCCTGGTCACCGTCTCCTCA\n",
      "\n",
      "CAGGTGCAGCTGGTGGAGTCTGGGGGAGGCGTGGTCCAGCCTGGGAGGTCCCTGAGACTCTCCTGTGCAGCCTCTGGATTCACCTTCAGTAGCTATGCTATGCACTGGGTCCGCCAGGCTCCAGGCAAGGGGCTGGAGTGGGTGGCAGGTATATCATATGATGGAAGCAATAAATACTACGCAGACTCCGTGAAGGGCCGATTCACCATCTCCAGAGACAATTCCAAGAACACGCTGTATCTGCAAATGAACAGCCTGAGAGCTGAGGACACGGCTGTGTATTACTGTGCGAGAGCGGACACTATGGTTCGGGGAACTTATTTTGAGTACTGGGGCCAGGGAACCCTGGTCACCGTCTCCTCA\n",
      ".|||||||||||||||||||||||||||||.||||||||||||||.|||||||||||||||||||||.||||||||||||||||||.|||..||||...|||..|||||||||||||||||||||.||||||||.|||||||||||....|||....|.||||||.|..|.||||||||.|..|||||.||||||||||||||||||||||||||||||||..||||||||.|.|||||||||||||||||||||||||||||.||||||||||||||||||||||||||||||-|.|.|.....|...|.|||-||||--|--||.||||||||||||||||||||||||||||||||||||\n",
      "GAGGTGCAGCTGGTGGAGTCTGGGGGAGGCTTGGTCCAGCCTGGGGGGTCCCTGAGACTCTCCTGTGTAGCCTCTGGATTCACCTTTAGTTTCTATTGGATGAGCTGGGTCCGCCAGGCTCCAGGAAAGGGGCTCGAGTGGGTGGCCAACATAAAGCAAGATGGAGGTGAGAAATACTATGTGGACTCTGTGAAGGGCCGATTCACCATCTCCAGAGACAACGCCAAGAACTCACTGTATCTGCAAATGAACAGCCTGAGAGCCGAGGACACGGCTGTGTATTACTGTGCGAGA-CTGTCTGGCAGCAGCTGGG-ACTT--T--GACTACTGGGGCCAGGGAACCCTGGTCACCGTCTCCTCA\n",
      "\n",
      "CAGGTGCAGCTGGTGGAGTCTGGGGGAGGCGTGGTCCAGCCTGGGAGGTCCCTGAGACTCTCCTGTGCAGCCTCTGGATTCACCTTCAGTAGCTATGCTATGCACTGGGTCCGCCAGGCTCCAGGCAAGGGGCTGGAGTGGGTGGCAGGTATATCATATGATGGAAGCAATAAATACTACGCAGACTCCGTGAAGGGCCGATTCACCATCTCCAGAGACAATTCCAAGAACACGCTGTATCTGCAAATGAACAGCCTGAGAGCTGAGGACACGGCTGTGTATTACTGTGCGAGAGCGGACACTATGGTTCGGGGAACTTATTTTGAGTACTGGGGCCAGGGAACCCTGGTCACCGTCTCCTCA\n",
      ".|||||||||||||||||||||||||||||.||||||||||||||.|||||||||||||||||||||.||||||||||||||||||.|||..||||...|||..|||||||||||||||||||||.||||||||.|||||||||||....|||....|.||||||.|..|.||||||||.|..|||||.||||||||||||||||||||||||||||||||..||||||||.|.|||||||||||||||||||||||||||||.||||||||||||||||||||||||||||||-|.|.|.....|...|.||||-||--||--||.||||||||||||||||||||||||||||||||||||\n",
      "GAGGTGCAGCTGGTGGAGTCTGGGGGAGGCTTGGTCCAGCCTGGGGGGTCCCTGAGACTCTCCTGTGTAGCCTCTGGATTCACCTTTAGTTTCTATTGGATGAGCTGGGTCCGCCAGGCTCCAGGAAAGGGGCTCGAGTGGGTGGCCAACATAAAGCAAGATGGAGGTGAGAAATACTATGTGGACTCTGTGAAGGGCCGATTCACCATCTCCAGAGACAACGCCAAGAACTCACTGTATCTGCAAATGAACAGCCTGAGAGCCGAGGACACGGCTGTGTATTACTGTGCGAGA-CTGTCTGGCAGCAGCTGGGA-CT--TT--GACTACTGGGGCCAGGGAACCCTGGTCACCGTCTCCTCA\n",
      "\n",
      "CAGGTGCAGCTGGTGGAGTCTGGGGGAGGCGTGGTCCAGCCTGGGAGGTCCCTGAGACTCTCCTGTGCAGCCTCTGGATTCACCTTCAGTAGCTATGCTATGCACTGGGTCCGCCAGGCTCCAGGCAAGGGGCTGGAGTGGGTGGCAGGTATATCATATGATGGAAGCAATAAATACTACGCAGACTCCGTGAAGGGCCGATTCACCATCTCCAGAGACAATTCCAAGAACACGCTGTATCTGCAAATGAACAGCCTGAGAGCTGAGGACACGGCTGTGTATTACTGTGCGAGAGCGGACACTATGGTTCGGGGAACTTATTTTGAGTACTGGGGCCAGGGAACCCTGGTCACCGTCTCCTCA\n",
      ".|||||||||||||||||||||||||||||.||||||||||||||.|||||||||||||||||||||.||||||||||||||||||.|||..||||...|||..|||||||||||||||||||||.||||||||.|||||||||||....|||....|.||||||.|..|.||||||||.|..|||||.||||||||||||||||||||||||||||||||..||||||||.|.|||||||||||||||||||||||||||||.||||||||||||||||||||||||||||||-|.|.|.....|...|.|||-|||--||--||.||||||||||||||||||||||||||||||||||||\n",
      "GAGGTGCAGCTGGTGGAGTCTGGGGGAGGCTTGGTCCAGCCTGGGGGGTCCCTGAGACTCTCCTGTGTAGCCTCTGGATTCACCTTTAGTTTCTATTGGATGAGCTGGGTCCGCCAGGCTCCAGGAAAGGGGCTCGAGTGGGTGGCCAACATAAAGCAAGATGGAGGTGAGAAATACTATGTGGACTCTGTGAAGGGCCGATTCACCATCTCCAGAGACAACGCCAAGAACTCACTGTATCTGCAAATGAACAGCCTGAGAGCCGAGGACACGGCTGTGTATTACTGTGCGAGA-CTGTCTGGCAGCAGCTGGG-ACT--TT--GACTACTGGGGCCAGGGAACCCTGGTCACCGTCTCCTCA\n",
      "\n",
      "CAGGTGCAGCTGGTGGAGTCTGGGGGAGGCGTGGTCCAGCCTGGGAGGTCCCTGAGACTCTCCTGTGCAGCCTCTGGATTCACCTTCAGTAGCTATGCTATGCACTGGGTCCGCCAGGCTCCAGGCAAGGGGCTGGAGTGGGTGGCAGGTATATCATATGATGGAAGCAATAAATACTACGCAGACTCCGTGAAGGGCCGATTCACCATCTCCAGAGACAATTCCAAGAACACGCTGTATCTGCAAATGAACAGCCTGAGAGCTGAGGACACGGCTGTGTATTACTGTGCGAGAGCGGACACTATGGTTCGGGGAACTTATTTTGAGTACTGGGGCCAGGGAACCCTGGTCACCGTCTCCTCA\n",
      ".|||||||||||||||||||||||||||||.||||||||||||||.|||||||||||||||||||||.||||||||||||||||||.|||..||||...|||..|||||||||||||||||||||.||||||||.|||||||||||....|||....|.||||||.|..|.||||||||.|..|||||.||||||||||||||||||||||||||||||||..||||||||.|.|||||||||||||||||||||||||||||.||||||||||||||||||||||||||||||-|.|.|.....|...|.||||-|-|-||--||.||||||||||||||||||||||||||||||||||||\n",
      "GAGGTGCAGCTGGTGGAGTCTGGGGGAGGCTTGGTCCAGCCTGGGGGGTCCCTGAGACTCTCCTGTGTAGCCTCTGGATTCACCTTTAGTTTCTATTGGATGAGCTGGGTCCGCCAGGCTCCAGGAAAGGGGCTCGAGTGGGTGGCCAACATAAAGCAAGATGGAGGTGAGAAATACTATGTGGACTCTGTGAAGGGCCGATTCACCATCTCCAGAGACAACGCCAAGAACTCACTGTATCTGCAAATGAACAGCCTGAGAGCCGAGGACACGGCTGTGTATTACTGTGCGAGA-CTGTCTGGCAGCAGCTGGGA-C-T-TT--GACTACTGGGGCCAGGGAACCCTGGTCACCGTCTCCTCA\n",
      "\n",
      "CAGGTGCAGCTGGTGGAGTCTGGGGGAGGCGTGGTCCAGCCTGGGAGGTCCCTGAGACTCTCCTGTGCAGCCTCTGGATTCACCTTCAGTAGCTATGCTATGCACTGGGTCCGCCAGGCTCCAGGCAAGGGGCTGGAGTGGGTGGCAGGTATATCATATGATGGAAGCAATAAATACTACGCAGACTCCGTGAAGGGCCGATTCACCATCTCCAGAGACAATTCCAAGAACACGCTGTATCTGCAAATGAACAGCCTGAGAGCTGAGGACACGGCTGTGTATTACTGTGCGAGAGCGGACACTATGGTTCGGGGAACTTATTTTGAGTACTGGGGCCAGGGAACCCTGGTCACCGTCTCCTCA\n",
      ".|||||||||||||||||||||||||||||.||||||||||||||.|||||||||||||||||||||.||||||||||||||||||.|||..||||...|||..|||||||||||||||||||||.||||||||.|||||||||||....|||....|.||||||.|..|.||||||||.|..|||||.||||||||||||||||||||||||||||||||..||||||||.|.|||||||||||||||||||||||||||||.||||||||||||||||||||||||||||||-|.|.|.....|...|.|||-||-|-||--||.||||||||||||||||||||||||||||||||||||\n",
      "GAGGTGCAGCTGGTGGAGTCTGGGGGAGGCTTGGTCCAGCCTGGGGGGTCCCTGAGACTCTCCTGTGTAGCCTCTGGATTCACCTTTAGTTTCTATTGGATGAGCTGGGTCCGCCAGGCTCCAGGAAAGGGGCTCGAGTGGGTGGCCAACATAAAGCAAGATGGAGGTGAGAAATACTATGTGGACTCTGTGAAGGGCCGATTCACCATCTCCAGAGACAACGCCAAGAACTCACTGTATCTGCAAATGAACAGCCTGAGAGCCGAGGACACGGCTGTGTATTACTGTGCGAGA-CTGTCTGGCAGCAGCTGGG-AC-T-TT--GACTACTGGGGCCAGGGAACCCTGGTCACCGTCTCCTCA\n",
      "\n",
      "CAGGTGCAGCTGGTGGAGTCTGGGGGAGGCGTGGTCCAGCCTGGGAGGTCCCTGAGACTCTCCTGTGCAGCCTCTGGATTCACCTTCAGTAGCTATGCTATGCACTGGGTCCGCCAGGCTCCAGGCAAGGGGCTGGAGTGGGTGGCAGGTATATCATATGATGGAAGCAATAAATACTACGCAGACTCCGTGAAGGGCCGATTCACCATCTCCAGAGACAATTCCAAGAACACGCTGTATCTGCAAATGAACAGCCTGAGAGCTGAGGACACGGCTGTGTATTACTGTGCGAGAGCGGACACTATGGTTCGGGGAACTTATTTTGAGTACTGGGGCCAGGGAACCCTGGTCACCGTCTCCTCA\n",
      ".|||||||||||||||||||||||||||||.||||||||||||||.|||||||||||||||||||||.||||||||||||||||||.|||..||||...|||..|||||||||||||||||||||.||||||||.|||||||||||....|||....|.||||||.|..|.||||||||.|..|||||.||||||||||||||||||||||||||||||||..||||||||.|.|||||||||||||||||||||||||||||.||||||||||||||||||||||||||||||-|.|.|.....|...|.||||-|||---|-||.||||||||||||||||||||||||||||||||||||\n",
      "GAGGTGCAGCTGGTGGAGTCTGGGGGAGGCTTGGTCCAGCCTGGGGGGTCCCTGAGACTCTCCTGTGTAGCCTCTGGATTCACCTTTAGTTTCTATTGGATGAGCTGGGTCCGCCAGGCTCCAGGAAAGGGGCTCGAGTGGGTGGCCAACATAAAGCAAGATGGAGGTGAGAAATACTATGTGGACTCTGTGAAGGGCCGATTCACCATCTCCAGAGACAACGCCAAGAACTCACTGTATCTGCAAATGAACAGCCTGAGAGCCGAGGACACGGCTGTGTATTACTGTGCGAGA-CTGTCTGGCAGCAGCTGGGA-CTT---T-GACTACTGGGGCCAGGGAACCCTGGTCACCGTCTCCTCA\n",
      "\n",
      "CAGGTGCAGCTGGTGGAGTCTGGGGGAGGCGTGGTCCAGCCTGGGAGGTCCCTGAGACTCTCCTGTGCAGCCTCTGGATTCACCTTCAGTAGCTATGCTATGCACTGGGTCCGCCAGGCTCCAGGCAAGGGGCTGGAGTGGGTGGCAGGTATATCATATGATGGAAGCAATAAATACTACGCAGACTCCGTGAAGGGCCGATTCACCATCTCCAGAGACAATTCCAAGAACACGCTGTATCTGCAAATGAACAGCCTGAGAGCTGAGGACACGGCTGTGTATTACTGTGCGAGAGCGGACACTATGGTTCGGGGAACTTATTTTGAGTACTGGGGCCAGGGAACCCTGGTCACCGTCTCCTCA\n",
      ".|||||||||||||||||||||||||||||.||||||||||||||.|||||||||||||||||||||.||||||||||||||||||.|||..||||...|||..|||||||||||||||||||||.||||||||.|||||||||||....|||....|.||||||.|..|.||||||||.|..|||||.||||||||||||||||||||||||||||||||..||||||||.|.|||||||||||||||||||||||||||||.||||||||||||||||||||||||||||||-|.|.|.....|...|.|||-||||---|-||.||||||||||||||||||||||||||||||||||||\n",
      "GAGGTGCAGCTGGTGGAGTCTGGGGGAGGCTTGGTCCAGCCTGGGGGGTCCCTGAGACTCTCCTGTGTAGCCTCTGGATTCACCTTTAGTTTCTATTGGATGAGCTGGGTCCGCCAGGCTCCAGGAAAGGGGCTCGAGTGGGTGGCCAACATAAAGCAAGATGGAGGTGAGAAATACTATGTGGACTCTGTGAAGGGCCGATTCACCATCTCCAGAGACAACGCCAAGAACTCACTGTATCTGCAAATGAACAGCCTGAGAGCCGAGGACACGGCTGTGTATTACTGTGCGAGA-CTGTCTGGCAGCAGCTGGG-ACTT---T-GACTACTGGGGCCAGGGAACCCTGGTCACCGTCTCCTCA\n",
      "\n",
      "CAGGTGCAGCTGGTGGAGTCTGGGGGAGGCGTGGTCCAGCCTGGGAGGTCCCTGAGACTCTCCTGTGCAGCCTCTGGATTCACCTTCAGTAGCTATGCTATGCACTGGGTCCGCCAGGCTCCAGGCAAGGGGCTGGAGTGGGTGGCAGGTATATCATATGATGGAAGCAATAAATACTACGCAGACTCCGTGAAGGGCCGATTCACCATCTCCAGAGACAATTCCAAGAACACGCTGTATCTGCAAATGAACAGCCTGAGAGCTGAGGACACGGCTGTGTATTACTGTGCGAGAGCGGACACTATGGTTCGGGGAACTTATTTTGAGTACTGGGGCCAGGGAACCCTGGTCACCGTCTCCTCA\n",
      ".|||||||||||||||||||||||||||||.||||||||||||||.|||||||||||||||||||||.||||||||||||||||||.|||..||||...|||..|||||||||||||||||||||.||||||||.|||||||||||....|||....|.||||||.|..|.||||||||.|..|||||.||||||||||||||||||||||||||||||||..||||||||.|.|||||||||||||||||||||||||||||.||||||||||||||||||||||||||||||-|.|.|.....|...|.||||-||--|-|-||.||||||||||||||||||||||||||||||||||||\n",
      "GAGGTGCAGCTGGTGGAGTCTGGGGGAGGCTTGGTCCAGCCTGGGGGGTCCCTGAGACTCTCCTGTGTAGCCTCTGGATTCACCTTTAGTTTCTATTGGATGAGCTGGGTCCGCCAGGCTCCAGGAAAGGGGCTCGAGTGGGTGGCCAACATAAAGCAAGATGGAGGTGAGAAATACTATGTGGACTCTGTGAAGGGCCGATTCACCATCTCCAGAGACAACGCCAAGAACTCACTGTATCTGCAAATGAACAGCCTGAGAGCCGAGGACACGGCTGTGTATTACTGTGCGAGA-CTGTCTGGCAGCAGCTGGGA-CT--T-T-GACTACTGGGGCCAGGGAACCCTGGTCACCGTCTCCTCA\n",
      "\n",
      "CAGGTGCAGCTGGTGGAGTCTGGGGGAGGCGTGGTCCAGCCTGGGAGGTCCCTGAGACTCTCCTGTGCAGCCTCTGGATTCACCTTCAGTAGCTATGCTATGCACTGGGTCCGCCAGGCTCCAGGCAAGGGGCTGGAGTGGGTGGCAGGTATATCATATGATGGAAGCAATAAATACTACGCAGACTCCGTGAAGGGCCGATTCACCATCTCCAGAGACAATTCCAAGAACACGCTGTATCTGCAAATGAACAGCCTGAGAGCTGAGGACACGGCTGTGTATTACTGTGCGAGAGCGGACACTATGGTTCGGGGAACTTATTTTGAGTACTGGGGCCAGGGAACCCTGGTCACCGTCTCCTCA\n",
      ".|||||||||||||||||||||||||||||.||||||||||||||.|||||||||||||||||||||.||||||||||||||||||.|||..||||...|||..|||||||||||||||||||||.||||||||.|||||||||||....|||....|.||||||.|..|.||||||||.|..|||||.||||||||||||||||||||||||||||||||..||||||||.|.|||||||||||||||||||||||||||||.||||||||||||||||||||||||||||||-|.|.|.....|...|.|||-|||--|-|-||.||||||||||||||||||||||||||||||||||||\n",
      "GAGGTGCAGCTGGTGGAGTCTGGGGGAGGCTTGGTCCAGCCTGGGGGGTCCCTGAGACTCTCCTGTGTAGCCTCTGGATTCACCTTTAGTTTCTATTGGATGAGCTGGGTCCGCCAGGCTCCAGGAAAGGGGCTCGAGTGGGTGGCCAACATAAAGCAAGATGGAGGTGAGAAATACTATGTGGACTCTGTGAAGGGCCGATTCACCATCTCCAGAGACAACGCCAAGAACTCACTGTATCTGCAAATGAACAGCCTGAGAGCCGAGGACACGGCTGTGTATTACTGTGCGAGA-CTGTCTGGCAGCAGCTGGG-ACT--T-T-GACTACTGGGGCCAGGGAACCCTGGTCACCGTCTCCTCA\n",
      "\n",
      "CAGGTGCAGCTGGTGGAGTCTGGGGGAGGCGTGGTCCAGCCTGGGAGGTCCCTGAGACTCTCCTGTGCAGCCTCTGGATTCACCTTCAGTAGCTATGCTATGCACTGGGTCCGCCAGGCTCCAGGCAAGGGGCTGGAGTGGGTGGCAGGTATATCATATGATGGAAGCAATAAATACTACGCAGACTCCGTGAAGGGCCGATTCACCATCTCCAGAGACAATTCCAAGAACACGCTGTATCTGCAAATGAACAGCCTGAGAGCTGAGGACACGGCTGTGTATTACTGTGCGAGAGCGGACACTATGGTTCGGGGAACTTATTTTGAGTACTGGGGCCAGGGAACCCTGGTCACCGTCTCCTCA\n",
      ".|||||||||||||||||||||||||||||.||||||||||||||.|||||||||||||||||||||.||||||||||||||||||.|||..||||...|||..|||||||||||||||||||||.||||||||.|||||||||||....|||....|.||||||.|..|.||||||||.|..|||||.||||||||||||||||||||||||||||||||..||||||||.|.|||||||||||||||||||||||||||||.||||||||||||||||||||||||||||||-|.|.|.....|...|.||||-|-|-|-|-||.||||||||||||||||||||||||||||||||||||\n",
      "GAGGTGCAGCTGGTGGAGTCTGGGGGAGGCTTGGTCCAGCCTGGGGGGTCCCTGAGACTCTCCTGTGTAGCCTCTGGATTCACCTTTAGTTTCTATTGGATGAGCTGGGTCCGCCAGGCTCCAGGAAAGGGGCTCGAGTGGGTGGCCAACATAAAGCAAGATGGAGGTGAGAAATACTATGTGGACTCTGTGAAGGGCCGATTCACCATCTCCAGAGACAACGCCAAGAACTCACTGTATCTGCAAATGAACAGCCTGAGAGCCGAGGACACGGCTGTGTATTACTGTGCGAGA-CTGTCTGGCAGCAGCTGGGA-C-T-T-T-GACTACTGGGGCCAGGGAACCCTGGTCACCGTCTCCTCA\n",
      "\n",
      "CAGGTGCAGCTGGTGGAGTCTGGGGGAGGCGTGGTCCAGCCTGGGAGGTCCCTGAGACTCTCCTGTGCAGCCTCTGGATTCACCTTCAGTAGCTATGCTATGCACTGGGTCCGCCAGGCTCCAGGCAAGGGGCTGGAGTGGGTGGCAGGTATATCATATGATGGAAGCAATAAATACTACGCAGACTCCGTGAAGGGCCGATTCACCATCTCCAGAGACAATTCCAAGAACACGCTGTATCTGCAAATGAACAGCCTGAGAGCTGAGGACACGGCTGTGTATTACTGTGCGAGAGCGGACACTATGGTTCGGGGAACTTATTTTGAGTACTGGGGCCAGGGAACCCTGGTCACCGTCTCCTCA\n",
      ".|||||||||||||||||||||||||||||.||||||||||||||.|||||||||||||||||||||.||||||||||||||||||.|||..||||...|||..|||||||||||||||||||||.||||||||.|||||||||||....|||....|.||||||.|..|.||||||||.|..|||||.||||||||||||||||||||||||||||||||..||||||||.|.|||||||||||||||||||||||||||||.||||||||||||||||||||||||||||||-|.|.|.....|...|.|||-||-|-|-|-||.||||||||||||||||||||||||||||||||||||\n",
      "GAGGTGCAGCTGGTGGAGTCTGGGGGAGGCTTGGTCCAGCCTGGGGGGTCCCTGAGACTCTCCTGTGTAGCCTCTGGATTCACCTTTAGTTTCTATTGGATGAGCTGGGTCCGCCAGGCTCCAGGAAAGGGGCTCGAGTGGGTGGCCAACATAAAGCAAGATGGAGGTGAGAAATACTATGTGGACTCTGTGAAGGGCCGATTCACCATCTCCAGAGACAACGCCAAGAACTCACTGTATCTGCAAATGAACAGCCTGAGAGCCGAGGACACGGCTGTGTATTACTGTGCGAGA-CTGTCTGGCAGCAGCTGGG-AC-T-T-T-GACTACTGGGGCCAGGGAACCCTGGTCACCGTCTCCTCA\n",
      "\n",
      "CAGGTGCAGCTGGTGGAGTCTGGGGGAGGCGTGGTCCAGCCTGGGAGGTCCCTGAGACTCTCCTGTGCAGCCTCTGGATTCACCTTCAGTAGCTATGCTATGCACTGGGTCCGCCAGGCTCCAGGCAAGGGGCTGGAGTGGGTGGCAGGTATATCATATGATGGAAGCAATAAATACTACGCAGACTCCGTGAAGGGCCGATTCACCATCTCCAGAGACAATTCCAAGAACACGCTGTATCTGCAAATGAACAGCCTGAGAGCTGAGGACACGGCTGTGTATTACTGTGCGAGAGCGGACACTATGGTTCGGGGAACTTATTTTGAGTACTGGGGCCAGGGAACCCTGGTCACCGTCTCCTCA\n",
      ".|||||||||||||||||||||||||||||.||||||||||||||.|||||||||||||||||||||.||||||||||||||||||.|||..||||...|||..|||||||||||||||||||||.||||||||.|||||||||||....|||....|.||||||.|..|.||||||||.|..|||||.||||||||||||||||||||||||||||||||..||||||||.|.|||||||||||||||||||||||||||||.||||||||||||||||||||||||||||||-|.|.|.....|...|.||||-||---||-||.||||||||||||||||||||||||||||||||||||\n",
      "GAGGTGCAGCTGGTGGAGTCTGGGGGAGGCTTGGTCCAGCCTGGGGGGTCCCTGAGACTCTCCTGTGTAGCCTCTGGATTCACCTTTAGTTTCTATTGGATGAGCTGGGTCCGCCAGGCTCCAGGAAAGGGGCTCGAGTGGGTGGCCAACATAAAGCAAGATGGAGGTGAGAAATACTATGTGGACTCTGTGAAGGGCCGATTCACCATCTCCAGAGACAACGCCAAGAACTCACTGTATCTGCAAATGAACAGCCTGAGAGCCGAGGACACGGCTGTGTATTACTGTGCGAGA-CTGTCTGGCAGCAGCTGGGA-CT---TT-GACTACTGGGGCCAGGGAACCCTGGTCACCGTCTCCTCA\n",
      "\n",
      "CAGGTGCAGCTGGTGGAGTCTGGGGGAGGCGTGGTCCAGCCTGGGAGGTCCCTGAGACTCTCCTGTGCAGCCTCTGGATTCACCTTCAGTAGCTATGCTATGCACTGGGTCCGCCAGGCTCCAGGCAAGGGGCTGGAGTGGGTGGCAGGTATATCATATGATGGAAGCAATAAATACTACGCAGACTCCGTGAAGGGCCGATTCACCATCTCCAGAGACAATTCCAAGAACACGCTGTATCTGCAAATGAACAGCCTGAGAGCTGAGGACACGGCTGTGTATTACTGTGCGAGAGCGGACACTATGGTTCGGGGAACTTATTTTGAGTACTGGGGCCAGGGAACCCTGGTCACCGTCTCCTCA\n",
      ".|||||||||||||||||||||||||||||.||||||||||||||.|||||||||||||||||||||.||||||||||||||||||.|||..||||...|||..|||||||||||||||||||||.||||||||.|||||||||||....|||....|.||||||.|..|.||||||||.|..|||||.||||||||||||||||||||||||||||||||..||||||||.|.|||||||||||||||||||||||||||||.||||||||||||||||||||||||||||||-|.|.|.....|...|.|||-|||---||-||.||||||||||||||||||||||||||||||||||||\n",
      "GAGGTGCAGCTGGTGGAGTCTGGGGGAGGCTTGGTCCAGCCTGGGGGGTCCCTGAGACTCTCCTGTGTAGCCTCTGGATTCACCTTTAGTTTCTATTGGATGAGCTGGGTCCGCCAGGCTCCAGGAAAGGGGCTCGAGTGGGTGGCCAACATAAAGCAAGATGGAGGTGAGAAATACTATGTGGACTCTGTGAAGGGCCGATTCACCATCTCCAGAGACAACGCCAAGAACTCACTGTATCTGCAAATGAACAGCCTGAGAGCCGAGGACACGGCTGTGTATTACTGTGCGAGA-CTGTCTGGCAGCAGCTGGG-ACT---TT-GACTACTGGGGCCAGGGAACCCTGGTCACCGTCTCCTCA\n",
      "\n",
      "CAGGTGCAGCTGGTGGAGTCTGGGGGAGGCGTGGTCCAGCCTGGGAGGTCCCTGAGACTCTCCTGTGCAGCCTCTGGATTCACCTTCAGTAGCTATGCTATGCACTGGGTCCGCCAGGCTCCAGGCAAGGGGCTGGAGTGGGTGGCAGGTATATCATATGATGGAAGCAATAAATACTACGCAGACTCCGTGAAGGGCCGATTCACCATCTCCAGAGACAATTCCAAGAACACGCTGTATCTGCAAATGAACAGCCTGAGAGCTGAGGACACGGCTGTGTATTACTGTGCGAGAGCGGACACTATGGTTCGGGGAACTTATTTTGAGTACTGGGGCCAGGGAACCCTGGTCACCGTCTCCTCA\n",
      ".|||||||||||||||||||||||||||||.||||||||||||||.|||||||||||||||||||||.||||||||||||||||||.|||..||||...|||..|||||||||||||||||||||.||||||||.|||||||||||....|||....|.||||||.|..|.||||||||.|..|||||.||||||||||||||||||||||||||||||||..||||||||.|.|||||||||||||||||||||||||||||.||||||||||||||||||||||||||||||-|.|.|.....|...|.||||-|-|--||-||.||||||||||||||||||||||||||||||||||||\n",
      "GAGGTGCAGCTGGTGGAGTCTGGGGGAGGCTTGGTCCAGCCTGGGGGGTCCCTGAGACTCTCCTGTGTAGCCTCTGGATTCACCTTTAGTTTCTATTGGATGAGCTGGGTCCGCCAGGCTCCAGGAAAGGGGCTCGAGTGGGTGGCCAACATAAAGCAAGATGGAGGTGAGAAATACTATGTGGACTCTGTGAAGGGCCGATTCACCATCTCCAGAGACAACGCCAAGAACTCACTGTATCTGCAAATGAACAGCCTGAGAGCCGAGGACACGGCTGTGTATTACTGTGCGAGA-CTGTCTGGCAGCAGCTGGGA-C-T--TT-GACTACTGGGGCCAGGGAACCCTGGTCACCGTCTCCTCA\n",
      "\n",
      "CAGGTGCAGCTGGTGGAGTCTGGGGGAGGCGTGGTCCAGCCTGGGAGGTCCCTGAGACTCTCCTGTGCAGCCTCTGGATTCACCTTCAGTAGCTATGCTATGCACTGGGTCCGCCAGGCTCCAGGCAAGGGGCTGGAGTGGGTGGCAGGTATATCATATGATGGAAGCAATAAATACTACGCAGACTCCGTGAAGGGCCGATTCACCATCTCCAGAGACAATTCCAAGAACACGCTGTATCTGCAAATGAACAGCCTGAGAGCTGAGGACACGGCTGTGTATTACTGTGCGAGAGCGGACACTATGGTTCGGGGAACTTATTTTGAGTACTGGGGCCAGGGAACCCTGGTCACCGTCTCCTCA\n",
      ".|||||||||||||||||||||||||||||.||||||||||||||.|||||||||||||||||||||.||||||||||||||||||.|||..||||...|||..|||||||||||||||||||||.||||||||.|||||||||||....|||....|.||||||.|..|.||||||||.|..|||||.||||||||||||||||||||||||||||||||..||||||||.|.|||||||||||||||||||||||||||||.||||||||||||||||||||||||||||||-|.|.|.....|...|.|||-||-|--||-||.||||||||||||||||||||||||||||||||||||\n",
      "GAGGTGCAGCTGGTGGAGTCTGGGGGAGGCTTGGTCCAGCCTGGGGGGTCCCTGAGACTCTCCTGTGTAGCCTCTGGATTCACCTTTAGTTTCTATTGGATGAGCTGGGTCCGCCAGGCTCCAGGAAAGGGGCTCGAGTGGGTGGCCAACATAAAGCAAGATGGAGGTGAGAAATACTATGTGGACTCTGTGAAGGGCCGATTCACCATCTCCAGAGACAACGCCAAGAACTCACTGTATCTGCAAATGAACAGCCTGAGAGCCGAGGACACGGCTGTGTATTACTGTGCGAGA-CTGTCTGGCAGCAGCTGGG-AC-T--TT-GACTACTGGGGCCAGGGAACCCTGGTCACCGTCTCCTCA\n",
      "\n",
      "CAGGTGCAGCTGGTGGAGTCTGGGGGAGGCGTGGTCCAGCCTGGGAGGTCCCTGAGACTCTCCTGTGCAGCCTCTGGATTCACCTTCAGTAGCTATGCTATGCACTGGGTCCGCCAGGCTCCAGGCAAGGGGCTGGAGTGGGTGGCAGGTATATCATATGATGGAAGCAATAAATACTACGCAGACTCCGTGAAGGGCCGATTCACCATCTCCAGAGACAATTCCAAGAACACGCTGTATCTGCAAATGAACAGCCTGAGAGCTGAGGACACGGCTGTGTATTACTGTGCGAGAGCGGACACTATGGTTCGGGGAACTTATTTTGAGTACTGGGGCCAGGGAACCCTGGTCACCGTCTCCTCA\n",
      ".|||||||||||||||||||||||||||||.||||||||||||||.|||||||||||||||||||||.||||||||||||||||||.|||..||||...|||..|||||||||||||||||||||.||||||||.|||||||||||....|||....|.||||||.|..|.||||||||.|..|||||.||||||||||||||||||||||||||||||||..||||||||.|.|||||||||||||||||||||||||||||.||||||||||||||||||||||||||||||-|.|.|.....|...|.||||-|---|||-||.||||||||||||||||||||||||||||||||||||\n",
      "GAGGTGCAGCTGGTGGAGTCTGGGGGAGGCTTGGTCCAGCCTGGGGGGTCCCTGAGACTCTCCTGTGTAGCCTCTGGATTCACCTTTAGTTTCTATTGGATGAGCTGGGTCCGCCAGGCTCCAGGAAAGGGGCTCGAGTGGGTGGCCAACATAAAGCAAGATGGAGGTGAGAAATACTATGTGGACTCTGTGAAGGGCCGATTCACCATCTCCAGAGACAACGCCAAGAACTCACTGTATCTGCAAATGAACAGCCTGAGAGCCGAGGACACGGCTGTGTATTACTGTGCGAGA-CTGTCTGGCAGCAGCTGGGA-C---TTT-GACTACTGGGGCCAGGGAACCCTGGTCACCGTCTCCTCA\n",
      "\n",
      "CAGGTGCAGCTGGTGGAGTCTGGGGGAGGCGTGGTCCAGCCTGGGAGGTCCCTGAGACTCTCCTGTGCAGCCTCTGGATTCACCTTCAGTAGCTATGCTATGCACTGGGTCCGCCAGGCTCCAGGCAAGGGGCTGGAGTGGGTGGCAGGTATATCATATGATGGAAGCAATAAATACTACGCAGACTCCGTGAAGGGCCGATTCACCATCTCCAGAGACAATTCCAAGAACACGCTGTATCTGCAAATGAACAGCCTGAGAGCTGAGGACACGGCTGTGTATTACTGTGCGAGAGCGGACACTATGGTTCGGGGAACTTATTTTGAGTACTGGGGCCAGGGAACCCTGGTCACCGTCTCCTCA\n",
      ".|||||||||||||||||||||||||||||.||||||||||||||.|||||||||||||||||||||.||||||||||||||||||.|||..||||...|||..|||||||||||||||||||||.||||||||.|||||||||||....|||....|.||||||.|..|.||||||||.|..|||||.||||||||||||||||||||||||||||||||..||||||||.|.|||||||||||||||||||||||||||||.||||||||||||||||||||||||||||||-|.|.|.....|...|.|||-||---|||-||.||||||||||||||||||||||||||||||||||||\n",
      "GAGGTGCAGCTGGTGGAGTCTGGGGGAGGCTTGGTCCAGCCTGGGGGGTCCCTGAGACTCTCCTGTGTAGCCTCTGGATTCACCTTTAGTTTCTATTGGATGAGCTGGGTCCGCCAGGCTCCAGGAAAGGGGCTCGAGTGGGTGGCCAACATAAAGCAAGATGGAGGTGAGAAATACTATGTGGACTCTGTGAAGGGCCGATTCACCATCTCCAGAGACAACGCCAAGAACTCACTGTATCTGCAAATGAACAGCCTGAGAGCCGAGGACACGGCTGTGTATTACTGTGCGAGA-CTGTCTGGCAGCAGCTGGG-AC---TTT-GACTACTGGGGCCAGGGAACCCTGGTCACCGTCTCCTCA\n",
      "\n",
      "CAGGTGCAGCTGGTGGAGTCTGGGGGAGGCGTGGTCCAGCCTGGGAGGTCCCTGAGACTCTCCTGTGCAGCCTCTGGATTCACCTTCAGTAGCTATGCTATGCACTGGGTCCGCCAGGCTCCAGGCAAGGGGCTGGAGTGGGTGGCAGGTATATCATATGATGGAAGCAATAAATACTACGCAGACTCCGTGAAGGGCCGATTCACCATCTCCAGAGACAATTCCAAGAACACGCTGTATCTGCAAATGAACAGCCTGAGAGCTGAGGACACGGCTGTGTATTACTGTGCGAGAGCGGACACTATGGTTCGGGGAACTTATTTTGAGTACTGGGGCCAGGGAACCCTGGTCACCGTCTCCTCA\n",
      ".|||||||||||||||||||||||||||||.||||||||||||||.|||||||||||||||||||||.||||||||||||||||||.|||..||||...|||..|||||||||||||||||||||.||||||||.|||||||||||....|||....|.||||||.|..|.||||||||.|..|||||.||||||||||||||||||||||||||||||||..||||||||.|.|||||||||||||||||||||||||||||.||||||||||||||||||||||||||||||-|.|.|.....|...|.||||-|||----|||.||||||||||||||||||||||||||||||||||||\n",
      "GAGGTGCAGCTGGTGGAGTCTGGGGGAGGCTTGGTCCAGCCTGGGGGGTCCCTGAGACTCTCCTGTGTAGCCTCTGGATTCACCTTTAGTTTCTATTGGATGAGCTGGGTCCGCCAGGCTCCAGGAAAGGGGCTCGAGTGGGTGGCCAACATAAAGCAAGATGGAGGTGAGAAATACTATGTGGACTCTGTGAAGGGCCGATTCACCATCTCCAGAGACAACGCCAAGAACTCACTGTATCTGCAAATGAACAGCCTGAGAGCCGAGGACACGGCTGTGTATTACTGTGCGAGA-CTGTCTGGCAGCAGCTGGGA-CTT----TGACTACTGGGGCCAGGGAACCCTGGTCACCGTCTCCTCA\n",
      "\n",
      "CAGGTGCAGCTGGTGGAGTCTGGGGGAGGCGTGGTCCAGCCTGGGAGGTCCCTGAGACTCTCCTGTGCAGCCTCTGGATTCACCTTCAGTAGCTATGCTATGCACTGGGTCCGCCAGGCTCCAGGCAAGGGGCTGGAGTGGGTGGCAGGTATATCATATGATGGAAGCAATAAATACTACGCAGACTCCGTGAAGGGCCGATTCACCATCTCCAGAGACAATTCCAAGAACACGCTGTATCTGCAAATGAACAGCCTGAGAGCTGAGGACACGGCTGTGTATTACTGTGCGAGAGCGGACACTATGGTTCGGGGAACTTATTTTGAGTACTGGGGCCAGGGAACCCTGGTCACCGTCTCCTCA\n",
      ".|||||||||||||||||||||||||||||.||||||||||||||.|||||||||||||||||||||.||||||||||||||||||.|||..||||...|||..|||||||||||||||||||||.||||||||.|||||||||||....|||....|.||||||.|..|.||||||||.|..|||||.||||||||||||||||||||||||||||||||..||||||||.|.|||||||||||||||||||||||||||||.||||||||||||||||||||||||||||||-|.|.|.....|...|.|||-||||----|||.||||||||||||||||||||||||||||||||||||\n",
      "GAGGTGCAGCTGGTGGAGTCTGGGGGAGGCTTGGTCCAGCCTGGGGGGTCCCTGAGACTCTCCTGTGTAGCCTCTGGATTCACCTTTAGTTTCTATTGGATGAGCTGGGTCCGCCAGGCTCCAGGAAAGGGGCTCGAGTGGGTGGCCAACATAAAGCAAGATGGAGGTGAGAAATACTATGTGGACTCTGTGAAGGGCCGATTCACCATCTCCAGAGACAACGCCAAGAACTCACTGTATCTGCAAATGAACAGCCTGAGAGCCGAGGACACGGCTGTGTATTACTGTGCGAGA-CTGTCTGGCAGCAGCTGGG-ACTT----TGACTACTGGGGCCAGGGAACCCTGGTCACCGTCTCCTCA\n",
      "\n",
      "CAGGTGCAGCTGGTGGAGTCTGGGGGAGGCGTGGTCCAGCCTGGGAGGTCCCTGAGACTCTCCTGTGCAGCCTCTGGATTCACCTTCAGTAGCTATGCTATGCACTGGGTCCGCCAGGCTCCAGGCAAGGGGCTGGAGTGGGTGGCAGGTATATCATATGATGGAAGCAATAAATACTACGCAGACTCCGTGAAGGGCCGATTCACCATCTCCAGAGACAATTCCAAGAACACGCTGTATCTGCAAATGAACAGCCTGAGAGCTGAGGACACGGCTGTGTATTACTGTGCGAGAGCGGACACTATGGTTCGGGGAACTTATTTTGAGTACTGGGGCCAGGGAACCCTGGTCACCGTCTCCTCA\n",
      ".|||||||||||||||||||||||||||||.||||||||||||||.|||||||||||||||||||||.||||||||||||||||||.|||..||||...|||..|||||||||||||||||||||.||||||||.|||||||||||....|||....|.||||||.|..|.||||||||.|..|||||.||||||||||||||||||||||||||||||||..||||||||.|.|||||||||||||||||||||||||||||.||||||||||||||||||||||||||||||-|.|.|.....|...|.||||-||--|--|||.||||||||||||||||||||||||||||||||||||\n",
      "GAGGTGCAGCTGGTGGAGTCTGGGGGAGGCTTGGTCCAGCCTGGGGGGTCCCTGAGACTCTCCTGTGTAGCCTCTGGATTCACCTTTAGTTTCTATTGGATGAGCTGGGTCCGCCAGGCTCCAGGAAAGGGGCTCGAGTGGGTGGCCAACATAAAGCAAGATGGAGGTGAGAAATACTATGTGGACTCTGTGAAGGGCCGATTCACCATCTCCAGAGACAACGCCAAGAACTCACTGTATCTGCAAATGAACAGCCTGAGAGCCGAGGACACGGCTGTGTATTACTGTGCGAGA-CTGTCTGGCAGCAGCTGGGA-CT--T--TGACTACTGGGGCCAGGGAACCCTGGTCACCGTCTCCTCA\n",
      "\n",
      "CAGGTGCAGCTGGTGGAGTCTGGGGGAGGCGTGGTCCAGCCTGGGAGGTCCCTGAGACTCTCCTGTGCAGCCTCTGGATTCACCTTCAGTAGCTATGCTATGCACTGGGTCCGCCAGGCTCCAGGCAAGGGGCTGGAGTGGGTGGCAGGTATATCATATGATGGAAGCAATAAATACTACGCAGACTCCGTGAAGGGCCGATTCACCATCTCCAGAGACAATTCCAAGAACACGCTGTATCTGCAAATGAACAGCCTGAGAGCTGAGGACACGGCTGTGTATTACTGTGCGAGAGCGGACACTATGGTTCGGGGAACTTATTTTGAGTACTGGGGCCAGGGAACCCTGGTCACCGTCTCCTCA\n",
      ".|||||||||||||||||||||||||||||.||||||||||||||.|||||||||||||||||||||.||||||||||||||||||.|||..||||...|||..|||||||||||||||||||||.||||||||.|||||||||||....|||....|.||||||.|..|.||||||||.|..|||||.||||||||||||||||||||||||||||||||..||||||||.|.|||||||||||||||||||||||||||||.||||||||||||||||||||||||||||||-|.|.|.....|...|.|||-|||--|--|||.||||||||||||||||||||||||||||||||||||\n",
      "GAGGTGCAGCTGGTGGAGTCTGGGGGAGGCTTGGTCCAGCCTGGGGGGTCCCTGAGACTCTCCTGTGTAGCCTCTGGATTCACCTTTAGTTTCTATTGGATGAGCTGGGTCCGCCAGGCTCCAGGAAAGGGGCTCGAGTGGGTGGCCAACATAAAGCAAGATGGAGGTGAGAAATACTATGTGGACTCTGTGAAGGGCCGATTCACCATCTCCAGAGACAACGCCAAGAACTCACTGTATCTGCAAATGAACAGCCTGAGAGCCGAGGACACGGCTGTGTATTACTGTGCGAGA-CTGTCTGGCAGCAGCTGGG-ACT--T--TGACTACTGGGGCCAGGGAACCCTGGTCACCGTCTCCTCA\n",
      "\n",
      "CAGGTGCAGCTGGTGGAGTCTGGGGGAGGCGTGGTCCAGCCTGGGAGGTCCCTGAGACTCTCCTGTGCAGCCTCTGGATTCACCTTCAGTAGCTATGCTATGCACTGGGTCCGCCAGGCTCCAGGCAAGGGGCTGGAGTGGGTGGCAGGTATATCATATGATGGAAGCAATAAATACTACGCAGACTCCGTGAAGGGCCGATTCACCATCTCCAGAGACAATTCCAAGAACACGCTGTATCTGCAAATGAACAGCCTGAGAGCTGAGGACACGGCTGTGTATTACTGTGCGAGAGCGGACACTATGGTTCGGGGAACTTATTTTGAGTACTGGGGCCAGGGAACCCTGGTCACCGTCTCCTCA\n",
      ".|||||||||||||||||||||||||||||.||||||||||||||.|||||||||||||||||||||.||||||||||||||||||.|||..||||...|||..|||||||||||||||||||||.||||||||.|||||||||||....|||....|.||||||.|..|.||||||||.|..|||||.||||||||||||||||||||||||||||||||..||||||||.|.|||||||||||||||||||||||||||||.||||||||||||||||||||||||||||||-|.|.|.....|...|.||||-|-|-|--|||.||||||||||||||||||||||||||||||||||||\n",
      "GAGGTGCAGCTGGTGGAGTCTGGGGGAGGCTTGGTCCAGCCTGGGGGGTCCCTGAGACTCTCCTGTGTAGCCTCTGGATTCACCTTTAGTTTCTATTGGATGAGCTGGGTCCGCCAGGCTCCAGGAAAGGGGCTCGAGTGGGTGGCCAACATAAAGCAAGATGGAGGTGAGAAATACTATGTGGACTCTGTGAAGGGCCGATTCACCATCTCCAGAGACAACGCCAAGAACTCACTGTATCTGCAAATGAACAGCCTGAGAGCCGAGGACACGGCTGTGTATTACTGTGCGAGA-CTGTCTGGCAGCAGCTGGGA-C-T-T--TGACTACTGGGGCCAGGGAACCCTGGTCACCGTCTCCTCA\n",
      "\n",
      "CAGGTGCAGCTGGTGGAGTCTGGGGGAGGCGTGGTCCAGCCTGGGAGGTCCCTGAGACTCTCCTGTGCAGCCTCTGGATTCACCTTCAGTAGCTATGCTATGCACTGGGTCCGCCAGGCTCCAGGCAAGGGGCTGGAGTGGGTGGCAGGTATATCATATGATGGAAGCAATAAATACTACGCAGACTCCGTGAAGGGCCGATTCACCATCTCCAGAGACAATTCCAAGAACACGCTGTATCTGCAAATGAACAGCCTGAGAGCTGAGGACACGGCTGTGTATTACTGTGCGAGAGCGGACACTATGGTTCGGGGAACTTATTTTGAGTACTGGGGCCAGGGAACCCTGGTCACCGTCTCCTCA\n",
      ".|||||||||||||||||||||||||||||.||||||||||||||.|||||||||||||||||||||.||||||||||||||||||.|||..||||...|||..|||||||||||||||||||||.||||||||.|||||||||||....|||....|.||||||.|..|.||||||||.|..|||||.||||||||||||||||||||||||||||||||..||||||||.|.|||||||||||||||||||||||||||||.||||||||||||||||||||||||||||||-|.|.|.....|...|.|||-||-|-|--|||.||||||||||||||||||||||||||||||||||||\n",
      "GAGGTGCAGCTGGTGGAGTCTGGGGGAGGCTTGGTCCAGCCTGGGGGGTCCCTGAGACTCTCCTGTGTAGCCTCTGGATTCACCTTTAGTTTCTATTGGATGAGCTGGGTCCGCCAGGCTCCAGGAAAGGGGCTCGAGTGGGTGGCCAACATAAAGCAAGATGGAGGTGAGAAATACTATGTGGACTCTGTGAAGGGCCGATTCACCATCTCCAGAGACAACGCCAAGAACTCACTGTATCTGCAAATGAACAGCCTGAGAGCCGAGGACACGGCTGTGTATTACTGTGCGAGA-CTGTCTGGCAGCAGCTGGG-AC-T-T--TGACTACTGGGGCCAGGGAACCCTGGTCACCGTCTCCTCA\n",
      "\n",
      "CAGGTGCAGCTGGTGGAGTCTGGGGGAGGCGTGGTCCAGCCTGGGAGGTCCCTGAGACTCTCCTGTGCAGCCTCTGGATTCACCTTCAGTAGCTATGCTATGCACTGGGTCCGCCAGGCTCCAGGCAAGGGGCTGGAGTGGGTGGCAGGTATATCATATGATGGAAGCAATAAATACTACGCAGACTCCGTGAAGGGCCGATTCACCATCTCCAGAGACAATTCCAAGAACACGCTGTATCTGCAAATGAACAGCCTGAGAGCTGAGGACACGGCTGTGTATTACTGTGCGAGAGCGGACACTATGGTTCGGGGAACTTATTTTGAGTACTGGGGCCAGGGAACCCTGGTCACCGTCTCCTCA\n",
      ".|||||||||||||||||||||||||||||.||||||||||||||.|||||||||||||||||||||.||||||||||||||||||.|||..||||...|||..|||||||||||||||||||||.||||||||.|||||||||||....|||....|.||||||.|..|.||||||||.|..|||||.||||||||||||||||||||||||||||||||..||||||||.|.|||||||||||||||||||||||||||||.||||||||||||||||||||||||||||||-|.|.|.....|...|.||||-||---|-|||.||||||||||||||||||||||||||||||||||||\n",
      "GAGGTGCAGCTGGTGGAGTCTGGGGGAGGCTTGGTCCAGCCTGGGGGGTCCCTGAGACTCTCCTGTGTAGCCTCTGGATTCACCTTTAGTTTCTATTGGATGAGCTGGGTCCGCCAGGCTCCAGGAAAGGGGCTCGAGTGGGTGGCCAACATAAAGCAAGATGGAGGTGAGAAATACTATGTGGACTCTGTGAAGGGCCGATTCACCATCTCCAGAGACAACGCCAAGAACTCACTGTATCTGCAAATGAACAGCCTGAGAGCCGAGGACACGGCTGTGTATTACTGTGCGAGA-CTGTCTGGCAGCAGCTGGGA-CT---T-TGACTACTGGGGCCAGGGAACCCTGGTCACCGTCTCCTCA\n",
      "\n",
      "CAGGTGCAGCTGGTGGAGTCTGGGGGAGGCGTGGTCCAGCCTGGGAGGTCCCTGAGACTCTCCTGTGCAGCCTCTGGATTCACCTTCAGTAGCTATGCTATGCACTGGGTCCGCCAGGCTCCAGGCAAGGGGCTGGAGTGGGTGGCAGGTATATCATATGATGGAAGCAATAAATACTACGCAGACTCCGTGAAGGGCCGATTCACCATCTCCAGAGACAATTCCAAGAACACGCTGTATCTGCAAATGAACAGCCTGAGAGCTGAGGACACGGCTGTGTATTACTGTGCGAGAGCGGACACTATGGTTCGGGGAACTTATTTTGAGTACTGGGGCCAGGGAACCCTGGTCACCGTCTCCTCA\n",
      ".|||||||||||||||||||||||||||||.||||||||||||||.|||||||||||||||||||||.||||||||||||||||||.|||..||||...|||..|||||||||||||||||||||.||||||||.|||||||||||....|||....|.||||||.|..|.||||||||.|..|||||.||||||||||||||||||||||||||||||||..||||||||.|.|||||||||||||||||||||||||||||.||||||||||||||||||||||||||||||-|.|.|.....|...|.|||-|||---|-|||.||||||||||||||||||||||||||||||||||||\n",
      "GAGGTGCAGCTGGTGGAGTCTGGGGGAGGCTTGGTCCAGCCTGGGGGGTCCCTGAGACTCTCCTGTGTAGCCTCTGGATTCACCTTTAGTTTCTATTGGATGAGCTGGGTCCGCCAGGCTCCAGGAAAGGGGCTCGAGTGGGTGGCCAACATAAAGCAAGATGGAGGTGAGAAATACTATGTGGACTCTGTGAAGGGCCGATTCACCATCTCCAGAGACAACGCCAAGAACTCACTGTATCTGCAAATGAACAGCCTGAGAGCCGAGGACACGGCTGTGTATTACTGTGCGAGA-CTGTCTGGCAGCAGCTGGG-ACT---T-TGACTACTGGGGCCAGGGAACCCTGGTCACCGTCTCCTCA\n",
      "\n",
      "CAGGTGCAGCTGGTGGAGTCTGGGGGAGGCGTGGTCCAGCCTGGGAGGTCCCTGAGACTCTCCTGTGCAGCCTCTGGATTCACCTTCAGTAGCTATGCTATGCACTGGGTCCGCCAGGCTCCAGGCAAGGGGCTGGAGTGGGTGGCAGGTATATCATATGATGGAAGCAATAAATACTACGCAGACTCCGTGAAGGGCCGATTCACCATCTCCAGAGACAATTCCAAGAACACGCTGTATCTGCAAATGAACAGCCTGAGAGCTGAGGACACGGCTGTGTATTACTGTGCGAGAGCGGACACTATGGTTCGGGGAACTTATTTTGAGTACTGGGGCCAGGGAACCCTGGTCACCGTCTCCTCA\n",
      ".|||||||||||||||||||||||||||||.||||||||||||||.|||||||||||||||||||||.||||||||||||||||||.|||..||||...|||..|||||||||||||||||||||.||||||||.|||||||||||....|||....|.||||||.|..|.||||||||.|..|||||.||||||||||||||||||||||||||||||||..||||||||.|.|||||||||||||||||||||||||||||.||||||||||||||||||||||||||||||-|.|.|.....|...|.||||-|-|--|-|||.||||||||||||||||||||||||||||||||||||\n",
      "GAGGTGCAGCTGGTGGAGTCTGGGGGAGGCTTGGTCCAGCCTGGGGGGTCCCTGAGACTCTCCTGTGTAGCCTCTGGATTCACCTTTAGTTTCTATTGGATGAGCTGGGTCCGCCAGGCTCCAGGAAAGGGGCTCGAGTGGGTGGCCAACATAAAGCAAGATGGAGGTGAGAAATACTATGTGGACTCTGTGAAGGGCCGATTCACCATCTCCAGAGACAACGCCAAGAACTCACTGTATCTGCAAATGAACAGCCTGAGAGCCGAGGACACGGCTGTGTATTACTGTGCGAGA-CTGTCTGGCAGCAGCTGGGA-C-T--T-TGACTACTGGGGCCAGGGAACCCTGGTCACCGTCTCCTCA\n",
      "\n",
      "CAGGTGCAGCTGGTGGAGTCTGGGGGAGGCGTGGTCCAGCCTGGGAGGTCCCTGAGACTCTCCTGTGCAGCCTCTGGATTCACCTTCAGTAGCTATGCTATGCACTGGGTCCGCCAGGCTCCAGGCAAGGGGCTGGAGTGGGTGGCAGGTATATCATATGATGGAAGCAATAAATACTACGCAGACTCCGTGAAGGGCCGATTCACCATCTCCAGAGACAATTCCAAGAACACGCTGTATCTGCAAATGAACAGCCTGAGAGCTGAGGACACGGCTGTGTATTACTGTGCGAGAGCGGACACTATGGTTCGGGGAACTTATTTTGAGTACTGGGGCCAGGGAACCCTGGTCACCGTCTCCTCA\n",
      ".|||||||||||||||||||||||||||||.||||||||||||||.|||||||||||||||||||||.||||||||||||||||||.|||..||||...|||..|||||||||||||||||||||.||||||||.|||||||||||....|||....|.||||||.|..|.||||||||.|..|||||.||||||||||||||||||||||||||||||||..||||||||.|.|||||||||||||||||||||||||||||.||||||||||||||||||||||||||||||-|.|.|.....|...|.|||-||-|--|-|||.||||||||||||||||||||||||||||||||||||\n",
      "GAGGTGCAGCTGGTGGAGTCTGGGGGAGGCTTGGTCCAGCCTGGGGGGTCCCTGAGACTCTCCTGTGTAGCCTCTGGATTCACCTTTAGTTTCTATTGGATGAGCTGGGTCCGCCAGGCTCCAGGAAAGGGGCTCGAGTGGGTGGCCAACATAAAGCAAGATGGAGGTGAGAAATACTATGTGGACTCTGTGAAGGGCCGATTCACCATCTCCAGAGACAACGCCAAGAACTCACTGTATCTGCAAATGAACAGCCTGAGAGCCGAGGACACGGCTGTGTATTACTGTGCGAGA-CTGTCTGGCAGCAGCTGGG-AC-T--T-TGACTACTGGGGCCAGGGAACCCTGGTCACCGTCTCCTCA\n",
      "\n",
      "CAGGTGCAGCTGGTGGAGTCTGGGGGAGGCGTGGTCCAGCCTGGGAGGTCCCTGAGACTCTCCTGTGCAGCCTCTGGATTCACCTTCAGTAGCTATGCTATGCACTGGGTCCGCCAGGCTCCAGGCAAGGGGCTGGAGTGGGTGGCAGGTATATCATATGATGGAAGCAATAAATACTACGCAGACTCCGTGAAGGGCCGATTCACCATCTCCAGAGACAATTCCAAGAACACGCTGTATCTGCAAATGAACAGCCTGAGAGCTGAGGACACGGCTGTGTATTACTGTGCGAGAGCGGACACTATGGTTCGGGGAACTTATTTTGAGTACTGGGGCCAGGGAACCCTGGTCACCGTCTCCTCA\n",
      ".|||||||||||||||||||||||||||||.||||||||||||||.|||||||||||||||||||||.||||||||||||||||||.|||..||||...|||..|||||||||||||||||||||.||||||||.|||||||||||....|||....|.||||||.|..|.||||||||.|..|||||.||||||||||||||||||||||||||||||||..||||||||.|.|||||||||||||||||||||||||||||.||||||||||||||||||||||||||||||-|.|.|.....|...|.||||-|---||-|||.||||||||||||||||||||||||||||||||||||\n",
      "GAGGTGCAGCTGGTGGAGTCTGGGGGAGGCTTGGTCCAGCCTGGGGGGTCCCTGAGACTCTCCTGTGTAGCCTCTGGATTCACCTTTAGTTTCTATTGGATGAGCTGGGTCCGCCAGGCTCCAGGAAAGGGGCTCGAGTGGGTGGCCAACATAAAGCAAGATGGAGGTGAGAAATACTATGTGGACTCTGTGAAGGGCCGATTCACCATCTCCAGAGACAACGCCAAGAACTCACTGTATCTGCAAATGAACAGCCTGAGAGCCGAGGACACGGCTGTGTATTACTGTGCGAGA-CTGTCTGGCAGCAGCTGGGA-C---TT-TGACTACTGGGGCCAGGGAACCCTGGTCACCGTCTCCTCA\n",
      "\n",
      "CAGGTGCAGCTGGTGGAGTCTGGGGGAGGCGTGGTCCAGCCTGGGAGGTCCCTGAGACTCTCCTGTGCAGCCTCTGGATTCACCTTCAGTAGCTATGCTATGCACTGGGTCCGCCAGGCTCCAGGCAAGGGGCTGGAGTGGGTGGCAGGTATATCATATGATGGAAGCAATAAATACTACGCAGACTCCGTGAAGGGCCGATTCACCATCTCCAGAGACAATTCCAAGAACACGCTGTATCTGCAAATGAACAGCCTGAGAGCTGAGGACACGGCTGTGTATTACTGTGCGAGAGCGGACACTATGGTTCGGGGAACTTATTTTGAGTACTGGGGCCAGGGAACCCTGGTCACCGTCTCCTCA\n",
      ".|||||||||||||||||||||||||||||.||||||||||||||.|||||||||||||||||||||.||||||||||||||||||.|||..||||...|||..|||||||||||||||||||||.||||||||.|||||||||||....|||....|.||||||.|..|.||||||||.|..|||||.||||||||||||||||||||||||||||||||..||||||||.|.|||||||||||||||||||||||||||||.||||||||||||||||||||||||||||||-|.|.|.....|...|.|||-||---||-|||.||||||||||||||||||||||||||||||||||||\n",
      "GAGGTGCAGCTGGTGGAGTCTGGGGGAGGCTTGGTCCAGCCTGGGGGGTCCCTGAGACTCTCCTGTGTAGCCTCTGGATTCACCTTTAGTTTCTATTGGATGAGCTGGGTCCGCCAGGCTCCAGGAAAGGGGCTCGAGTGGGTGGCCAACATAAAGCAAGATGGAGGTGAGAAATACTATGTGGACTCTGTGAAGGGCCGATTCACCATCTCCAGAGACAACGCCAAGAACTCACTGTATCTGCAAATGAACAGCCTGAGAGCCGAGGACACGGCTGTGTATTACTGTGCGAGA-CTGTCTGGCAGCAGCTGGG-AC---TT-TGACTACTGGGGCCAGGGAACCCTGGTCACCGTCTCCTCA\n",
      "\n",
      "CAGGTGCAGCTGGTGGAGTCTGGGGGAGGCGTGGTCCAGCCTGGGAGGTCCCTGAGACTCTCCTGTGCAGCCTCTGGATTCACCTTCAGTAGCTATGCTATGCACTGGGTCCGCCAGGCTCCAGGCAAGGGGCTGGAGTGGGTGGCAGGTATATCATATGATGGAAGCAATAAATACTACGCAGACTCCGTGAAGGGCCGATTCACCATCTCCAGAGACAATTCCAAGAACACGCTGTATCTGCAAATGAACAGCCTGAGAGCTGAGGACACGGCTGTGTATTACTGTGCGAGAGCGGACACTATGGTTCGGGGAACTTATTTTGAGTACTGGGGCCAGGGAACCCTGGTCACCGTCTCCTCA\n",
      ".|||||||||||||||||||||||||||||.||||||||||||||.|||||||||||||||||||||.||||||||||||||||||.|||..||||...|||..|||||||||||||||||||||.||||||||.|||||||||||....|||....|.||||||.|..|.||||||||.|..|||||.||||||||||||||||||||||||||||||||..||||||||.|.|||||||||||||||||||||||||||||.||||||||||||||||||||||||||||||-|.|.|.....|...|.||||-||----||||.||||||||||||||||||||||||||||||||||||\n",
      "GAGGTGCAGCTGGTGGAGTCTGGGGGAGGCTTGGTCCAGCCTGGGGGGTCCCTGAGACTCTCCTGTGTAGCCTCTGGATTCACCTTTAGTTTCTATTGGATGAGCTGGGTCCGCCAGGCTCCAGGAAAGGGGCTCGAGTGGGTGGCCAACATAAAGCAAGATGGAGGTGAGAAATACTATGTGGACTCTGTGAAGGGCCGATTCACCATCTCCAGAGACAACGCCAAGAACTCACTGTATCTGCAAATGAACAGCCTGAGAGCCGAGGACACGGCTGTGTATTACTGTGCGAGA-CTGTCTGGCAGCAGCTGGGA-CT----TTGACTACTGGGGCCAGGGAACCCTGGTCACCGTCTCCTCA\n",
      "\n",
      "CAGGTGCAGCTGGTGGAGTCTGGGGGAGGCGTGGTCCAGCCTGGGAGGTCCCTGAGACTCTCCTGTGCAGCCTCTGGATTCACCTTCAGTAGCTATGCTATGCACTGGGTCCGCCAGGCTCCAGGCAAGGGGCTGGAGTGGGTGGCAGGTATATCATATGATGGAAGCAATAAATACTACGCAGACTCCGTGAAGGGCCGATTCACCATCTCCAGAGACAATTCCAAGAACACGCTGTATCTGCAAATGAACAGCCTGAGAGCTGAGGACACGGCTGTGTATTACTGTGCGAGAGCGGACACTATGGTTCGGGGAACTTATTTTGAGTACTGGGGCCAGGGAACCCTGGTCACCGTCTCCTCA\n",
      ".|||||||||||||||||||||||||||||.||||||||||||||.|||||||||||||||||||||.||||||||||||||||||.|||..||||...|||..|||||||||||||||||||||.||||||||.|||||||||||....|||....|.||||||.|..|.||||||||.|..|||||.||||||||||||||||||||||||||||||||..||||||||.|.|||||||||||||||||||||||||||||.||||||||||||||||||||||||||||||-|.|.|.....|...|.|||-|||----||||.||||||||||||||||||||||||||||||||||||\n",
      "GAGGTGCAGCTGGTGGAGTCTGGGGGAGGCTTGGTCCAGCCTGGGGGGTCCCTGAGACTCTCCTGTGTAGCCTCTGGATTCACCTTTAGTTTCTATTGGATGAGCTGGGTCCGCCAGGCTCCAGGAAAGGGGCTCGAGTGGGTGGCCAACATAAAGCAAGATGGAGGTGAGAAATACTATGTGGACTCTGTGAAGGGCCGATTCACCATCTCCAGAGACAACGCCAAGAACTCACTGTATCTGCAAATGAACAGCCTGAGAGCCGAGGACACGGCTGTGTATTACTGTGCGAGA-CTGTCTGGCAGCAGCTGGG-ACT----TTGACTACTGGGGCCAGGGAACCCTGGTCACCGTCTCCTCA\n",
      "\n",
      "CAGGTGCAGCTGGTGGAGTCTGGGGGAGGCGTGGTCCAGCCTGGGAGGTCCCTGAGACTCTCCTGTGCAGCCTCTGGATTCACCTTCAGTAGCTATGCTATGCACTGGGTCCGCCAGGCTCCAGGCAAGGGGCTGGAGTGGGTGGCAGGTATATCATATGATGGAAGCAATAAATACTACGCAGACTCCGTGAAGGGCCGATTCACCATCTCCAGAGACAATTCCAAGAACACGCTGTATCTGCAAATGAACAGCCTGAGAGCTGAGGACACGGCTGTGTATTACTGTGCGAGAGCGGACACTATGGTTCGGGGAACTTATTTTGAGTACTGGGGCCAGGGAACCCTGGTCACCGTCTCCTCA\n",
      ".|||||||||||||||||||||||||||||.||||||||||||||.|||||||||||||||||||||.||||||||||||||||||.|||..||||...|||..|||||||||||||||||||||.||||||||.|||||||||||....|||....|.||||||.|..|.||||||||.|..|||||.||||||||||||||||||||||||||||||||..||||||||.|.|||||||||||||||||||||||||||||.||||||||||||||||||||||||||||||-|.|.|.....|...|.||||-|-|---||||.||||||||||||||||||||||||||||||||||||\n",
      "GAGGTGCAGCTGGTGGAGTCTGGGGGAGGCTTGGTCCAGCCTGGGGGGTCCCTGAGACTCTCCTGTGTAGCCTCTGGATTCACCTTTAGTTTCTATTGGATGAGCTGGGTCCGCCAGGCTCCAGGAAAGGGGCTCGAGTGGGTGGCCAACATAAAGCAAGATGGAGGTGAGAAATACTATGTGGACTCTGTGAAGGGCCGATTCACCATCTCCAGAGACAACGCCAAGAACTCACTGTATCTGCAAATGAACAGCCTGAGAGCCGAGGACACGGCTGTGTATTACTGTGCGAGA-CTGTCTGGCAGCAGCTGGGA-C-T---TTGACTACTGGGGCCAGGGAACCCTGGTCACCGTCTCCTCA\n",
      "\n",
      "CAGGTGCAGCTGGTGGAGTCTGGGGGAGGCGTGGTCCAGCCTGGGAGGTCCCTGAGACTCTCCTGTGCAGCCTCTGGATTCACCTTCAGTAGCTATGCTATGCACTGGGTCCGCCAGGCTCCAGGCAAGGGGCTGGAGTGGGTGGCAGGTATATCATATGATGGAAGCAATAAATACTACGCAGACTCCGTGAAGGGCCGATTCACCATCTCCAGAGACAATTCCAAGAACACGCTGTATCTGCAAATGAACAGCCTGAGAGCTGAGGACACGGCTGTGTATTACTGTGCGAGAGCGGACACTATGGTTCGGGGAACTTATTTTGAGTACTGGGGCCAGGGAACCCTGGTCACCGTCTCCTCA\n",
      ".|||||||||||||||||||||||||||||.||||||||||||||.|||||||||||||||||||||.||||||||||||||||||.|||..||||...|||..|||||||||||||||||||||.||||||||.|||||||||||....|||....|.||||||.|..|.||||||||.|..|||||.||||||||||||||||||||||||||||||||..||||||||.|.|||||||||||||||||||||||||||||.||||||||||||||||||||||||||||||-|.|.|.....|...|.|||-||-|---||||.||||||||||||||||||||||||||||||||||||\n",
      "GAGGTGCAGCTGGTGGAGTCTGGGGGAGGCTTGGTCCAGCCTGGGGGGTCCCTGAGACTCTCCTGTGTAGCCTCTGGATTCACCTTTAGTTTCTATTGGATGAGCTGGGTCCGCCAGGCTCCAGGAAAGGGGCTCGAGTGGGTGGCCAACATAAAGCAAGATGGAGGTGAGAAATACTATGTGGACTCTGTGAAGGGCCGATTCACCATCTCCAGAGACAACGCCAAGAACTCACTGTATCTGCAAATGAACAGCCTGAGAGCCGAGGACACGGCTGTGTATTACTGTGCGAGA-CTGTCTGGCAGCAGCTGGG-AC-T---TTGACTACTGGGGCCAGGGAACCCTGGTCACCGTCTCCTCA\n",
      "\n",
      "CAGGTGCAGCTGGTGGAGTCTGGGGGAGGCGTGGTCCAGCCTGGGAGGTCCCTGAGACTCTCCTGTGCAGCCTCTGGATTCACCTTCAGTAGCTATGCTATGCACTGGGTCCGCCAGGCTCCAGGCAAGGGGCTGGAGTGGGTGGCAGGTATATCATATGATGGAAGCAATAAATACTACGCAGACTCCGTGAAGGGCCGATTCACCATCTCCAGAGACAATTCCAAGAACACGCTGTATCTGCAAATGAACAGCCTGAGAGCTGAGGACACGGCTGTGTATTACTGTGCGAGAGCGGACACTATGGTTCGGGGAACTTATTTTGAGTACTGGGGCCAGGGAACCCTGGTCACCGTCTCCTCA\n",
      ".|||||||||||||||||||||||||||||.||||||||||||||.|||||||||||||||||||||.||||||||||||||||||.|||..||||...|||..|||||||||||||||||||||.||||||||.|||||||||||....|||....|.||||||.|..|.||||||||.|..|||||.||||||||||||||||||||||||||||||||..||||||||.|.|||||||||||||||||||||||||||||.||||||||||||||||||||||||||||||-|.|.|.....|...|.||||-|---|-||||.||||||||||||||||||||||||||||||||||||\n",
      "GAGGTGCAGCTGGTGGAGTCTGGGGGAGGCTTGGTCCAGCCTGGGGGGTCCCTGAGACTCTCCTGTGTAGCCTCTGGATTCACCTTTAGTTTCTATTGGATGAGCTGGGTCCGCCAGGCTCCAGGAAAGGGGCTCGAGTGGGTGGCCAACATAAAGCAAGATGGAGGTGAGAAATACTATGTGGACTCTGTGAAGGGCCGATTCACCATCTCCAGAGACAACGCCAAGAACTCACTGTATCTGCAAATGAACAGCCTGAGAGCCGAGGACACGGCTGTGTATTACTGTGCGAGA-CTGTCTGGCAGCAGCTGGGA-C---T-TTGACTACTGGGGCCAGGGAACCCTGGTCACCGTCTCCTCA\n",
      "\n",
      "CAGGTGCAGCTGGTGGAGTCTGGGGGAGGCGTGGTCCAGCCTGGGAGGTCCCTGAGACTCTCCTGTGCAGCCTCTGGATTCACCTTCAGTAGCTATGCTATGCACTGGGTCCGCCAGGCTCCAGGCAAGGGGCTGGAGTGGGTGGCAGGTATATCATATGATGGAAGCAATAAATACTACGCAGACTCCGTGAAGGGCCGATTCACCATCTCCAGAGACAATTCCAAGAACACGCTGTATCTGCAAATGAACAGCCTGAGAGCTGAGGACACGGCTGTGTATTACTGTGCGAGAGCGGACACTATGGTTCGGGGAACTTATTTTGAGTACTGGGGCCAGGGAACCCTGGTCACCGTCTCCTCA\n",
      ".|||||||||||||||||||||||||||||.||||||||||||||.|||||||||||||||||||||.||||||||||||||||||.|||..||||...|||..|||||||||||||||||||||.||||||||.|||||||||||....|||....|.||||||.|..|.||||||||.|..|||||.||||||||||||||||||||||||||||||||..||||||||.|.|||||||||||||||||||||||||||||.||||||||||||||||||||||||||||||-|.|.|.....|...|.|||-||---|-||||.||||||||||||||||||||||||||||||||||||\n",
      "GAGGTGCAGCTGGTGGAGTCTGGGGGAGGCTTGGTCCAGCCTGGGGGGTCCCTGAGACTCTCCTGTGTAGCCTCTGGATTCACCTTTAGTTTCTATTGGATGAGCTGGGTCCGCCAGGCTCCAGGAAAGGGGCTCGAGTGGGTGGCCAACATAAAGCAAGATGGAGGTGAGAAATACTATGTGGACTCTGTGAAGGGCCGATTCACCATCTCCAGAGACAACGCCAAGAACTCACTGTATCTGCAAATGAACAGCCTGAGAGCCGAGGACACGGCTGTGTATTACTGTGCGAGA-CTGTCTGGCAGCAGCTGGG-AC---T-TTGACTACTGGGGCCAGGGAACCCTGGTCACCGTCTCCTCA\n",
      "\n",
      "CAGGTGCAGCTGGTGGAGTCTGGGGGAGGCGTGGTCCAGCCTGGGAGGTCCCTGAGACTCTCCTGTGCAGCCTCTGGATTCACCTTCAGTAGCTATGCTATGCACTGGGTCCGCCAGGCTCCAGGCAAGGGGCTGGAGTGGGTGGCAGGTATATCATATGATGGAAGCAATAAATACTACGCAGACTCCGTGAAGGGCCGATTCACCATCTCCAGAGACAATTCCAAGAACACGCTGTATCTGCAAATGAACAGCCTGAGAGCTGAGGACACGGCTGTGTATTACTGTGCGAGAGCGGACACTATGGTTCGGGGAACTTATTTTGAGTACTGGGGCCAGGGAACCCTGGTCACCGTCTCCTCA\n",
      ".|||||||||||||||||||||||||||||.||||||||||||||.|||||||||||||||||||||.||||||||||||||||||.|||..||||...|||..|||||||||||||||||||||.||||||||.|||||||||||....|||....|.||||||.|..|.||||||||.|..|||||.||||||||||||||||||||||||||||||||..||||||||.|.|||||||||||||||||||||||||||||.||||||||||||||||||||||||||||||-|.|.|.....|...|.||||-|----|||||.||||||||||||||||||||||||||||||||||||\n",
      "GAGGTGCAGCTGGTGGAGTCTGGGGGAGGCTTGGTCCAGCCTGGGGGGTCCCTGAGACTCTCCTGTGTAGCCTCTGGATTCACCTTTAGTTTCTATTGGATGAGCTGGGTCCGCCAGGCTCCAGGAAAGGGGCTCGAGTGGGTGGCCAACATAAAGCAAGATGGAGGTGAGAAATACTATGTGGACTCTGTGAAGGGCCGATTCACCATCTCCAGAGACAACGCCAAGAACTCACTGTATCTGCAAATGAACAGCCTGAGAGCCGAGGACACGGCTGTGTATTACTGTGCGAGA-CTGTCTGGCAGCAGCTGGGA-C----TTTGACTACTGGGGCCAGGGAACCCTGGTCACCGTCTCCTCA\n",
      "\n",
      "CAGGTGCAGCTGGTGGAGTCTGGGGGAGGCGTGGTCCAGCCTGGGAGGTCCCTGAGACTCTCCTGTGCAGCCTCTGGATTCACCTTCAGTAGCTATGCTATGCACTGGGTCCGCCAGGCTCCAGGCAAGGGGCTGGAGTGGGTGGCAGGTATATCATATGATGGAAGCAATAAATACTACGCAGACTCCGTGAAGGGCCGATTCACCATCTCCAGAGACAATTCCAAGAACACGCTGTATCTGCAAATGAACAGCCTGAGAGCTGAGGACACGGCTGTGTATTACTGTGCGAGAGCGGACACTATGGTTCGGGGAACTTATTTTGAGTACTGGGGCCAGGGAACCCTGGTCACCGTCTCCTCA\n",
      ".|||||||||||||||||||||||||||||.||||||||||||||.|||||||||||||||||||||.||||||||||||||||||.|||..||||...|||..|||||||||||||||||||||.||||||||.|||||||||||....|||....|.||||||.|..|.||||||||.|..|||||.||||||||||||||||||||||||||||||||..||||||||.|.|||||||||||||||||||||||||||||.||||||||||||||||||||||||||||||-|.|.|.....|...|.|||-||----|||||.||||||||||||||||||||||||||||||||||||\n",
      "GAGGTGCAGCTGGTGGAGTCTGGGGGAGGCTTGGTCCAGCCTGGGGGGTCCCTGAGACTCTCCTGTGTAGCCTCTGGATTCACCTTTAGTTTCTATTGGATGAGCTGGGTCCGCCAGGCTCCAGGAAAGGGGCTCGAGTGGGTGGCCAACATAAAGCAAGATGGAGGTGAGAAATACTATGTGGACTCTGTGAAGGGCCGATTCACCATCTCCAGAGACAACGCCAAGAACTCACTGTATCTGCAAATGAACAGCCTGAGAGCCGAGGACACGGCTGTGTATTACTGTGCGAGA-CTGTCTGGCAGCAGCTGGG-AC----TTTGACTACTGGGGCCAGGGAACCCTGGTCACCGTCTCCTCA\n",
      "\n"
     ]
    }
   ],
   "source": [
    "# Comparar duas squencias de anticorpos com alinhamento global pelo algoritmo de Needleman e Wunsch\n",
    "lista_de_aticorpos = [] # lista para guardar separadamente cada sequencia do arquivo multifasta\n",
    "for seq_record in SeqIO.parse(\"anticorpos_sars_cov_2.fasta\", \"fasta\"):\n",
    "    lista_de_aticorpos.append(str(seq_record.seq)) # adicionando cada sequencia a lista\n",
    "\n",
    "alinhador = Align.PairwiseAligner()                          \n",
    "alinhador.match_score = 1 # pontuacao para match\n",
    "alinhador.mismatch_score = -2 # pontuacao para mismatch\n",
    "alinhador.gap_score = -5 # pontuacao para gap\n",
    "\n",
    "alinhamentos = alinhador.align(lista_de_aticorpos[0], lista_de_aticorpos[1])\n",
    "for alinhamento in alinhamentos:\n",
    "    print(alinhamento)\n"
   ]
  },
  {
   "cell_type": "code",
   "execution_count": 95,
   "id": "sixth-major",
   "metadata": {},
   "outputs": [
    {
     "name": "stdout",
     "output_type": "stream",
     "text": [
      "Existe(m) 1 vias de Ascorbate e 30 genes relacionados.\\ OS genes são:\n",
      "UGDH, UGT2A1, UGT2A3, UGT2B17, UGT2B11, UGT2B28, UGT1A6, UGT1A4, UGT1A1, UGT1A3, UGT2B10, UGT1A9, UGT2B7, UGT1A10, UGT1A8, UGT1A5, UGT2B15, UGT1A7, UGT2B4, UGT2A2, GUSB, KL, MIOX, AKR1A1, RGN, ALDH2, ALDH3A2, ALDH1B1, ALDH7A1, ALDH9A1\n"
     ]
    }
   ],
   "source": [
    "# Obter dados de genes relacionados a via metabolica de vitamina C em humanos\n",
    "human_pathways = REST.kegg_list(\"pathway\", \"hsa\").read()\n",
    "\n",
    "# Filtar para humanos, Ascorbate\n",
    "Ascorbate_pathways = []\n",
    "for line in human_pathways.rstrip().split(\"\\n\"):\n",
    "    entry, description = line.split(\"\\t\")\n",
    "    if \"Ascorbate\" in description:\n",
    "        Ascorbate_pathways.append(entry)\n",
    "\n",
    "# Pegar genes da via de Ascorbate e adicionar em uma lista\n",
    "Ascorbate_genes = [] \n",
    "for pathway in Ascorbate_pathways:\n",
    "    pathway_file = REST.kegg_get(pathway).read()  # for each pathway\n",
    "\n",
    "    # Iterar sobre o pathway\n",
    "    current_section = None\n",
    "    for line in pathway_file.rstrip().split(\"\\n\"):\n",
    "        section = line[:12].strip()  # nomes na 12a coluna\n",
    "        if not section == \"\":\n",
    "            current_section = section\n",
    "        \n",
    "        if current_section == \"GENE\":\n",
    "            gene_identifiers, gene_description = line[12:].split(\"; \")\n",
    "            gene_id, gene_symbol = gene_identifiers.split()\n",
    "\n",
    "            if not gene_symbol in Ascorbate_genes:\n",
    "                Ascorbate_genes.append(gene_symbol)\n",
    "\n",
    "print(\"Existe(m) %d vias de Ascorbate e %d genes relacionados.\\\\ OS genes são:\" % \\\n",
    "      (len(Ascorbate_pathways), len(Ascorbate_genes)))\n",
    "print(\", \".join(Ascorbate_genes)) "
   ]
  },
  {
   "cell_type": "code",
   "execution_count": 98,
   "id": "gorgeous-fitting",
   "metadata": {},
   "outputs": [
    {
     "name": "stdout",
     "output_type": "stream",
     "text": [
      "P01764\n",
      "HV323_HUMAN\n",
      "RecName: Full=Immunoglobulin heavy variable 3-23 {ECO:0000303|PubMed:11340299, ECO:0000303|Ref.8}; AltName: Full=Ig heavy chain V-III region LAY {ECO:0000305|PubMed:4139708}; AltName: Full=Ig heavy chain V-III region POM {ECO:0000305|PubMed:4139708}; AltName: Full=Ig heavy chain V-III region TEI {ECO:0000305|PubMed:4522793}; AltName: Full=Ig heavy chain V-III region TIL {ECO:0000305|PubMed:409716}; AltName: Full=Ig heavy chain V-III region TUR {ECO:0000305|PubMed:4522793}; AltName: Full=Ig heavy chain V-III region VH26 {ECO:0000305|PubMed:6450418}; AltName: Full=Ig heavy chain V-III region WAS {ECO:0000305|PubMed:4522793}; AltName: Full=Ig heavy chain V-III region ZAP {ECO:0000305|PubMed:4522793}; Flags: Precursor;\n",
      "Seq('MEFGLSWLFLVAILKGVQCEVQLVESGGGLVQPGGSLRLSCAASGFTFSSYAMS...CAK')\n",
      "Length 117\n",
      "['3D-structure', 'Adaptive immunity', 'Cell membrane', 'Direct protein sequencing', 'Disulfide bond', 'Immunity', 'Immunoglobulin', 'Immunoglobulin domain', 'Membrane', 'Reference proteome', 'Secreted', 'Signal']\n"
     ]
    }
   ],
   "source": [
    "# Obter detalhes da proteina: Immunoglobulin heavy variable 3-23 (P01764)\n",
    "with ExPASy.get_sprot_raw(\"P01764\") as handle:\n",
    "    seq_record = SeqIO.read(handle, \"swiss\")\n",
    "print(seq_record.id)\n",
    "print(seq_record.name)\n",
    "print(seq_record.description)\n",
    "print(repr(seq_record.seq))\n",
    "print(\"Length %i\" % len(seq_record))\n",
    "print(seq_record.annotations[\"keywords\"])"
   ]
  }
 ],
 "metadata": {
  "kernelspec": {
   "display_name": "Python 3",
   "language": "python",
   "name": "python3"
  },
  "language_info": {
   "codemirror_mode": {
    "name": "ipython",
    "version": 3
   },
   "file_extension": ".py",
   "mimetype": "text/x-python",
   "name": "python",
   "nbconvert_exporter": "python",
   "pygments_lexer": "ipython3",
   "version": "3.9.2"
  }
 },
 "nbformat": 4,
 "nbformat_minor": 5
}
