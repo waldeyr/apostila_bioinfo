{
 "cells": [
  {
   "cell_type": "markdown",
   "id": "august-slovak",
   "metadata": {},
   "source": [
    "# Manipulação de dados biológicos com Python\n",
    "\n",
    "Este notebook apresenta várias situações cotidianas do trabalho do bioinformata onde pode ser aplicada a linguagem Python usando um pacote chamado BioPython (https://biopython.org)."
   ]
  },
  {
   "cell_type": "markdown",
   "id": "statistical-strike",
   "metadata": {},
   "source": [
    "### Passo01: Instalação dos pacotes necessários"
   ]
  },
  {
   "cell_type": "code",
   "execution_count": 1,
   "id": "impossible-evanescence",
   "metadata": {
    "scrolled": false
   },
   "outputs": [
    {
     "name": "stdout",
     "output_type": "stream",
     "text": [
      "Requirement already satisfied: biopython in /home/waldeyr/.conda/envs/notebooks/lib/python3.9/site-packages (1.78)\n",
      "Requirement already satisfied: numpy in /home/waldeyr/.conda/envs/notebooks/lib/python3.9/site-packages (from biopython) (1.20.1)\n",
      "Requirement already satisfied: requests in /home/waldeyr/.conda/envs/notebooks/lib/python3.9/site-packages (2.25.1)\n",
      "Requirement already satisfied: chardet<5,>=3.0.2 in /home/waldeyr/.conda/envs/notebooks/lib/python3.9/site-packages (from requests) (4.0.0)\n",
      "Requirement already satisfied: urllib3<1.27,>=1.21.1 in /home/waldeyr/.conda/envs/notebooks/lib/python3.9/site-packages (from requests) (1.26.4)\n",
      "Requirement already satisfied: idna<3,>=2.5 in /home/waldeyr/.conda/envs/notebooks/lib/python3.9/site-packages (from requests) (2.10)\n",
      "Requirement already satisfied: certifi>=2017.4.17 in /home/waldeyr/.conda/envs/notebooks/lib/python3.9/site-packages (from requests) (2020.12.5)\n"
     ]
    }
   ],
   "source": [
    "! pip install biopython\n",
    "! pip install requests"
   ]
  },
  {
   "cell_type": "markdown",
   "id": "bigger-endorsement",
   "metadata": {},
   "source": [
    "### Passo 02: Importação das bibliotecas necessárias"
   ]
  },
  {
   "cell_type": "code",
   "execution_count": 2,
   "id": "immune-music",
   "metadata": {},
   "outputs": [],
   "source": [
    "# Importando as bibliotecas de Byopython que serao usadas\n",
    "from Bio.Seq import Seq\n",
    "from Bio.Data import CodonTable\n",
    "from Bio import SeqIO\n",
    "from Bio import Align\n",
    "from Bio.KEGG import REST\n",
    "from Bio.KEGG import Enzyme\n",
    "from Bio.KEGG import REST\n",
    "from Bio import ExPASy\n",
    "from Bio import SeqIO\n",
    "import requests"
   ]
  },
  {
   "cell_type": "markdown",
   "id": "domestic-swimming",
   "metadata": {},
   "source": [
    "#### Problema: nucleotídeos com maiúsculas  e minúsculas em uma sequência\n",
    "#### Solução: converter todos os caracteres para maiúsculo"
   ]
  },
  {
   "cell_type": "code",
   "execution_count": 5,
   "id": "varied-output",
   "metadata": {},
   "outputs": [
    {
     "name": "stdout",
     "output_type": "stream",
     "text": [
      "ATGGCCATTGTAATGGGCCGCTGAAAGGGTGCCCGATAG\n"
     ]
    }
   ],
   "source": [
    "dna_exemplo = Seq(\"ATGgccattgTAATGGGCCGCTgaaagggTGCCCGATAG\")\n",
    "dna_exemplo = dna_exemplo.upper()\n",
    "print(dna_exemplo)"
   ]
  },
  {
   "cell_type": "markdown",
   "id": "royal-nursing",
   "metadata": {},
   "source": [
    "#### Problema: Obter a fita complementar de uma fita de DNA\n",
    "#### Solução: Calcular o nucleotídeo que se liga a cada nucleotídeo da fita original"
   ]
  },
  {
   "cell_type": "code",
   "execution_count": 6,
   "id": "unlikely-prediction",
   "metadata": {},
   "outputs": [
    {
     "name": "stdout",
     "output_type": "stream",
     "text": [
      "CTATCGGGCACCCTTTCAGCGGCCCATTACAATGGCCAT\n"
     ]
    }
   ],
   "source": [
    "rev_compl_dna_exemplo = dna_exemplo.reverse_complement()\n",
    "print(rev_compl_dna_exemplo)"
   ]
  },
  {
   "cell_type": "markdown",
   "id": "computational-montreal",
   "metadata": {},
   "source": [
    "#### Problema: Obter a fita de RNA transcrita de uma fita de DNA\n",
    "#### Solução: Calacular os nucleotídeos da fita de DNA que serão transcritos pela enzima RNA polimerase"
   ]
  },
  {
   "cell_type": "code",
   "execution_count": 7,
   "id": "numerous-exposure",
   "metadata": {},
   "outputs": [
    {
     "name": "stdout",
     "output_type": "stream",
     "text": [
      "AUGGCCAUUGUAAUGGGCCGCUGAAAGGGUGCCCGAUAG\n"
     ]
    }
   ],
   "source": [
    "rna_mensageiro = dna_exemplo.transcribe()\n",
    "print(rna_mensageiro)"
   ]
  },
  {
   "cell_type": "markdown",
   "id": "second-screen",
   "metadata": {},
   "source": [
    "#### Problema: Obter a sequência de aminoácidos que será traduzida a partir de uma fita de DNA\n",
    "#### Solução: Traduzir de DNA para aminoácidos usando uma tabela de codons"
   ]
  },
  {
   "cell_type": "code",
   "execution_count": 8,
   "id": "rental-drill",
   "metadata": {},
   "outputs": [
    {
     "name": "stdout",
     "output_type": "stream",
     "text": [
      "Table 1 Standard, SGC0\n",
      "\n",
      "  |  T      |  C      |  A      |  G      |\n",
      "--+---------+---------+---------+---------+--\n",
      "T | TTT F   | TCT S   | TAT Y   | TGT C   | T\n",
      "T | TTC F   | TCC S   | TAC Y   | TGC C   | C\n",
      "T | TTA L   | TCA S   | TAA Stop| TGA Stop| A\n",
      "T | TTG L(s)| TCG S   | TAG Stop| TGG W   | G\n",
      "--+---------+---------+---------+---------+--\n",
      "C | CTT L   | CCT P   | CAT H   | CGT R   | T\n",
      "C | CTC L   | CCC P   | CAC H   | CGC R   | C\n",
      "C | CTA L   | CCA P   | CAA Q   | CGA R   | A\n",
      "C | CTG L(s)| CCG P   | CAG Q   | CGG R   | G\n",
      "--+---------+---------+---------+---------+--\n",
      "A | ATT I   | ACT T   | AAT N   | AGT S   | T\n",
      "A | ATC I   | ACC T   | AAC N   | AGC S   | C\n",
      "A | ATA I   | ACA T   | AAA K   | AGA R   | A\n",
      "A | ATG M(s)| ACG T   | AAG K   | AGG R   | G\n",
      "--+---------+---------+---------+---------+--\n",
      "G | GTT V   | GCT A   | GAT D   | GGT G   | T\n",
      "G | GTC V   | GCC A   | GAC D   | GGC G   | C\n",
      "G | GTA V   | GCA A   | GAA E   | GGA G   | A\n",
      "G | GTG V   | GCG A   | GAG E   | GGG G   | G\n",
      "--+---------+---------+---------+---------+--\n",
      "MAIVMGR*KGAR*\n"
     ]
    }
   ],
   "source": [
    "tabela_padrao = CodonTable.unambiguous_dna_by_id[1]\n",
    "print(tabela_padrao)\n",
    "aminoacidos = rna_mensageiro.translate()\n",
    "print(aminoacidos)"
   ]
  },
  {
   "cell_type": "markdown",
   "id": "greatest-significance",
   "metadata": {},
   "source": [
    "#### Problema: Obter a sequência de aminoácidos que será traduzida a partir de uma fita de DNA em uma mitocôndria humana\n",
    "#### Solução: Traduzir de DNA para aminoácidos usando uma tabela de codons mitocondriais em vertebrados"
   ]
  },
  {
   "cell_type": "code",
   "execution_count": 9,
   "id": "complex-relevance",
   "metadata": {},
   "outputs": [
    {
     "name": "stdout",
     "output_type": "stream",
     "text": [
      "Table 2 Vertebrate Mitochondrial, SGC1\n",
      "\n",
      "  |  T      |  C      |  A      |  G      |\n",
      "--+---------+---------+---------+---------+--\n",
      "T | TTT F   | TCT S   | TAT Y   | TGT C   | T\n",
      "T | TTC F   | TCC S   | TAC Y   | TGC C   | C\n",
      "T | TTA L   | TCA S   | TAA Stop| TGA W   | A\n",
      "T | TTG L   | TCG S   | TAG Stop| TGG W   | G\n",
      "--+---------+---------+---------+---------+--\n",
      "C | CTT L   | CCT P   | CAT H   | CGT R   | T\n",
      "C | CTC L   | CCC P   | CAC H   | CGC R   | C\n",
      "C | CTA L   | CCA P   | CAA Q   | CGA R   | A\n",
      "C | CTG L   | CCG P   | CAG Q   | CGG R   | G\n",
      "--+---------+---------+---------+---------+--\n",
      "A | ATT I(s)| ACT T   | AAT N   | AGT S   | T\n",
      "A | ATC I(s)| ACC T   | AAC N   | AGC S   | C\n",
      "A | ATA M(s)| ACA T   | AAA K   | AGA Stop| A\n",
      "A | ATG M(s)| ACG T   | AAG K   | AGG Stop| G\n",
      "--+---------+---------+---------+---------+--\n",
      "G | GTT V   | GCT A   | GAT D   | GGT G   | T\n",
      "G | GTC V   | GCC A   | GAC D   | GGC G   | C\n",
      "G | GTA V   | GCA A   | GAA E   | GGA G   | A\n",
      "G | GTG V(s)| GCG A   | GAG E   | GGG G   | G\n",
      "--+---------+---------+---------+---------+--\n",
      "MAIVMGRWKGAR*\n"
     ]
    }
   ],
   "source": [
    "tabela_mitocondrial = CodonTable.unambiguous_dna_by_id[2]\n",
    "print(tabela_mitocondrial)\n",
    "aminoacidos = rna_mensageiro.translate(table=\"Vertebrate Mitochondrial\")\n",
    "print(aminoacidos)"
   ]
  },
  {
   "cell_type": "markdown",
   "id": "registered-chemistry",
   "metadata": {},
   "source": [
    "#### Problema: Baixar e ler em uma variável o genoma original do vírus Sars-Cov-2 de Wuhan\n",
    "#### Solução: Fazer uma requisição via URL e carregar o arquivo do genoma em formato genbank para uma variável"
   ]
  },
  {
   "cell_type": "code",
   "execution_count": 42,
   "id": "returning-vegetable",
   "metadata": {
    "scrolled": true
   },
   "outputs": [
    {
     "name": "stdout",
     "output_type": "stream",
     "text": [
      "NC_045512.2\n"
     ]
    }
   ],
   "source": [
    "# Baixar para  notebook o genoma do Sars-Cov-2 em formato genbank\n",
    "url =  \"https://raw.githubusercontent.com/waldeyr/apostila_bioinfo/main/arquivos/Sars_Cov_2_Genoma.gb\"\n",
    "r = requests.get(url, allow_redirects=True)\n",
    "open('genoma_sars_cov_2.gb', 'wb').write(r.content)\n",
    "# Ler o genoma em formato genbank e mostrar o NCBI ID do genoma\n",
    "genoma_sars_cov_2 = SeqIO.read(\"genoma_sars_cov_2.gb\", \"genbank\")\n",
    "print(genoma_sars_cov_2.id)"
   ]
  },
  {
   "cell_type": "markdown",
   "id": "worse-civilian",
   "metadata": {},
   "source": [
    "#### Problema: Verificar metadados do genoma\n",
    "#### Solução: Imprimir na tela o NCBI ID do genoma, seu tamanho, quantidade de anotações (features) e quantidade de genes anotados"
   ]
  },
  {
   "cell_type": "code",
   "execution_count": 12,
   "id": "located-press",
   "metadata": {},
   "outputs": [
    {
     "name": "stdout",
     "output_type": "stream",
     "text": [
      "NCBI ID: NC_045512.2;\t Tamanho do genoma: 29903 bp;\t  Qtd features: 57;\t Qtd de genes anotados: 13;\n"
     ]
    }
   ],
   "source": [
    "# Imprimindo algumas caracteristicas de interesse\n",
    "print(\"NCBI ID: %s;\\t Tamanho do genoma: %i bp;\\t  Qtd features: %i;\\t Qtd de genes anotados: %i;\" % (\n",
    "    genoma_sars_cov_2.id, # NCBI ID\n",
    "    len(genoma_sars_cov_2), # tamanho do genoma em pares de bases\n",
    "    len(genoma_sars_cov_2.features), #quantidades de features\n",
    "    len(genoma_sars_cov_2.annotations)# quantidade de genes anotados\n",
    "))"
   ]
  },
  {
   "cell_type": "markdown",
   "id": "advance-destiny",
   "metadata": {},
   "source": [
    "#### Problema: Obter a sequência de aminoácidos da proteína spike do vírus\n",
    "#### Solução: Percorrer o genoma procurando por regiões codificadoras (CDS) e, ao identificar a regição da proteína spike, traduzir os aminoácidos a partir daquele trecho de DNA"
   ]
  },
  {
   "cell_type": "code",
   "execution_count": 13,
   "id": "registered-abortion",
   "metadata": {},
   "outputs": [
    {
     "name": "stdout",
     "output_type": "stream",
     "text": [
      ">GU280_gp02\n",
      "MFVFLVLLPLVSSQCVNLTTRTQLPPAYTNSFTRGVYYPDKVFRSSVLHSTQDLFLPFFSNVTWFHAIHVSGTNGTKRFDNPVLPFNDGVYFASTEKSNIIRGWIFGTTLDSKTQSLLIVNNATNVVIKVCEFQFCNDPFLGVYYHKNNKSWMESEFRVYSSANNCTFEYVSQPFLMDLEGKQGNFKNLREFVFKNIDGYFKIYSKHTPINLVRDLPQGFSALEPLVDLPIGINITRFQTLLALHRSYLTPGDSSSGWTAGAAAYYVGYLQPRTFLLKYNENGTITDAVDCALDPLSETKCTLKSFTVEKGIYQTSNFRVQPTESIVRFPNITNLCPFGEVFNATRFASVYAWNRKRISNCVADYSVLYNSASFSTFKCYGVSPTKLNDLCFTNVYADSFVIRGDEVRQIAPGQTGKIADYNYKLPDDFTGCVIAWNSNNLDSKVGGNYNYLYRLFRKSNLKPFERDISTEIYQAGSTPCNGVEGFNCYFPLQSYGFQPTNGVGYQPYRVVVLSFELLHAPATVCGPKKSTNLVKNKCVNFNFNGLTGTGVLTESNKKFLPFQQFGRDIADTTDAVRDPQTLEILDITPCSFGGVSVITPGTNTSNQVAVLYQDVNCTEVPVAIHADQLTPTWRVYSTGSNVFQTRAGCLIGAEHVNNSYECDIPIGAGICASYQTQTNSPRRARSVASQSIIAYTMSLGAENSVAYSNNSIAIPTNFTISVTTEILPVSMTKTSVDCTMYICGDSTECSNLLLQYGSFCTQLNRALTGIAVEQDKNTQEVFAQVKQIYKTPPIKDFGGFNFSQILPDPSKPSKRSFIEDLLFNKVTLADAGFIKQYGDCLGDIAARDLICAQKFNGLTVLPPLLTDEMIAQYTSALLAGTITSGWTFGAGAALQIPFAMQMAYRFNGIGVTQNVLYENQKLIANQFNSAIGKIQDSLSSTASALGKLQDVVNQNAQALNTLVKQLSSNFGAISSVLNDILSRLDKVEAEVQIDRLITGRLQSLQTYVTQQLIRAAEIRASANLAATKMSECVLGQSKRVDFCGKGYHLMSFPQSAPHGVVFLHVTYVPAQEKNFTTAPAICHDGKAHFPREGVFVSNGTHWFVTQRNFYEPQIITTDNTFVSGNCDVVIGIVNNTVYDPLQPELDSFKEELDKYFKNHTSPDVDLGDISGINASVVNIQKEIDRLNEVAKNLNESLIDLQELGKYEQYIKWPWYIWLGFIAGLIAIVMVTIMLCCMTSCCSCLKGCCSCGSCCKFDEDDSEPVLKGVKLHYT\n"
     ]
    }
   ],
   "source": [
    "# Gerar um fasta com os aminoacidos da regiao codificadora do gene da proteina spike \n",
    "for seq_feature in genoma_sars_cov_2.features: # ler as features do genoma\n",
    "    if seq_feature.type == \"CDS\": # misc_feature, gene, misc_RNA, CDS\n",
    "        for key, value in seq_feature.qualifiers.items(): # ler qualificadores de cada feature\n",
    "            if key == \"translation\": # verificar o qualificador de interesse que é translation\n",
    "                if seq_feature.qualifiers['locus_tag'][0] == \"GU280_gp02\":# Gene da proteina spike\n",
    "                    print(f\">{seq_feature.qualifiers['locus_tag'][0]}\") # imprimir o nome do gene\n",
    "                    print(f\"{str(value[0])}\")#imprimir a sequencia da regiao codificadora do gene traduzida para proteina"
   ]
  },
  {
   "cell_type": "markdown",
   "id": "modified-malta",
   "metadata": {},
   "source": [
    "#### Problema: Obter sequencias de aminoácidos de anticorpos humanos que interagem com a proteína spike\n",
    "#### Solução: Utilizar uma requisição via URL com o endereço onde está o arquivo"
   ]
  },
  {
   "cell_type": "code",
   "execution_count": null,
   "id": "quick-exhaust",
   "metadata": {
    "slideshow": {
     "slide_type": "fragment"
    }
   },
   "outputs": [],
   "source": [
    "# Baixar arquivo com 4 sequencias de anticorpos humanos para a proteina spike do sars-cov-2 (GU280_gp02)\n",
    "url = \"https://raw.githubusercontent.com/waldeyr/apostila_bioinfo//main/arquivos/imunoglobulinas_humanas_cadeia_pesada.fasta\"\n",
    "r = requests.get(url, allow_redirects=True)\n",
    "open('anticorpos_sars_cov_2.fasta', 'wb').write(r.content)"
   ]
  },
  {
   "cell_type": "markdown",
   "id": "settled-richardson",
   "metadata": {},
   "source": [
    "#### Problema: Alinhar 2 sequências de anticorpos para encontrar suas similaridades e diferenças\n",
    "#### Solução: Utilizar um algoritmo de alinhamento com sistema de pontuação reportando na tela todos os alinhamentos ótimos"
   ]
  },
  {
   "cell_type": "code",
   "execution_count": 29,
   "id": "alleged-controversy",
   "metadata": {},
   "outputs": [
    {
     "name": "stdout",
     "output_type": "stream",
     "text": [
      "Quantidade de alinhamentos ótimos: 40\n",
      "\n",
      "CAGGTGCAGCTGGTGGAGTCTGGGGGAGGCGTGGTCCAGCCTGGGAGGTCCCTGAGACTCTCCTGTGCAGCCTCTGGATTCACCTTCAGTAGCTATGCTATGCACTGGGTCCGCCAGGCTCCAGGCAAGGGGCTGGAGTGGGTGGCAGGTATATCATATGATGGAAGCAATAAATACTACGCAGACTCCGTGAAGGGCCGATTCACCATCTCCAGAGACAATTCCAAGAACACGCTGTATCTGCAAATGAACAGCCTGAGAGCTGAGGACACGGCTGTGTATTACTGTGCGAGAGCGGACACTATGGTTCGGGGAACTTATTTTGAGTACTGGGGCCAGGGAACCCTGGTCACCGTCTCCTCA\n",
      ".|||||||||||||||||||||||||||||.||||||||||||||.|||||||||||||||||||||.||||||||||||||||||.|||..||||...|||..|||||||||||||||||||||.||||||||.|||||||||||....|||....|.||||||.|..|.||||||||.|..|||||.||||||||||||||||||||||||||||||||..||||||||.|.|||||||||||||||||||||||||||||.||||||||||||||||||||||||||||||-|.|.|.....|...|.||||-|||-|---||.||||||||||||||||||||||||||||||||||||\n",
      "GAGGTGCAGCTGGTGGAGTCTGGGGGAGGCTTGGTCCAGCCTGGGGGGTCCCTGAGACTCTCCTGTGTAGCCTCTGGATTCACCTTTAGTTTCTATTGGATGAGCTGGGTCCGCCAGGCTCCAGGAAAGGGGCTCGAGTGGGTGGCCAACATAAAGCAAGATGGAGGTGAGAAATACTATGTGGACTCTGTGAAGGGCCGATTCACCATCTCCAGAGACAACGCCAAGAACTCACTGTATCTGCAAATGAACAGCCTGAGAGCCGAGGACACGGCTGTGTATTACTGTGCGAGA-CTGTCTGGCAGCAGCTGGGA-CTT-T---GACTACTGGGGCCAGGGAACCCTGGTCACCGTCTCCTCA\n",
      "\n",
      "CAGGTGCAGCTGGTGGAGTCTGGGGGAGGCGTGGTCCAGCCTGGGAGGTCCCTGAGACTCTCCTGTGCAGCCTCTGGATTCACCTTCAGTAGCTATGCTATGCACTGGGTCCGCCAGGCTCCAGGCAAGGGGCTGGAGTGGGTGGCAGGTATATCATATGATGGAAGCAATAAATACTACGCAGACTCCGTGAAGGGCCGATTCACCATCTCCAGAGACAATTCCAAGAACACGCTGTATCTGCAAATGAACAGCCTGAGAGCTGAGGACACGGCTGTGTATTACTGTGCGAGAGCGGACACTATGGTTCGGGGAACTTATTTTGAGTACTGGGGCCAGGGAACCCTGGTCACCGTCTCCTCA\n",
      ".|||||||||||||||||||||||||||||.||||||||||||||.|||||||||||||||||||||.||||||||||||||||||.|||..||||...|||..|||||||||||||||||||||.||||||||.|||||||||||....|||....|.||||||.|..|.||||||||.|..|||||.||||||||||||||||||||||||||||||||..||||||||.|.|||||||||||||||||||||||||||||.||||||||||||||||||||||||||||||-|.|.|.....|...|.|||-||||-|---||.||||||||||||||||||||||||||||||||||||\n",
      "GAGGTGCAGCTGGTGGAGTCTGGGGGAGGCTTGGTCCAGCCTGGGGGGTCCCTGAGACTCTCCTGTGTAGCCTCTGGATTCACCTTTAGTTTCTATTGGATGAGCTGGGTCCGCCAGGCTCCAGGAAAGGGGCTCGAGTGGGTGGCCAACATAAAGCAAGATGGAGGTGAGAAATACTATGTGGACTCTGTGAAGGGCCGATTCACCATCTCCAGAGACAACGCCAAGAACTCACTGTATCTGCAAATGAACAGCCTGAGAGCCGAGGACACGGCTGTGTATTACTGTGCGAGA-CTGTCTGGCAGCAGCTGGG-ACTT-T---GACTACTGGGGCCAGGGAACCCTGGTCACCGTCTCCTCA\n",
      "\n",
      "CAGGTGCAGCTGGTGGAGTCTGGGGGAGGCGTGGTCCAGCCTGGGAGGTCCCTGAGACTCTCCTGTGCAGCCTCTGGATTCACCTTCAGTAGCTATGCTATGCACTGGGTCCGCCAGGCTCCAGGCAAGGGGCTGGAGTGGGTGGCAGGTATATCATATGATGGAAGCAATAAATACTACGCAGACTCCGTGAAGGGCCGATTCACCATCTCCAGAGACAATTCCAAGAACACGCTGTATCTGCAAATGAACAGCCTGAGAGCTGAGGACACGGCTGTGTATTACTGTGCGAGAGCGGACACTATGGTTCGGGGAACTTATTTTGAGTACTGGGGCCAGGGAACCCTGGTCACCGTCTCCTCA\n",
      ".|||||||||||||||||||||||||||||.||||||||||||||.|||||||||||||||||||||.||||||||||||||||||.|||..||||...|||..|||||||||||||||||||||.||||||||.|||||||||||....|||....|.||||||.|..|.||||||||.|..|||||.||||||||||||||||||||||||||||||||..||||||||.|.|||||||||||||||||||||||||||||.||||||||||||||||||||||||||||||-|.|.|.....|...|.||||-|||--|--||.||||||||||||||||||||||||||||||||||||\n",
      "GAGGTGCAGCTGGTGGAGTCTGGGGGAGGCTTGGTCCAGCCTGGGGGGTCCCTGAGACTCTCCTGTGTAGCCTCTGGATTCACCTTTAGTTTCTATTGGATGAGCTGGGTCCGCCAGGCTCCAGGAAAGGGGCTCGAGTGGGTGGCCAACATAAAGCAAGATGGAGGTGAGAAATACTATGTGGACTCTGTGAAGGGCCGATTCACCATCTCCAGAGACAACGCCAAGAACTCACTGTATCTGCAAATGAACAGCCTGAGAGCCGAGGACACGGCTGTGTATTACTGTGCGAGA-CTGTCTGGCAGCAGCTGGGA-CTT--T--GACTACTGGGGCCAGGGAACCCTGGTCACCGTCTCCTCA\n",
      "\n",
      "CAGGTGCAGCTGGTGGAGTCTGGGGGAGGCGTGGTCCAGCCTGGGAGGTCCCTGAGACTCTCCTGTGCAGCCTCTGGATTCACCTTCAGTAGCTATGCTATGCACTGGGTCCGCCAGGCTCCAGGCAAGGGGCTGGAGTGGGTGGCAGGTATATCATATGATGGAAGCAATAAATACTACGCAGACTCCGTGAAGGGCCGATTCACCATCTCCAGAGACAATTCCAAGAACACGCTGTATCTGCAAATGAACAGCCTGAGAGCTGAGGACACGGCTGTGTATTACTGTGCGAGAGCGGACACTATGGTTCGGGGAACTTATTTTGAGTACTGGGGCCAGGGAACCCTGGTCACCGTCTCCTCA\n",
      ".|||||||||||||||||||||||||||||.||||||||||||||.|||||||||||||||||||||.||||||||||||||||||.|||..||||...|||..|||||||||||||||||||||.||||||||.|||||||||||....|||....|.||||||.|..|.||||||||.|..|||||.||||||||||||||||||||||||||||||||..||||||||.|.|||||||||||||||||||||||||||||.||||||||||||||||||||||||||||||-|.|.|.....|...|.|||-||||--|--||.||||||||||||||||||||||||||||||||||||\n",
      "GAGGTGCAGCTGGTGGAGTCTGGGGGAGGCTTGGTCCAGCCTGGGGGGTCCCTGAGACTCTCCTGTGTAGCCTCTGGATTCACCTTTAGTTTCTATTGGATGAGCTGGGTCCGCCAGGCTCCAGGAAAGGGGCTCGAGTGGGTGGCCAACATAAAGCAAGATGGAGGTGAGAAATACTATGTGGACTCTGTGAAGGGCCGATTCACCATCTCCAGAGACAACGCCAAGAACTCACTGTATCTGCAAATGAACAGCCTGAGAGCCGAGGACACGGCTGTGTATTACTGTGCGAGA-CTGTCTGGCAGCAGCTGGG-ACTT--T--GACTACTGGGGCCAGGGAACCCTGGTCACCGTCTCCTCA\n",
      "\n",
      "CAGGTGCAGCTGGTGGAGTCTGGGGGAGGCGTGGTCCAGCCTGGGAGGTCCCTGAGACTCTCCTGTGCAGCCTCTGGATTCACCTTCAGTAGCTATGCTATGCACTGGGTCCGCCAGGCTCCAGGCAAGGGGCTGGAGTGGGTGGCAGGTATATCATATGATGGAAGCAATAAATACTACGCAGACTCCGTGAAGGGCCGATTCACCATCTCCAGAGACAATTCCAAGAACACGCTGTATCTGCAAATGAACAGCCTGAGAGCTGAGGACACGGCTGTGTATTACTGTGCGAGAGCGGACACTATGGTTCGGGGAACTTATTTTGAGTACTGGGGCCAGGGAACCCTGGTCACCGTCTCCTCA\n",
      ".|||||||||||||||||||||||||||||.||||||||||||||.|||||||||||||||||||||.||||||||||||||||||.|||..||||...|||..|||||||||||||||||||||.||||||||.|||||||||||....|||....|.||||||.|..|.||||||||.|..|||||.||||||||||||||||||||||||||||||||..||||||||.|.|||||||||||||||||||||||||||||.||||||||||||||||||||||||||||||-|.|.|.....|...|.||||-||--||--||.||||||||||||||||||||||||||||||||||||\n",
      "GAGGTGCAGCTGGTGGAGTCTGGGGGAGGCTTGGTCCAGCCTGGGGGGTCCCTGAGACTCTCCTGTGTAGCCTCTGGATTCACCTTTAGTTTCTATTGGATGAGCTGGGTCCGCCAGGCTCCAGGAAAGGGGCTCGAGTGGGTGGCCAACATAAAGCAAGATGGAGGTGAGAAATACTATGTGGACTCTGTGAAGGGCCGATTCACCATCTCCAGAGACAACGCCAAGAACTCACTGTATCTGCAAATGAACAGCCTGAGAGCCGAGGACACGGCTGTGTATTACTGTGCGAGA-CTGTCTGGCAGCAGCTGGGA-CT--TT--GACTACTGGGGCCAGGGAACCCTGGTCACCGTCTCCTCA\n",
      "\n",
      "CAGGTGCAGCTGGTGGAGTCTGGGGGAGGCGTGGTCCAGCCTGGGAGGTCCCTGAGACTCTCCTGTGCAGCCTCTGGATTCACCTTCAGTAGCTATGCTATGCACTGGGTCCGCCAGGCTCCAGGCAAGGGGCTGGAGTGGGTGGCAGGTATATCATATGATGGAAGCAATAAATACTACGCAGACTCCGTGAAGGGCCGATTCACCATCTCCAGAGACAATTCCAAGAACACGCTGTATCTGCAAATGAACAGCCTGAGAGCTGAGGACACGGCTGTGTATTACTGTGCGAGAGCGGACACTATGGTTCGGGGAACTTATTTTGAGTACTGGGGCCAGGGAACCCTGGTCACCGTCTCCTCA\n",
      ".|||||||||||||||||||||||||||||.||||||||||||||.|||||||||||||||||||||.||||||||||||||||||.|||..||||...|||..|||||||||||||||||||||.||||||||.|||||||||||....|||....|.||||||.|..|.||||||||.|..|||||.||||||||||||||||||||||||||||||||..||||||||.|.|||||||||||||||||||||||||||||.||||||||||||||||||||||||||||||-|.|.|.....|...|.|||-|||--||--||.||||||||||||||||||||||||||||||||||||\n",
      "GAGGTGCAGCTGGTGGAGTCTGGGGGAGGCTTGGTCCAGCCTGGGGGGTCCCTGAGACTCTCCTGTGTAGCCTCTGGATTCACCTTTAGTTTCTATTGGATGAGCTGGGTCCGCCAGGCTCCAGGAAAGGGGCTCGAGTGGGTGGCCAACATAAAGCAAGATGGAGGTGAGAAATACTATGTGGACTCTGTGAAGGGCCGATTCACCATCTCCAGAGACAACGCCAAGAACTCACTGTATCTGCAAATGAACAGCCTGAGAGCCGAGGACACGGCTGTGTATTACTGTGCGAGA-CTGTCTGGCAGCAGCTGGG-ACT--TT--GACTACTGGGGCCAGGGAACCCTGGTCACCGTCTCCTCA\n",
      "\n",
      "CAGGTGCAGCTGGTGGAGTCTGGGGGAGGCGTGGTCCAGCCTGGGAGGTCCCTGAGACTCTCCTGTGCAGCCTCTGGATTCACCTTCAGTAGCTATGCTATGCACTGGGTCCGCCAGGCTCCAGGCAAGGGGCTGGAGTGGGTGGCAGGTATATCATATGATGGAAGCAATAAATACTACGCAGACTCCGTGAAGGGCCGATTCACCATCTCCAGAGACAATTCCAAGAACACGCTGTATCTGCAAATGAACAGCCTGAGAGCTGAGGACACGGCTGTGTATTACTGTGCGAGAGCGGACACTATGGTTCGGGGAACTTATTTTGAGTACTGGGGCCAGGGAACCCTGGTCACCGTCTCCTCA\n",
      ".|||||||||||||||||||||||||||||.||||||||||||||.|||||||||||||||||||||.||||||||||||||||||.|||..||||...|||..|||||||||||||||||||||.||||||||.|||||||||||....|||....|.||||||.|..|.||||||||.|..|||||.||||||||||||||||||||||||||||||||..||||||||.|.|||||||||||||||||||||||||||||.||||||||||||||||||||||||||||||-|.|.|.....|...|.||||-|-|-||--||.||||||||||||||||||||||||||||||||||||\n",
      "GAGGTGCAGCTGGTGGAGTCTGGGGGAGGCTTGGTCCAGCCTGGGGGGTCCCTGAGACTCTCCTGTGTAGCCTCTGGATTCACCTTTAGTTTCTATTGGATGAGCTGGGTCCGCCAGGCTCCAGGAAAGGGGCTCGAGTGGGTGGCCAACATAAAGCAAGATGGAGGTGAGAAATACTATGTGGACTCTGTGAAGGGCCGATTCACCATCTCCAGAGACAACGCCAAGAACTCACTGTATCTGCAAATGAACAGCCTGAGAGCCGAGGACACGGCTGTGTATTACTGTGCGAGA-CTGTCTGGCAGCAGCTGGGA-C-T-TT--GACTACTGGGGCCAGGGAACCCTGGTCACCGTCTCCTCA\n",
      "\n",
      "CAGGTGCAGCTGGTGGAGTCTGGGGGAGGCGTGGTCCAGCCTGGGAGGTCCCTGAGACTCTCCTGTGCAGCCTCTGGATTCACCTTCAGTAGCTATGCTATGCACTGGGTCCGCCAGGCTCCAGGCAAGGGGCTGGAGTGGGTGGCAGGTATATCATATGATGGAAGCAATAAATACTACGCAGACTCCGTGAAGGGCCGATTCACCATCTCCAGAGACAATTCCAAGAACACGCTGTATCTGCAAATGAACAGCCTGAGAGCTGAGGACACGGCTGTGTATTACTGTGCGAGAGCGGACACTATGGTTCGGGGAACTTATTTTGAGTACTGGGGCCAGGGAACCCTGGTCACCGTCTCCTCA\n",
      ".|||||||||||||||||||||||||||||.||||||||||||||.|||||||||||||||||||||.||||||||||||||||||.|||..||||...|||..|||||||||||||||||||||.||||||||.|||||||||||....|||....|.||||||.|..|.||||||||.|..|||||.||||||||||||||||||||||||||||||||..||||||||.|.|||||||||||||||||||||||||||||.||||||||||||||||||||||||||||||-|.|.|.....|...|.|||-||-|-||--||.||||||||||||||||||||||||||||||||||||\n",
      "GAGGTGCAGCTGGTGGAGTCTGGGGGAGGCTTGGTCCAGCCTGGGGGGTCCCTGAGACTCTCCTGTGTAGCCTCTGGATTCACCTTTAGTTTCTATTGGATGAGCTGGGTCCGCCAGGCTCCAGGAAAGGGGCTCGAGTGGGTGGCCAACATAAAGCAAGATGGAGGTGAGAAATACTATGTGGACTCTGTGAAGGGCCGATTCACCATCTCCAGAGACAACGCCAAGAACTCACTGTATCTGCAAATGAACAGCCTGAGAGCCGAGGACACGGCTGTGTATTACTGTGCGAGA-CTGTCTGGCAGCAGCTGGG-AC-T-TT--GACTACTGGGGCCAGGGAACCCTGGTCACCGTCTCCTCA\n",
      "\n",
      "CAGGTGCAGCTGGTGGAGTCTGGGGGAGGCGTGGTCCAGCCTGGGAGGTCCCTGAGACTCTCCTGTGCAGCCTCTGGATTCACCTTCAGTAGCTATGCTATGCACTGGGTCCGCCAGGCTCCAGGCAAGGGGCTGGAGTGGGTGGCAGGTATATCATATGATGGAAGCAATAAATACTACGCAGACTCCGTGAAGGGCCGATTCACCATCTCCAGAGACAATTCCAAGAACACGCTGTATCTGCAAATGAACAGCCTGAGAGCTGAGGACACGGCTGTGTATTACTGTGCGAGAGCGGACACTATGGTTCGGGGAACTTATTTTGAGTACTGGGGCCAGGGAACCCTGGTCACCGTCTCCTCA\n",
      ".|||||||||||||||||||||||||||||.||||||||||||||.|||||||||||||||||||||.||||||||||||||||||.|||..||||...|||..|||||||||||||||||||||.||||||||.|||||||||||....|||....|.||||||.|..|.||||||||.|..|||||.||||||||||||||||||||||||||||||||..||||||||.|.|||||||||||||||||||||||||||||.||||||||||||||||||||||||||||||-|.|.|.....|...|.||||-|||---|-||.||||||||||||||||||||||||||||||||||||\n",
      "GAGGTGCAGCTGGTGGAGTCTGGGGGAGGCTTGGTCCAGCCTGGGGGGTCCCTGAGACTCTCCTGTGTAGCCTCTGGATTCACCTTTAGTTTCTATTGGATGAGCTGGGTCCGCCAGGCTCCAGGAAAGGGGCTCGAGTGGGTGGCCAACATAAAGCAAGATGGAGGTGAGAAATACTATGTGGACTCTGTGAAGGGCCGATTCACCATCTCCAGAGACAACGCCAAGAACTCACTGTATCTGCAAATGAACAGCCTGAGAGCCGAGGACACGGCTGTGTATTACTGTGCGAGA-CTGTCTGGCAGCAGCTGGGA-CTT---T-GACTACTGGGGCCAGGGAACCCTGGTCACCGTCTCCTCA\n",
      "\n",
      "CAGGTGCAGCTGGTGGAGTCTGGGGGAGGCGTGGTCCAGCCTGGGAGGTCCCTGAGACTCTCCTGTGCAGCCTCTGGATTCACCTTCAGTAGCTATGCTATGCACTGGGTCCGCCAGGCTCCAGGCAAGGGGCTGGAGTGGGTGGCAGGTATATCATATGATGGAAGCAATAAATACTACGCAGACTCCGTGAAGGGCCGATTCACCATCTCCAGAGACAATTCCAAGAACACGCTGTATCTGCAAATGAACAGCCTGAGAGCTGAGGACACGGCTGTGTATTACTGTGCGAGAGCGGACACTATGGTTCGGGGAACTTATTTTGAGTACTGGGGCCAGGGAACCCTGGTCACCGTCTCCTCA\n",
      ".|||||||||||||||||||||||||||||.||||||||||||||.|||||||||||||||||||||.||||||||||||||||||.|||..||||...|||..|||||||||||||||||||||.||||||||.|||||||||||....|||....|.||||||.|..|.||||||||.|..|||||.||||||||||||||||||||||||||||||||..||||||||.|.|||||||||||||||||||||||||||||.||||||||||||||||||||||||||||||-|.|.|.....|...|.|||-||||---|-||.||||||||||||||||||||||||||||||||||||\n",
      "GAGGTGCAGCTGGTGGAGTCTGGGGGAGGCTTGGTCCAGCCTGGGGGGTCCCTGAGACTCTCCTGTGTAGCCTCTGGATTCACCTTTAGTTTCTATTGGATGAGCTGGGTCCGCCAGGCTCCAGGAAAGGGGCTCGAGTGGGTGGCCAACATAAAGCAAGATGGAGGTGAGAAATACTATGTGGACTCTGTGAAGGGCCGATTCACCATCTCCAGAGACAACGCCAAGAACTCACTGTATCTGCAAATGAACAGCCTGAGAGCCGAGGACACGGCTGTGTATTACTGTGCGAGA-CTGTCTGGCAGCAGCTGGG-ACTT---T-GACTACTGGGGCCAGGGAACCCTGGTCACCGTCTCCTCA\n",
      "\n",
      "CAGGTGCAGCTGGTGGAGTCTGGGGGAGGCGTGGTCCAGCCTGGGAGGTCCCTGAGACTCTCCTGTGCAGCCTCTGGATTCACCTTCAGTAGCTATGCTATGCACTGGGTCCGCCAGGCTCCAGGCAAGGGGCTGGAGTGGGTGGCAGGTATATCATATGATGGAAGCAATAAATACTACGCAGACTCCGTGAAGGGCCGATTCACCATCTCCAGAGACAATTCCAAGAACACGCTGTATCTGCAAATGAACAGCCTGAGAGCTGAGGACACGGCTGTGTATTACTGTGCGAGAGCGGACACTATGGTTCGGGGAACTTATTTTGAGTACTGGGGCCAGGGAACCCTGGTCACCGTCTCCTCA\n",
      ".|||||||||||||||||||||||||||||.||||||||||||||.|||||||||||||||||||||.||||||||||||||||||.|||..||||...|||..|||||||||||||||||||||.||||||||.|||||||||||....|||....|.||||||.|..|.||||||||.|..|||||.||||||||||||||||||||||||||||||||..||||||||.|.|||||||||||||||||||||||||||||.||||||||||||||||||||||||||||||-|.|.|.....|...|.||||-||--|-|-||.||||||||||||||||||||||||||||||||||||\n",
      "GAGGTGCAGCTGGTGGAGTCTGGGGGAGGCTTGGTCCAGCCTGGGGGGTCCCTGAGACTCTCCTGTGTAGCCTCTGGATTCACCTTTAGTTTCTATTGGATGAGCTGGGTCCGCCAGGCTCCAGGAAAGGGGCTCGAGTGGGTGGCCAACATAAAGCAAGATGGAGGTGAGAAATACTATGTGGACTCTGTGAAGGGCCGATTCACCATCTCCAGAGACAACGCCAAGAACTCACTGTATCTGCAAATGAACAGCCTGAGAGCCGAGGACACGGCTGTGTATTACTGTGCGAGA-CTGTCTGGCAGCAGCTGGGA-CT--T-T-GACTACTGGGGCCAGGGAACCCTGGTCACCGTCTCCTCA\n",
      "\n",
      "CAGGTGCAGCTGGTGGAGTCTGGGGGAGGCGTGGTCCAGCCTGGGAGGTCCCTGAGACTCTCCTGTGCAGCCTCTGGATTCACCTTCAGTAGCTATGCTATGCACTGGGTCCGCCAGGCTCCAGGCAAGGGGCTGGAGTGGGTGGCAGGTATATCATATGATGGAAGCAATAAATACTACGCAGACTCCGTGAAGGGCCGATTCACCATCTCCAGAGACAATTCCAAGAACACGCTGTATCTGCAAATGAACAGCCTGAGAGCTGAGGACACGGCTGTGTATTACTGTGCGAGAGCGGACACTATGGTTCGGGGAACTTATTTTGAGTACTGGGGCCAGGGAACCCTGGTCACCGTCTCCTCA\n",
      ".|||||||||||||||||||||||||||||.||||||||||||||.|||||||||||||||||||||.||||||||||||||||||.|||..||||...|||..|||||||||||||||||||||.||||||||.|||||||||||....|||....|.||||||.|..|.||||||||.|..|||||.||||||||||||||||||||||||||||||||..||||||||.|.|||||||||||||||||||||||||||||.||||||||||||||||||||||||||||||-|.|.|.....|...|.|||-|||--|-|-||.||||||||||||||||||||||||||||||||||||\n",
      "GAGGTGCAGCTGGTGGAGTCTGGGGGAGGCTTGGTCCAGCCTGGGGGGTCCCTGAGACTCTCCTGTGTAGCCTCTGGATTCACCTTTAGTTTCTATTGGATGAGCTGGGTCCGCCAGGCTCCAGGAAAGGGGCTCGAGTGGGTGGCCAACATAAAGCAAGATGGAGGTGAGAAATACTATGTGGACTCTGTGAAGGGCCGATTCACCATCTCCAGAGACAACGCCAAGAACTCACTGTATCTGCAAATGAACAGCCTGAGAGCCGAGGACACGGCTGTGTATTACTGTGCGAGA-CTGTCTGGCAGCAGCTGGG-ACT--T-T-GACTACTGGGGCCAGGGAACCCTGGTCACCGTCTCCTCA\n",
      "\n",
      "CAGGTGCAGCTGGTGGAGTCTGGGGGAGGCGTGGTCCAGCCTGGGAGGTCCCTGAGACTCTCCTGTGCAGCCTCTGGATTCACCTTCAGTAGCTATGCTATGCACTGGGTCCGCCAGGCTCCAGGCAAGGGGCTGGAGTGGGTGGCAGGTATATCATATGATGGAAGCAATAAATACTACGCAGACTCCGTGAAGGGCCGATTCACCATCTCCAGAGACAATTCCAAGAACACGCTGTATCTGCAAATGAACAGCCTGAGAGCTGAGGACACGGCTGTGTATTACTGTGCGAGAGCGGACACTATGGTTCGGGGAACTTATTTTGAGTACTGGGGCCAGGGAACCCTGGTCACCGTCTCCTCA\n",
      ".|||||||||||||||||||||||||||||.||||||||||||||.|||||||||||||||||||||.||||||||||||||||||.|||..||||...|||..|||||||||||||||||||||.||||||||.|||||||||||....|||....|.||||||.|..|.||||||||.|..|||||.||||||||||||||||||||||||||||||||..||||||||.|.|||||||||||||||||||||||||||||.||||||||||||||||||||||||||||||-|.|.|.....|...|.||||-|-|-|-|-||.||||||||||||||||||||||||||||||||||||\n",
      "GAGGTGCAGCTGGTGGAGTCTGGGGGAGGCTTGGTCCAGCCTGGGGGGTCCCTGAGACTCTCCTGTGTAGCCTCTGGATTCACCTTTAGTTTCTATTGGATGAGCTGGGTCCGCCAGGCTCCAGGAAAGGGGCTCGAGTGGGTGGCCAACATAAAGCAAGATGGAGGTGAGAAATACTATGTGGACTCTGTGAAGGGCCGATTCACCATCTCCAGAGACAACGCCAAGAACTCACTGTATCTGCAAATGAACAGCCTGAGAGCCGAGGACACGGCTGTGTATTACTGTGCGAGA-CTGTCTGGCAGCAGCTGGGA-C-T-T-T-GACTACTGGGGCCAGGGAACCCTGGTCACCGTCTCCTCA\n",
      "\n",
      "CAGGTGCAGCTGGTGGAGTCTGGGGGAGGCGTGGTCCAGCCTGGGAGGTCCCTGAGACTCTCCTGTGCAGCCTCTGGATTCACCTTCAGTAGCTATGCTATGCACTGGGTCCGCCAGGCTCCAGGCAAGGGGCTGGAGTGGGTGGCAGGTATATCATATGATGGAAGCAATAAATACTACGCAGACTCCGTGAAGGGCCGATTCACCATCTCCAGAGACAATTCCAAGAACACGCTGTATCTGCAAATGAACAGCCTGAGAGCTGAGGACACGGCTGTGTATTACTGTGCGAGAGCGGACACTATGGTTCGGGGAACTTATTTTGAGTACTGGGGCCAGGGAACCCTGGTCACCGTCTCCTCA\n",
      ".|||||||||||||||||||||||||||||.||||||||||||||.|||||||||||||||||||||.||||||||||||||||||.|||..||||...|||..|||||||||||||||||||||.||||||||.|||||||||||....|||....|.||||||.|..|.||||||||.|..|||||.||||||||||||||||||||||||||||||||..||||||||.|.|||||||||||||||||||||||||||||.||||||||||||||||||||||||||||||-|.|.|.....|...|.|||-||-|-|-|-||.||||||||||||||||||||||||||||||||||||\n",
      "GAGGTGCAGCTGGTGGAGTCTGGGGGAGGCTTGGTCCAGCCTGGGGGGTCCCTGAGACTCTCCTGTGTAGCCTCTGGATTCACCTTTAGTTTCTATTGGATGAGCTGGGTCCGCCAGGCTCCAGGAAAGGGGCTCGAGTGGGTGGCCAACATAAAGCAAGATGGAGGTGAGAAATACTATGTGGACTCTGTGAAGGGCCGATTCACCATCTCCAGAGACAACGCCAAGAACTCACTGTATCTGCAAATGAACAGCCTGAGAGCCGAGGACACGGCTGTGTATTACTGTGCGAGA-CTGTCTGGCAGCAGCTGGG-AC-T-T-T-GACTACTGGGGCCAGGGAACCCTGGTCACCGTCTCCTCA\n",
      "\n",
      "CAGGTGCAGCTGGTGGAGTCTGGGGGAGGCGTGGTCCAGCCTGGGAGGTCCCTGAGACTCTCCTGTGCAGCCTCTGGATTCACCTTCAGTAGCTATGCTATGCACTGGGTCCGCCAGGCTCCAGGCAAGGGGCTGGAGTGGGTGGCAGGTATATCATATGATGGAAGCAATAAATACTACGCAGACTCCGTGAAGGGCCGATTCACCATCTCCAGAGACAATTCCAAGAACACGCTGTATCTGCAAATGAACAGCCTGAGAGCTGAGGACACGGCTGTGTATTACTGTGCGAGAGCGGACACTATGGTTCGGGGAACTTATTTTGAGTACTGGGGCCAGGGAACCCTGGTCACCGTCTCCTCA\n",
      ".|||||||||||||||||||||||||||||.||||||||||||||.|||||||||||||||||||||.||||||||||||||||||.|||..||||...|||..|||||||||||||||||||||.||||||||.|||||||||||....|||....|.||||||.|..|.||||||||.|..|||||.||||||||||||||||||||||||||||||||..||||||||.|.|||||||||||||||||||||||||||||.||||||||||||||||||||||||||||||-|.|.|.....|...|.||||-||---||-||.||||||||||||||||||||||||||||||||||||\n",
      "GAGGTGCAGCTGGTGGAGTCTGGGGGAGGCTTGGTCCAGCCTGGGGGGTCCCTGAGACTCTCCTGTGTAGCCTCTGGATTCACCTTTAGTTTCTATTGGATGAGCTGGGTCCGCCAGGCTCCAGGAAAGGGGCTCGAGTGGGTGGCCAACATAAAGCAAGATGGAGGTGAGAAATACTATGTGGACTCTGTGAAGGGCCGATTCACCATCTCCAGAGACAACGCCAAGAACTCACTGTATCTGCAAATGAACAGCCTGAGAGCCGAGGACACGGCTGTGTATTACTGTGCGAGA-CTGTCTGGCAGCAGCTGGGA-CT---TT-GACTACTGGGGCCAGGGAACCCTGGTCACCGTCTCCTCA\n",
      "\n",
      "CAGGTGCAGCTGGTGGAGTCTGGGGGAGGCGTGGTCCAGCCTGGGAGGTCCCTGAGACTCTCCTGTGCAGCCTCTGGATTCACCTTCAGTAGCTATGCTATGCACTGGGTCCGCCAGGCTCCAGGCAAGGGGCTGGAGTGGGTGGCAGGTATATCATATGATGGAAGCAATAAATACTACGCAGACTCCGTGAAGGGCCGATTCACCATCTCCAGAGACAATTCCAAGAACACGCTGTATCTGCAAATGAACAGCCTGAGAGCTGAGGACACGGCTGTGTATTACTGTGCGAGAGCGGACACTATGGTTCGGGGAACTTATTTTGAGTACTGGGGCCAGGGAACCCTGGTCACCGTCTCCTCA\n",
      ".|||||||||||||||||||||||||||||.||||||||||||||.|||||||||||||||||||||.||||||||||||||||||.|||..||||...|||..|||||||||||||||||||||.||||||||.|||||||||||....|||....|.||||||.|..|.||||||||.|..|||||.||||||||||||||||||||||||||||||||..||||||||.|.|||||||||||||||||||||||||||||.||||||||||||||||||||||||||||||-|.|.|.....|...|.|||-|||---||-||.||||||||||||||||||||||||||||||||||||\n",
      "GAGGTGCAGCTGGTGGAGTCTGGGGGAGGCTTGGTCCAGCCTGGGGGGTCCCTGAGACTCTCCTGTGTAGCCTCTGGATTCACCTTTAGTTTCTATTGGATGAGCTGGGTCCGCCAGGCTCCAGGAAAGGGGCTCGAGTGGGTGGCCAACATAAAGCAAGATGGAGGTGAGAAATACTATGTGGACTCTGTGAAGGGCCGATTCACCATCTCCAGAGACAACGCCAAGAACTCACTGTATCTGCAAATGAACAGCCTGAGAGCCGAGGACACGGCTGTGTATTACTGTGCGAGA-CTGTCTGGCAGCAGCTGGG-ACT---TT-GACTACTGGGGCCAGGGAACCCTGGTCACCGTCTCCTCA\n",
      "\n",
      "CAGGTGCAGCTGGTGGAGTCTGGGGGAGGCGTGGTCCAGCCTGGGAGGTCCCTGAGACTCTCCTGTGCAGCCTCTGGATTCACCTTCAGTAGCTATGCTATGCACTGGGTCCGCCAGGCTCCAGGCAAGGGGCTGGAGTGGGTGGCAGGTATATCATATGATGGAAGCAATAAATACTACGCAGACTCCGTGAAGGGCCGATTCACCATCTCCAGAGACAATTCCAAGAACACGCTGTATCTGCAAATGAACAGCCTGAGAGCTGAGGACACGGCTGTGTATTACTGTGCGAGAGCGGACACTATGGTTCGGGGAACTTATTTTGAGTACTGGGGCCAGGGAACCCTGGTCACCGTCTCCTCA\n",
      ".|||||||||||||||||||||||||||||.||||||||||||||.|||||||||||||||||||||.||||||||||||||||||.|||..||||...|||..|||||||||||||||||||||.||||||||.|||||||||||....|||....|.||||||.|..|.||||||||.|..|||||.||||||||||||||||||||||||||||||||..||||||||.|.|||||||||||||||||||||||||||||.||||||||||||||||||||||||||||||-|.|.|.....|...|.||||-|-|--||-||.||||||||||||||||||||||||||||||||||||\n",
      "GAGGTGCAGCTGGTGGAGTCTGGGGGAGGCTTGGTCCAGCCTGGGGGGTCCCTGAGACTCTCCTGTGTAGCCTCTGGATTCACCTTTAGTTTCTATTGGATGAGCTGGGTCCGCCAGGCTCCAGGAAAGGGGCTCGAGTGGGTGGCCAACATAAAGCAAGATGGAGGTGAGAAATACTATGTGGACTCTGTGAAGGGCCGATTCACCATCTCCAGAGACAACGCCAAGAACTCACTGTATCTGCAAATGAACAGCCTGAGAGCCGAGGACACGGCTGTGTATTACTGTGCGAGA-CTGTCTGGCAGCAGCTGGGA-C-T--TT-GACTACTGGGGCCAGGGAACCCTGGTCACCGTCTCCTCA\n",
      "\n",
      "CAGGTGCAGCTGGTGGAGTCTGGGGGAGGCGTGGTCCAGCCTGGGAGGTCCCTGAGACTCTCCTGTGCAGCCTCTGGATTCACCTTCAGTAGCTATGCTATGCACTGGGTCCGCCAGGCTCCAGGCAAGGGGCTGGAGTGGGTGGCAGGTATATCATATGATGGAAGCAATAAATACTACGCAGACTCCGTGAAGGGCCGATTCACCATCTCCAGAGACAATTCCAAGAACACGCTGTATCTGCAAATGAACAGCCTGAGAGCTGAGGACACGGCTGTGTATTACTGTGCGAGAGCGGACACTATGGTTCGGGGAACTTATTTTGAGTACTGGGGCCAGGGAACCCTGGTCACCGTCTCCTCA\n",
      ".|||||||||||||||||||||||||||||.||||||||||||||.|||||||||||||||||||||.||||||||||||||||||.|||..||||...|||..|||||||||||||||||||||.||||||||.|||||||||||....|||....|.||||||.|..|.||||||||.|..|||||.||||||||||||||||||||||||||||||||..||||||||.|.|||||||||||||||||||||||||||||.||||||||||||||||||||||||||||||-|.|.|.....|...|.|||-||-|--||-||.||||||||||||||||||||||||||||||||||||\n",
      "GAGGTGCAGCTGGTGGAGTCTGGGGGAGGCTTGGTCCAGCCTGGGGGGTCCCTGAGACTCTCCTGTGTAGCCTCTGGATTCACCTTTAGTTTCTATTGGATGAGCTGGGTCCGCCAGGCTCCAGGAAAGGGGCTCGAGTGGGTGGCCAACATAAAGCAAGATGGAGGTGAGAAATACTATGTGGACTCTGTGAAGGGCCGATTCACCATCTCCAGAGACAACGCCAAGAACTCACTGTATCTGCAAATGAACAGCCTGAGAGCCGAGGACACGGCTGTGTATTACTGTGCGAGA-CTGTCTGGCAGCAGCTGGG-AC-T--TT-GACTACTGGGGCCAGGGAACCCTGGTCACCGTCTCCTCA\n",
      "\n",
      "CAGGTGCAGCTGGTGGAGTCTGGGGGAGGCGTGGTCCAGCCTGGGAGGTCCCTGAGACTCTCCTGTGCAGCCTCTGGATTCACCTTCAGTAGCTATGCTATGCACTGGGTCCGCCAGGCTCCAGGCAAGGGGCTGGAGTGGGTGGCAGGTATATCATATGATGGAAGCAATAAATACTACGCAGACTCCGTGAAGGGCCGATTCACCATCTCCAGAGACAATTCCAAGAACACGCTGTATCTGCAAATGAACAGCCTGAGAGCTGAGGACACGGCTGTGTATTACTGTGCGAGAGCGGACACTATGGTTCGGGGAACTTATTTTGAGTACTGGGGCCAGGGAACCCTGGTCACCGTCTCCTCA\n",
      ".|||||||||||||||||||||||||||||.||||||||||||||.|||||||||||||||||||||.||||||||||||||||||.|||..||||...|||..|||||||||||||||||||||.||||||||.|||||||||||....|||....|.||||||.|..|.||||||||.|..|||||.||||||||||||||||||||||||||||||||..||||||||.|.|||||||||||||||||||||||||||||.||||||||||||||||||||||||||||||-|.|.|.....|...|.||||-|---|||-||.||||||||||||||||||||||||||||||||||||\n",
      "GAGGTGCAGCTGGTGGAGTCTGGGGGAGGCTTGGTCCAGCCTGGGGGGTCCCTGAGACTCTCCTGTGTAGCCTCTGGATTCACCTTTAGTTTCTATTGGATGAGCTGGGTCCGCCAGGCTCCAGGAAAGGGGCTCGAGTGGGTGGCCAACATAAAGCAAGATGGAGGTGAGAAATACTATGTGGACTCTGTGAAGGGCCGATTCACCATCTCCAGAGACAACGCCAAGAACTCACTGTATCTGCAAATGAACAGCCTGAGAGCCGAGGACACGGCTGTGTATTACTGTGCGAGA-CTGTCTGGCAGCAGCTGGGA-C---TTT-GACTACTGGGGCCAGGGAACCCTGGTCACCGTCTCCTCA\n",
      "\n",
      "CAGGTGCAGCTGGTGGAGTCTGGGGGAGGCGTGGTCCAGCCTGGGAGGTCCCTGAGACTCTCCTGTGCAGCCTCTGGATTCACCTTCAGTAGCTATGCTATGCACTGGGTCCGCCAGGCTCCAGGCAAGGGGCTGGAGTGGGTGGCAGGTATATCATATGATGGAAGCAATAAATACTACGCAGACTCCGTGAAGGGCCGATTCACCATCTCCAGAGACAATTCCAAGAACACGCTGTATCTGCAAATGAACAGCCTGAGAGCTGAGGACACGGCTGTGTATTACTGTGCGAGAGCGGACACTATGGTTCGGGGAACTTATTTTGAGTACTGGGGCCAGGGAACCCTGGTCACCGTCTCCTCA\n",
      ".|||||||||||||||||||||||||||||.||||||||||||||.|||||||||||||||||||||.||||||||||||||||||.|||..||||...|||..|||||||||||||||||||||.||||||||.|||||||||||....|||....|.||||||.|..|.||||||||.|..|||||.||||||||||||||||||||||||||||||||..||||||||.|.|||||||||||||||||||||||||||||.||||||||||||||||||||||||||||||-|.|.|.....|...|.|||-||---|||-||.||||||||||||||||||||||||||||||||||||\n",
      "GAGGTGCAGCTGGTGGAGTCTGGGGGAGGCTTGGTCCAGCCTGGGGGGTCCCTGAGACTCTCCTGTGTAGCCTCTGGATTCACCTTTAGTTTCTATTGGATGAGCTGGGTCCGCCAGGCTCCAGGAAAGGGGCTCGAGTGGGTGGCCAACATAAAGCAAGATGGAGGTGAGAAATACTATGTGGACTCTGTGAAGGGCCGATTCACCATCTCCAGAGACAACGCCAAGAACTCACTGTATCTGCAAATGAACAGCCTGAGAGCCGAGGACACGGCTGTGTATTACTGTGCGAGA-CTGTCTGGCAGCAGCTGGG-AC---TTT-GACTACTGGGGCCAGGGAACCCTGGTCACCGTCTCCTCA\n",
      "\n",
      "CAGGTGCAGCTGGTGGAGTCTGGGGGAGGCGTGGTCCAGCCTGGGAGGTCCCTGAGACTCTCCTGTGCAGCCTCTGGATTCACCTTCAGTAGCTATGCTATGCACTGGGTCCGCCAGGCTCCAGGCAAGGGGCTGGAGTGGGTGGCAGGTATATCATATGATGGAAGCAATAAATACTACGCAGACTCCGTGAAGGGCCGATTCACCATCTCCAGAGACAATTCCAAGAACACGCTGTATCTGCAAATGAACAGCCTGAGAGCTGAGGACACGGCTGTGTATTACTGTGCGAGAGCGGACACTATGGTTCGGGGAACTTATTTTGAGTACTGGGGCCAGGGAACCCTGGTCACCGTCTCCTCA\n",
      ".|||||||||||||||||||||||||||||.||||||||||||||.|||||||||||||||||||||.||||||||||||||||||.|||..||||...|||..|||||||||||||||||||||.||||||||.|||||||||||....|||....|.||||||.|..|.||||||||.|..|||||.||||||||||||||||||||||||||||||||..||||||||.|.|||||||||||||||||||||||||||||.||||||||||||||||||||||||||||||-|.|.|.....|...|.||||-|||----|||.||||||||||||||||||||||||||||||||||||\n",
      "GAGGTGCAGCTGGTGGAGTCTGGGGGAGGCTTGGTCCAGCCTGGGGGGTCCCTGAGACTCTCCTGTGTAGCCTCTGGATTCACCTTTAGTTTCTATTGGATGAGCTGGGTCCGCCAGGCTCCAGGAAAGGGGCTCGAGTGGGTGGCCAACATAAAGCAAGATGGAGGTGAGAAATACTATGTGGACTCTGTGAAGGGCCGATTCACCATCTCCAGAGACAACGCCAAGAACTCACTGTATCTGCAAATGAACAGCCTGAGAGCCGAGGACACGGCTGTGTATTACTGTGCGAGA-CTGTCTGGCAGCAGCTGGGA-CTT----TGACTACTGGGGCCAGGGAACCCTGGTCACCGTCTCCTCA\n",
      "\n",
      "CAGGTGCAGCTGGTGGAGTCTGGGGGAGGCGTGGTCCAGCCTGGGAGGTCCCTGAGACTCTCCTGTGCAGCCTCTGGATTCACCTTCAGTAGCTATGCTATGCACTGGGTCCGCCAGGCTCCAGGCAAGGGGCTGGAGTGGGTGGCAGGTATATCATATGATGGAAGCAATAAATACTACGCAGACTCCGTGAAGGGCCGATTCACCATCTCCAGAGACAATTCCAAGAACACGCTGTATCTGCAAATGAACAGCCTGAGAGCTGAGGACACGGCTGTGTATTACTGTGCGAGAGCGGACACTATGGTTCGGGGAACTTATTTTGAGTACTGGGGCCAGGGAACCCTGGTCACCGTCTCCTCA\n",
      ".|||||||||||||||||||||||||||||.||||||||||||||.|||||||||||||||||||||.||||||||||||||||||.|||..||||...|||..|||||||||||||||||||||.||||||||.|||||||||||....|||....|.||||||.|..|.||||||||.|..|||||.||||||||||||||||||||||||||||||||..||||||||.|.|||||||||||||||||||||||||||||.||||||||||||||||||||||||||||||-|.|.|.....|...|.|||-||||----|||.||||||||||||||||||||||||||||||||||||\n",
      "GAGGTGCAGCTGGTGGAGTCTGGGGGAGGCTTGGTCCAGCCTGGGGGGTCCCTGAGACTCTCCTGTGTAGCCTCTGGATTCACCTTTAGTTTCTATTGGATGAGCTGGGTCCGCCAGGCTCCAGGAAAGGGGCTCGAGTGGGTGGCCAACATAAAGCAAGATGGAGGTGAGAAATACTATGTGGACTCTGTGAAGGGCCGATTCACCATCTCCAGAGACAACGCCAAGAACTCACTGTATCTGCAAATGAACAGCCTGAGAGCCGAGGACACGGCTGTGTATTACTGTGCGAGA-CTGTCTGGCAGCAGCTGGG-ACTT----TGACTACTGGGGCCAGGGAACCCTGGTCACCGTCTCCTCA\n",
      "\n",
      "CAGGTGCAGCTGGTGGAGTCTGGGGGAGGCGTGGTCCAGCCTGGGAGGTCCCTGAGACTCTCCTGTGCAGCCTCTGGATTCACCTTCAGTAGCTATGCTATGCACTGGGTCCGCCAGGCTCCAGGCAAGGGGCTGGAGTGGGTGGCAGGTATATCATATGATGGAAGCAATAAATACTACGCAGACTCCGTGAAGGGCCGATTCACCATCTCCAGAGACAATTCCAAGAACACGCTGTATCTGCAAATGAACAGCCTGAGAGCTGAGGACACGGCTGTGTATTACTGTGCGAGAGCGGACACTATGGTTCGGGGAACTTATTTTGAGTACTGGGGCCAGGGAACCCTGGTCACCGTCTCCTCA\n",
      ".|||||||||||||||||||||||||||||.||||||||||||||.|||||||||||||||||||||.||||||||||||||||||.|||..||||...|||..|||||||||||||||||||||.||||||||.|||||||||||....|||....|.||||||.|..|.||||||||.|..|||||.||||||||||||||||||||||||||||||||..||||||||.|.|||||||||||||||||||||||||||||.||||||||||||||||||||||||||||||-|.|.|.....|...|.||||-||--|--|||.||||||||||||||||||||||||||||||||||||\n",
      "GAGGTGCAGCTGGTGGAGTCTGGGGGAGGCTTGGTCCAGCCTGGGGGGTCCCTGAGACTCTCCTGTGTAGCCTCTGGATTCACCTTTAGTTTCTATTGGATGAGCTGGGTCCGCCAGGCTCCAGGAAAGGGGCTCGAGTGGGTGGCCAACATAAAGCAAGATGGAGGTGAGAAATACTATGTGGACTCTGTGAAGGGCCGATTCACCATCTCCAGAGACAACGCCAAGAACTCACTGTATCTGCAAATGAACAGCCTGAGAGCCGAGGACACGGCTGTGTATTACTGTGCGAGA-CTGTCTGGCAGCAGCTGGGA-CT--T--TGACTACTGGGGCCAGGGAACCCTGGTCACCGTCTCCTCA\n",
      "\n",
      "CAGGTGCAGCTGGTGGAGTCTGGGGGAGGCGTGGTCCAGCCTGGGAGGTCCCTGAGACTCTCCTGTGCAGCCTCTGGATTCACCTTCAGTAGCTATGCTATGCACTGGGTCCGCCAGGCTCCAGGCAAGGGGCTGGAGTGGGTGGCAGGTATATCATATGATGGAAGCAATAAATACTACGCAGACTCCGTGAAGGGCCGATTCACCATCTCCAGAGACAATTCCAAGAACACGCTGTATCTGCAAATGAACAGCCTGAGAGCTGAGGACACGGCTGTGTATTACTGTGCGAGAGCGGACACTATGGTTCGGGGAACTTATTTTGAGTACTGGGGCCAGGGAACCCTGGTCACCGTCTCCTCA\n",
      ".|||||||||||||||||||||||||||||.||||||||||||||.|||||||||||||||||||||.||||||||||||||||||.|||..||||...|||..|||||||||||||||||||||.||||||||.|||||||||||....|||....|.||||||.|..|.||||||||.|..|||||.||||||||||||||||||||||||||||||||..||||||||.|.|||||||||||||||||||||||||||||.||||||||||||||||||||||||||||||-|.|.|.....|...|.|||-|||--|--|||.||||||||||||||||||||||||||||||||||||\n",
      "GAGGTGCAGCTGGTGGAGTCTGGGGGAGGCTTGGTCCAGCCTGGGGGGTCCCTGAGACTCTCCTGTGTAGCCTCTGGATTCACCTTTAGTTTCTATTGGATGAGCTGGGTCCGCCAGGCTCCAGGAAAGGGGCTCGAGTGGGTGGCCAACATAAAGCAAGATGGAGGTGAGAAATACTATGTGGACTCTGTGAAGGGCCGATTCACCATCTCCAGAGACAACGCCAAGAACTCACTGTATCTGCAAATGAACAGCCTGAGAGCCGAGGACACGGCTGTGTATTACTGTGCGAGA-CTGTCTGGCAGCAGCTGGG-ACT--T--TGACTACTGGGGCCAGGGAACCCTGGTCACCGTCTCCTCA\n",
      "\n",
      "CAGGTGCAGCTGGTGGAGTCTGGGGGAGGCGTGGTCCAGCCTGGGAGGTCCCTGAGACTCTCCTGTGCAGCCTCTGGATTCACCTTCAGTAGCTATGCTATGCACTGGGTCCGCCAGGCTCCAGGCAAGGGGCTGGAGTGGGTGGCAGGTATATCATATGATGGAAGCAATAAATACTACGCAGACTCCGTGAAGGGCCGATTCACCATCTCCAGAGACAATTCCAAGAACACGCTGTATCTGCAAATGAACAGCCTGAGAGCTGAGGACACGGCTGTGTATTACTGTGCGAGAGCGGACACTATGGTTCGGGGAACTTATTTTGAGTACTGGGGCCAGGGAACCCTGGTCACCGTCTCCTCA\n",
      ".|||||||||||||||||||||||||||||.||||||||||||||.|||||||||||||||||||||.||||||||||||||||||.|||..||||...|||..|||||||||||||||||||||.||||||||.|||||||||||....|||....|.||||||.|..|.||||||||.|..|||||.||||||||||||||||||||||||||||||||..||||||||.|.|||||||||||||||||||||||||||||.||||||||||||||||||||||||||||||-|.|.|.....|...|.||||-|-|-|--|||.||||||||||||||||||||||||||||||||||||\n",
      "GAGGTGCAGCTGGTGGAGTCTGGGGGAGGCTTGGTCCAGCCTGGGGGGTCCCTGAGACTCTCCTGTGTAGCCTCTGGATTCACCTTTAGTTTCTATTGGATGAGCTGGGTCCGCCAGGCTCCAGGAAAGGGGCTCGAGTGGGTGGCCAACATAAAGCAAGATGGAGGTGAGAAATACTATGTGGACTCTGTGAAGGGCCGATTCACCATCTCCAGAGACAACGCCAAGAACTCACTGTATCTGCAAATGAACAGCCTGAGAGCCGAGGACACGGCTGTGTATTACTGTGCGAGA-CTGTCTGGCAGCAGCTGGGA-C-T-T--TGACTACTGGGGCCAGGGAACCCTGGTCACCGTCTCCTCA\n",
      "\n",
      "CAGGTGCAGCTGGTGGAGTCTGGGGGAGGCGTGGTCCAGCCTGGGAGGTCCCTGAGACTCTCCTGTGCAGCCTCTGGATTCACCTTCAGTAGCTATGCTATGCACTGGGTCCGCCAGGCTCCAGGCAAGGGGCTGGAGTGGGTGGCAGGTATATCATATGATGGAAGCAATAAATACTACGCAGACTCCGTGAAGGGCCGATTCACCATCTCCAGAGACAATTCCAAGAACACGCTGTATCTGCAAATGAACAGCCTGAGAGCTGAGGACACGGCTGTGTATTACTGTGCGAGAGCGGACACTATGGTTCGGGGAACTTATTTTGAGTACTGGGGCCAGGGAACCCTGGTCACCGTCTCCTCA\n",
      ".|||||||||||||||||||||||||||||.||||||||||||||.|||||||||||||||||||||.||||||||||||||||||.|||..||||...|||..|||||||||||||||||||||.||||||||.|||||||||||....|||....|.||||||.|..|.||||||||.|..|||||.||||||||||||||||||||||||||||||||..||||||||.|.|||||||||||||||||||||||||||||.||||||||||||||||||||||||||||||-|.|.|.....|...|.|||-||-|-|--|||.||||||||||||||||||||||||||||||||||||\n",
      "GAGGTGCAGCTGGTGGAGTCTGGGGGAGGCTTGGTCCAGCCTGGGGGGTCCCTGAGACTCTCCTGTGTAGCCTCTGGATTCACCTTTAGTTTCTATTGGATGAGCTGGGTCCGCCAGGCTCCAGGAAAGGGGCTCGAGTGGGTGGCCAACATAAAGCAAGATGGAGGTGAGAAATACTATGTGGACTCTGTGAAGGGCCGATTCACCATCTCCAGAGACAACGCCAAGAACTCACTGTATCTGCAAATGAACAGCCTGAGAGCCGAGGACACGGCTGTGTATTACTGTGCGAGA-CTGTCTGGCAGCAGCTGGG-AC-T-T--TGACTACTGGGGCCAGGGAACCCTGGTCACCGTCTCCTCA\n",
      "\n",
      "CAGGTGCAGCTGGTGGAGTCTGGGGGAGGCGTGGTCCAGCCTGGGAGGTCCCTGAGACTCTCCTGTGCAGCCTCTGGATTCACCTTCAGTAGCTATGCTATGCACTGGGTCCGCCAGGCTCCAGGCAAGGGGCTGGAGTGGGTGGCAGGTATATCATATGATGGAAGCAATAAATACTACGCAGACTCCGTGAAGGGCCGATTCACCATCTCCAGAGACAATTCCAAGAACACGCTGTATCTGCAAATGAACAGCCTGAGAGCTGAGGACACGGCTGTGTATTACTGTGCGAGAGCGGACACTATGGTTCGGGGAACTTATTTTGAGTACTGGGGCCAGGGAACCCTGGTCACCGTCTCCTCA\n",
      ".|||||||||||||||||||||||||||||.||||||||||||||.|||||||||||||||||||||.||||||||||||||||||.|||..||||...|||..|||||||||||||||||||||.||||||||.|||||||||||....|||....|.||||||.|..|.||||||||.|..|||||.||||||||||||||||||||||||||||||||..||||||||.|.|||||||||||||||||||||||||||||.||||||||||||||||||||||||||||||-|.|.|.....|...|.||||-||---|-|||.||||||||||||||||||||||||||||||||||||\n",
      "GAGGTGCAGCTGGTGGAGTCTGGGGGAGGCTTGGTCCAGCCTGGGGGGTCCCTGAGACTCTCCTGTGTAGCCTCTGGATTCACCTTTAGTTTCTATTGGATGAGCTGGGTCCGCCAGGCTCCAGGAAAGGGGCTCGAGTGGGTGGCCAACATAAAGCAAGATGGAGGTGAGAAATACTATGTGGACTCTGTGAAGGGCCGATTCACCATCTCCAGAGACAACGCCAAGAACTCACTGTATCTGCAAATGAACAGCCTGAGAGCCGAGGACACGGCTGTGTATTACTGTGCGAGA-CTGTCTGGCAGCAGCTGGGA-CT---T-TGACTACTGGGGCCAGGGAACCCTGGTCACCGTCTCCTCA\n",
      "\n",
      "CAGGTGCAGCTGGTGGAGTCTGGGGGAGGCGTGGTCCAGCCTGGGAGGTCCCTGAGACTCTCCTGTGCAGCCTCTGGATTCACCTTCAGTAGCTATGCTATGCACTGGGTCCGCCAGGCTCCAGGCAAGGGGCTGGAGTGGGTGGCAGGTATATCATATGATGGAAGCAATAAATACTACGCAGACTCCGTGAAGGGCCGATTCACCATCTCCAGAGACAATTCCAAGAACACGCTGTATCTGCAAATGAACAGCCTGAGAGCTGAGGACACGGCTGTGTATTACTGTGCGAGAGCGGACACTATGGTTCGGGGAACTTATTTTGAGTACTGGGGCCAGGGAACCCTGGTCACCGTCTCCTCA\n",
      ".|||||||||||||||||||||||||||||.||||||||||||||.|||||||||||||||||||||.||||||||||||||||||.|||..||||...|||..|||||||||||||||||||||.||||||||.|||||||||||....|||....|.||||||.|..|.||||||||.|..|||||.||||||||||||||||||||||||||||||||..||||||||.|.|||||||||||||||||||||||||||||.||||||||||||||||||||||||||||||-|.|.|.....|...|.|||-|||---|-|||.||||||||||||||||||||||||||||||||||||\n",
      "GAGGTGCAGCTGGTGGAGTCTGGGGGAGGCTTGGTCCAGCCTGGGGGGTCCCTGAGACTCTCCTGTGTAGCCTCTGGATTCACCTTTAGTTTCTATTGGATGAGCTGGGTCCGCCAGGCTCCAGGAAAGGGGCTCGAGTGGGTGGCCAACATAAAGCAAGATGGAGGTGAGAAATACTATGTGGACTCTGTGAAGGGCCGATTCACCATCTCCAGAGACAACGCCAAGAACTCACTGTATCTGCAAATGAACAGCCTGAGAGCCGAGGACACGGCTGTGTATTACTGTGCGAGA-CTGTCTGGCAGCAGCTGGG-ACT---T-TGACTACTGGGGCCAGGGAACCCTGGTCACCGTCTCCTCA\n",
      "\n",
      "CAGGTGCAGCTGGTGGAGTCTGGGGGAGGCGTGGTCCAGCCTGGGAGGTCCCTGAGACTCTCCTGTGCAGCCTCTGGATTCACCTTCAGTAGCTATGCTATGCACTGGGTCCGCCAGGCTCCAGGCAAGGGGCTGGAGTGGGTGGCAGGTATATCATATGATGGAAGCAATAAATACTACGCAGACTCCGTGAAGGGCCGATTCACCATCTCCAGAGACAATTCCAAGAACACGCTGTATCTGCAAATGAACAGCCTGAGAGCTGAGGACACGGCTGTGTATTACTGTGCGAGAGCGGACACTATGGTTCGGGGAACTTATTTTGAGTACTGGGGCCAGGGAACCCTGGTCACCGTCTCCTCA\n",
      ".|||||||||||||||||||||||||||||.||||||||||||||.|||||||||||||||||||||.||||||||||||||||||.|||..||||...|||..|||||||||||||||||||||.||||||||.|||||||||||....|||....|.||||||.|..|.||||||||.|..|||||.||||||||||||||||||||||||||||||||..||||||||.|.|||||||||||||||||||||||||||||.||||||||||||||||||||||||||||||-|.|.|.....|...|.||||-|-|--|-|||.||||||||||||||||||||||||||||||||||||\n",
      "GAGGTGCAGCTGGTGGAGTCTGGGGGAGGCTTGGTCCAGCCTGGGGGGTCCCTGAGACTCTCCTGTGTAGCCTCTGGATTCACCTTTAGTTTCTATTGGATGAGCTGGGTCCGCCAGGCTCCAGGAAAGGGGCTCGAGTGGGTGGCCAACATAAAGCAAGATGGAGGTGAGAAATACTATGTGGACTCTGTGAAGGGCCGATTCACCATCTCCAGAGACAACGCCAAGAACTCACTGTATCTGCAAATGAACAGCCTGAGAGCCGAGGACACGGCTGTGTATTACTGTGCGAGA-CTGTCTGGCAGCAGCTGGGA-C-T--T-TGACTACTGGGGCCAGGGAACCCTGGTCACCGTCTCCTCA\n",
      "\n",
      "CAGGTGCAGCTGGTGGAGTCTGGGGGAGGCGTGGTCCAGCCTGGGAGGTCCCTGAGACTCTCCTGTGCAGCCTCTGGATTCACCTTCAGTAGCTATGCTATGCACTGGGTCCGCCAGGCTCCAGGCAAGGGGCTGGAGTGGGTGGCAGGTATATCATATGATGGAAGCAATAAATACTACGCAGACTCCGTGAAGGGCCGATTCACCATCTCCAGAGACAATTCCAAGAACACGCTGTATCTGCAAATGAACAGCCTGAGAGCTGAGGACACGGCTGTGTATTACTGTGCGAGAGCGGACACTATGGTTCGGGGAACTTATTTTGAGTACTGGGGCCAGGGAACCCTGGTCACCGTCTCCTCA\n",
      ".|||||||||||||||||||||||||||||.||||||||||||||.|||||||||||||||||||||.||||||||||||||||||.|||..||||...|||..|||||||||||||||||||||.||||||||.|||||||||||....|||....|.||||||.|..|.||||||||.|..|||||.||||||||||||||||||||||||||||||||..||||||||.|.|||||||||||||||||||||||||||||.||||||||||||||||||||||||||||||-|.|.|.....|...|.|||-||-|--|-|||.||||||||||||||||||||||||||||||||||||\n",
      "GAGGTGCAGCTGGTGGAGTCTGGGGGAGGCTTGGTCCAGCCTGGGGGGTCCCTGAGACTCTCCTGTGTAGCCTCTGGATTCACCTTTAGTTTCTATTGGATGAGCTGGGTCCGCCAGGCTCCAGGAAAGGGGCTCGAGTGGGTGGCCAACATAAAGCAAGATGGAGGTGAGAAATACTATGTGGACTCTGTGAAGGGCCGATTCACCATCTCCAGAGACAACGCCAAGAACTCACTGTATCTGCAAATGAACAGCCTGAGAGCCGAGGACACGGCTGTGTATTACTGTGCGAGA-CTGTCTGGCAGCAGCTGGG-AC-T--T-TGACTACTGGGGCCAGGGAACCCTGGTCACCGTCTCCTCA\n",
      "\n",
      "CAGGTGCAGCTGGTGGAGTCTGGGGGAGGCGTGGTCCAGCCTGGGAGGTCCCTGAGACTCTCCTGTGCAGCCTCTGGATTCACCTTCAGTAGCTATGCTATGCACTGGGTCCGCCAGGCTCCAGGCAAGGGGCTGGAGTGGGTGGCAGGTATATCATATGATGGAAGCAATAAATACTACGCAGACTCCGTGAAGGGCCGATTCACCATCTCCAGAGACAATTCCAAGAACACGCTGTATCTGCAAATGAACAGCCTGAGAGCTGAGGACACGGCTGTGTATTACTGTGCGAGAGCGGACACTATGGTTCGGGGAACTTATTTTGAGTACTGGGGCCAGGGAACCCTGGTCACCGTCTCCTCA\n",
      ".|||||||||||||||||||||||||||||.||||||||||||||.|||||||||||||||||||||.||||||||||||||||||.|||..||||...|||..|||||||||||||||||||||.||||||||.|||||||||||....|||....|.||||||.|..|.||||||||.|..|||||.||||||||||||||||||||||||||||||||..||||||||.|.|||||||||||||||||||||||||||||.||||||||||||||||||||||||||||||-|.|.|.....|...|.||||-|---||-|||.||||||||||||||||||||||||||||||||||||\n",
      "GAGGTGCAGCTGGTGGAGTCTGGGGGAGGCTTGGTCCAGCCTGGGGGGTCCCTGAGACTCTCCTGTGTAGCCTCTGGATTCACCTTTAGTTTCTATTGGATGAGCTGGGTCCGCCAGGCTCCAGGAAAGGGGCTCGAGTGGGTGGCCAACATAAAGCAAGATGGAGGTGAGAAATACTATGTGGACTCTGTGAAGGGCCGATTCACCATCTCCAGAGACAACGCCAAGAACTCACTGTATCTGCAAATGAACAGCCTGAGAGCCGAGGACACGGCTGTGTATTACTGTGCGAGA-CTGTCTGGCAGCAGCTGGGA-C---TT-TGACTACTGGGGCCAGGGAACCCTGGTCACCGTCTCCTCA\n",
      "\n",
      "CAGGTGCAGCTGGTGGAGTCTGGGGGAGGCGTGGTCCAGCCTGGGAGGTCCCTGAGACTCTCCTGTGCAGCCTCTGGATTCACCTTCAGTAGCTATGCTATGCACTGGGTCCGCCAGGCTCCAGGCAAGGGGCTGGAGTGGGTGGCAGGTATATCATATGATGGAAGCAATAAATACTACGCAGACTCCGTGAAGGGCCGATTCACCATCTCCAGAGACAATTCCAAGAACACGCTGTATCTGCAAATGAACAGCCTGAGAGCTGAGGACACGGCTGTGTATTACTGTGCGAGAGCGGACACTATGGTTCGGGGAACTTATTTTGAGTACTGGGGCCAGGGAACCCTGGTCACCGTCTCCTCA\n",
      ".|||||||||||||||||||||||||||||.||||||||||||||.|||||||||||||||||||||.||||||||||||||||||.|||..||||...|||..|||||||||||||||||||||.||||||||.|||||||||||....|||....|.||||||.|..|.||||||||.|..|||||.||||||||||||||||||||||||||||||||..||||||||.|.|||||||||||||||||||||||||||||.||||||||||||||||||||||||||||||-|.|.|.....|...|.|||-||---||-|||.||||||||||||||||||||||||||||||||||||\n",
      "GAGGTGCAGCTGGTGGAGTCTGGGGGAGGCTTGGTCCAGCCTGGGGGGTCCCTGAGACTCTCCTGTGTAGCCTCTGGATTCACCTTTAGTTTCTATTGGATGAGCTGGGTCCGCCAGGCTCCAGGAAAGGGGCTCGAGTGGGTGGCCAACATAAAGCAAGATGGAGGTGAGAAATACTATGTGGACTCTGTGAAGGGCCGATTCACCATCTCCAGAGACAACGCCAAGAACTCACTGTATCTGCAAATGAACAGCCTGAGAGCCGAGGACACGGCTGTGTATTACTGTGCGAGA-CTGTCTGGCAGCAGCTGGG-AC---TT-TGACTACTGGGGCCAGGGAACCCTGGTCACCGTCTCCTCA\n",
      "\n",
      "CAGGTGCAGCTGGTGGAGTCTGGGGGAGGCGTGGTCCAGCCTGGGAGGTCCCTGAGACTCTCCTGTGCAGCCTCTGGATTCACCTTCAGTAGCTATGCTATGCACTGGGTCCGCCAGGCTCCAGGCAAGGGGCTGGAGTGGGTGGCAGGTATATCATATGATGGAAGCAATAAATACTACGCAGACTCCGTGAAGGGCCGATTCACCATCTCCAGAGACAATTCCAAGAACACGCTGTATCTGCAAATGAACAGCCTGAGAGCTGAGGACACGGCTGTGTATTACTGTGCGAGAGCGGACACTATGGTTCGGGGAACTTATTTTGAGTACTGGGGCCAGGGAACCCTGGTCACCGTCTCCTCA\n",
      ".|||||||||||||||||||||||||||||.||||||||||||||.|||||||||||||||||||||.||||||||||||||||||.|||..||||...|||..|||||||||||||||||||||.||||||||.|||||||||||....|||....|.||||||.|..|.||||||||.|..|||||.||||||||||||||||||||||||||||||||..||||||||.|.|||||||||||||||||||||||||||||.||||||||||||||||||||||||||||||-|.|.|.....|...|.||||-||----||||.||||||||||||||||||||||||||||||||||||\n",
      "GAGGTGCAGCTGGTGGAGTCTGGGGGAGGCTTGGTCCAGCCTGGGGGGTCCCTGAGACTCTCCTGTGTAGCCTCTGGATTCACCTTTAGTTTCTATTGGATGAGCTGGGTCCGCCAGGCTCCAGGAAAGGGGCTCGAGTGGGTGGCCAACATAAAGCAAGATGGAGGTGAGAAATACTATGTGGACTCTGTGAAGGGCCGATTCACCATCTCCAGAGACAACGCCAAGAACTCACTGTATCTGCAAATGAACAGCCTGAGAGCCGAGGACACGGCTGTGTATTACTGTGCGAGA-CTGTCTGGCAGCAGCTGGGA-CT----TTGACTACTGGGGCCAGGGAACCCTGGTCACCGTCTCCTCA\n",
      "\n",
      "CAGGTGCAGCTGGTGGAGTCTGGGGGAGGCGTGGTCCAGCCTGGGAGGTCCCTGAGACTCTCCTGTGCAGCCTCTGGATTCACCTTCAGTAGCTATGCTATGCACTGGGTCCGCCAGGCTCCAGGCAAGGGGCTGGAGTGGGTGGCAGGTATATCATATGATGGAAGCAATAAATACTACGCAGACTCCGTGAAGGGCCGATTCACCATCTCCAGAGACAATTCCAAGAACACGCTGTATCTGCAAATGAACAGCCTGAGAGCTGAGGACACGGCTGTGTATTACTGTGCGAGAGCGGACACTATGGTTCGGGGAACTTATTTTGAGTACTGGGGCCAGGGAACCCTGGTCACCGTCTCCTCA\n",
      ".|||||||||||||||||||||||||||||.||||||||||||||.|||||||||||||||||||||.||||||||||||||||||.|||..||||...|||..|||||||||||||||||||||.||||||||.|||||||||||....|||....|.||||||.|..|.||||||||.|..|||||.||||||||||||||||||||||||||||||||..||||||||.|.|||||||||||||||||||||||||||||.||||||||||||||||||||||||||||||-|.|.|.....|...|.|||-|||----||||.||||||||||||||||||||||||||||||||||||\n",
      "GAGGTGCAGCTGGTGGAGTCTGGGGGAGGCTTGGTCCAGCCTGGGGGGTCCCTGAGACTCTCCTGTGTAGCCTCTGGATTCACCTTTAGTTTCTATTGGATGAGCTGGGTCCGCCAGGCTCCAGGAAAGGGGCTCGAGTGGGTGGCCAACATAAAGCAAGATGGAGGTGAGAAATACTATGTGGACTCTGTGAAGGGCCGATTCACCATCTCCAGAGACAACGCCAAGAACTCACTGTATCTGCAAATGAACAGCCTGAGAGCCGAGGACACGGCTGTGTATTACTGTGCGAGA-CTGTCTGGCAGCAGCTGGG-ACT----TTGACTACTGGGGCCAGGGAACCCTGGTCACCGTCTCCTCA\n",
      "\n",
      "CAGGTGCAGCTGGTGGAGTCTGGGGGAGGCGTGGTCCAGCCTGGGAGGTCCCTGAGACTCTCCTGTGCAGCCTCTGGATTCACCTTCAGTAGCTATGCTATGCACTGGGTCCGCCAGGCTCCAGGCAAGGGGCTGGAGTGGGTGGCAGGTATATCATATGATGGAAGCAATAAATACTACGCAGACTCCGTGAAGGGCCGATTCACCATCTCCAGAGACAATTCCAAGAACACGCTGTATCTGCAAATGAACAGCCTGAGAGCTGAGGACACGGCTGTGTATTACTGTGCGAGAGCGGACACTATGGTTCGGGGAACTTATTTTGAGTACTGGGGCCAGGGAACCCTGGTCACCGTCTCCTCA\n",
      ".|||||||||||||||||||||||||||||.||||||||||||||.|||||||||||||||||||||.||||||||||||||||||.|||..||||...|||..|||||||||||||||||||||.||||||||.|||||||||||....|||....|.||||||.|..|.||||||||.|..|||||.||||||||||||||||||||||||||||||||..||||||||.|.|||||||||||||||||||||||||||||.||||||||||||||||||||||||||||||-|.|.|.....|...|.||||-|-|---||||.||||||||||||||||||||||||||||||||||||\n",
      "GAGGTGCAGCTGGTGGAGTCTGGGGGAGGCTTGGTCCAGCCTGGGGGGTCCCTGAGACTCTCCTGTGTAGCCTCTGGATTCACCTTTAGTTTCTATTGGATGAGCTGGGTCCGCCAGGCTCCAGGAAAGGGGCTCGAGTGGGTGGCCAACATAAAGCAAGATGGAGGTGAGAAATACTATGTGGACTCTGTGAAGGGCCGATTCACCATCTCCAGAGACAACGCCAAGAACTCACTGTATCTGCAAATGAACAGCCTGAGAGCCGAGGACACGGCTGTGTATTACTGTGCGAGA-CTGTCTGGCAGCAGCTGGGA-C-T---TTGACTACTGGGGCCAGGGAACCCTGGTCACCGTCTCCTCA\n",
      "\n",
      "CAGGTGCAGCTGGTGGAGTCTGGGGGAGGCGTGGTCCAGCCTGGGAGGTCCCTGAGACTCTCCTGTGCAGCCTCTGGATTCACCTTCAGTAGCTATGCTATGCACTGGGTCCGCCAGGCTCCAGGCAAGGGGCTGGAGTGGGTGGCAGGTATATCATATGATGGAAGCAATAAATACTACGCAGACTCCGTGAAGGGCCGATTCACCATCTCCAGAGACAATTCCAAGAACACGCTGTATCTGCAAATGAACAGCCTGAGAGCTGAGGACACGGCTGTGTATTACTGTGCGAGAGCGGACACTATGGTTCGGGGAACTTATTTTGAGTACTGGGGCCAGGGAACCCTGGTCACCGTCTCCTCA\n",
      ".|||||||||||||||||||||||||||||.||||||||||||||.|||||||||||||||||||||.||||||||||||||||||.|||..||||...|||..|||||||||||||||||||||.||||||||.|||||||||||....|||....|.||||||.|..|.||||||||.|..|||||.||||||||||||||||||||||||||||||||..||||||||.|.|||||||||||||||||||||||||||||.||||||||||||||||||||||||||||||-|.|.|.....|...|.|||-||-|---||||.||||||||||||||||||||||||||||||||||||\n",
      "GAGGTGCAGCTGGTGGAGTCTGGGGGAGGCTTGGTCCAGCCTGGGGGGTCCCTGAGACTCTCCTGTGTAGCCTCTGGATTCACCTTTAGTTTCTATTGGATGAGCTGGGTCCGCCAGGCTCCAGGAAAGGGGCTCGAGTGGGTGGCCAACATAAAGCAAGATGGAGGTGAGAAATACTATGTGGACTCTGTGAAGGGCCGATTCACCATCTCCAGAGACAACGCCAAGAACTCACTGTATCTGCAAATGAACAGCCTGAGAGCCGAGGACACGGCTGTGTATTACTGTGCGAGA-CTGTCTGGCAGCAGCTGGG-AC-T---TTGACTACTGGGGCCAGGGAACCCTGGTCACCGTCTCCTCA\n",
      "\n",
      "CAGGTGCAGCTGGTGGAGTCTGGGGGAGGCGTGGTCCAGCCTGGGAGGTCCCTGAGACTCTCCTGTGCAGCCTCTGGATTCACCTTCAGTAGCTATGCTATGCACTGGGTCCGCCAGGCTCCAGGCAAGGGGCTGGAGTGGGTGGCAGGTATATCATATGATGGAAGCAATAAATACTACGCAGACTCCGTGAAGGGCCGATTCACCATCTCCAGAGACAATTCCAAGAACACGCTGTATCTGCAAATGAACAGCCTGAGAGCTGAGGACACGGCTGTGTATTACTGTGCGAGAGCGGACACTATGGTTCGGGGAACTTATTTTGAGTACTGGGGCCAGGGAACCCTGGTCACCGTCTCCTCA\n",
      ".|||||||||||||||||||||||||||||.||||||||||||||.|||||||||||||||||||||.||||||||||||||||||.|||..||||...|||..|||||||||||||||||||||.||||||||.|||||||||||....|||....|.||||||.|..|.||||||||.|..|||||.||||||||||||||||||||||||||||||||..||||||||.|.|||||||||||||||||||||||||||||.||||||||||||||||||||||||||||||-|.|.|.....|...|.||||-|---|-||||.||||||||||||||||||||||||||||||||||||\n",
      "GAGGTGCAGCTGGTGGAGTCTGGGGGAGGCTTGGTCCAGCCTGGGGGGTCCCTGAGACTCTCCTGTGTAGCCTCTGGATTCACCTTTAGTTTCTATTGGATGAGCTGGGTCCGCCAGGCTCCAGGAAAGGGGCTCGAGTGGGTGGCCAACATAAAGCAAGATGGAGGTGAGAAATACTATGTGGACTCTGTGAAGGGCCGATTCACCATCTCCAGAGACAACGCCAAGAACTCACTGTATCTGCAAATGAACAGCCTGAGAGCCGAGGACACGGCTGTGTATTACTGTGCGAGA-CTGTCTGGCAGCAGCTGGGA-C---T-TTGACTACTGGGGCCAGGGAACCCTGGTCACCGTCTCCTCA\n",
      "\n",
      "CAGGTGCAGCTGGTGGAGTCTGGGGGAGGCGTGGTCCAGCCTGGGAGGTCCCTGAGACTCTCCTGTGCAGCCTCTGGATTCACCTTCAGTAGCTATGCTATGCACTGGGTCCGCCAGGCTCCAGGCAAGGGGCTGGAGTGGGTGGCAGGTATATCATATGATGGAAGCAATAAATACTACGCAGACTCCGTGAAGGGCCGATTCACCATCTCCAGAGACAATTCCAAGAACACGCTGTATCTGCAAATGAACAGCCTGAGAGCTGAGGACACGGCTGTGTATTACTGTGCGAGAGCGGACACTATGGTTCGGGGAACTTATTTTGAGTACTGGGGCCAGGGAACCCTGGTCACCGTCTCCTCA\n",
      ".|||||||||||||||||||||||||||||.||||||||||||||.|||||||||||||||||||||.||||||||||||||||||.|||..||||...|||..|||||||||||||||||||||.||||||||.|||||||||||....|||....|.||||||.|..|.||||||||.|..|||||.||||||||||||||||||||||||||||||||..||||||||.|.|||||||||||||||||||||||||||||.||||||||||||||||||||||||||||||-|.|.|.....|...|.|||-||---|-||||.||||||||||||||||||||||||||||||||||||\n",
      "GAGGTGCAGCTGGTGGAGTCTGGGGGAGGCTTGGTCCAGCCTGGGGGGTCCCTGAGACTCTCCTGTGTAGCCTCTGGATTCACCTTTAGTTTCTATTGGATGAGCTGGGTCCGCCAGGCTCCAGGAAAGGGGCTCGAGTGGGTGGCCAACATAAAGCAAGATGGAGGTGAGAAATACTATGTGGACTCTGTGAAGGGCCGATTCACCATCTCCAGAGACAACGCCAAGAACTCACTGTATCTGCAAATGAACAGCCTGAGAGCCGAGGACACGGCTGTGTATTACTGTGCGAGA-CTGTCTGGCAGCAGCTGGG-AC---T-TTGACTACTGGGGCCAGGGAACCCTGGTCACCGTCTCCTCA\n",
      "\n",
      "CAGGTGCAGCTGGTGGAGTCTGGGGGAGGCGTGGTCCAGCCTGGGAGGTCCCTGAGACTCTCCTGTGCAGCCTCTGGATTCACCTTCAGTAGCTATGCTATGCACTGGGTCCGCCAGGCTCCAGGCAAGGGGCTGGAGTGGGTGGCAGGTATATCATATGATGGAAGCAATAAATACTACGCAGACTCCGTGAAGGGCCGATTCACCATCTCCAGAGACAATTCCAAGAACACGCTGTATCTGCAAATGAACAGCCTGAGAGCTGAGGACACGGCTGTGTATTACTGTGCGAGAGCGGACACTATGGTTCGGGGAACTTATTTTGAGTACTGGGGCCAGGGAACCCTGGTCACCGTCTCCTCA\n",
      ".|||||||||||||||||||||||||||||.||||||||||||||.|||||||||||||||||||||.||||||||||||||||||.|||..||||...|||..|||||||||||||||||||||.||||||||.|||||||||||....|||....|.||||||.|..|.||||||||.|..|||||.||||||||||||||||||||||||||||||||..||||||||.|.|||||||||||||||||||||||||||||.||||||||||||||||||||||||||||||-|.|.|.....|...|.||||-|----|||||.||||||||||||||||||||||||||||||||||||\n",
      "GAGGTGCAGCTGGTGGAGTCTGGGGGAGGCTTGGTCCAGCCTGGGGGGTCCCTGAGACTCTCCTGTGTAGCCTCTGGATTCACCTTTAGTTTCTATTGGATGAGCTGGGTCCGCCAGGCTCCAGGAAAGGGGCTCGAGTGGGTGGCCAACATAAAGCAAGATGGAGGTGAGAAATACTATGTGGACTCTGTGAAGGGCCGATTCACCATCTCCAGAGACAACGCCAAGAACTCACTGTATCTGCAAATGAACAGCCTGAGAGCCGAGGACACGGCTGTGTATTACTGTGCGAGA-CTGTCTGGCAGCAGCTGGGA-C----TTTGACTACTGGGGCCAGGGAACCCTGGTCACCGTCTCCTCA\n",
      "\n",
      "CAGGTGCAGCTGGTGGAGTCTGGGGGAGGCGTGGTCCAGCCTGGGAGGTCCCTGAGACTCTCCTGTGCAGCCTCTGGATTCACCTTCAGTAGCTATGCTATGCACTGGGTCCGCCAGGCTCCAGGCAAGGGGCTGGAGTGGGTGGCAGGTATATCATATGATGGAAGCAATAAATACTACGCAGACTCCGTGAAGGGCCGATTCACCATCTCCAGAGACAATTCCAAGAACACGCTGTATCTGCAAATGAACAGCCTGAGAGCTGAGGACACGGCTGTGTATTACTGTGCGAGAGCGGACACTATGGTTCGGGGAACTTATTTTGAGTACTGGGGCCAGGGAACCCTGGTCACCGTCTCCTCA\n",
      ".|||||||||||||||||||||||||||||.||||||||||||||.|||||||||||||||||||||.||||||||||||||||||.|||..||||...|||..|||||||||||||||||||||.||||||||.|||||||||||....|||....|.||||||.|..|.||||||||.|..|||||.||||||||||||||||||||||||||||||||..||||||||.|.|||||||||||||||||||||||||||||.||||||||||||||||||||||||||||||-|.|.|.....|...|.|||-||----|||||.||||||||||||||||||||||||||||||||||||\n",
      "GAGGTGCAGCTGGTGGAGTCTGGGGGAGGCTTGGTCCAGCCTGGGGGGTCCCTGAGACTCTCCTGTGTAGCCTCTGGATTCACCTTTAGTTTCTATTGGATGAGCTGGGTCCGCCAGGCTCCAGGAAAGGGGCTCGAGTGGGTGGCCAACATAAAGCAAGATGGAGGTGAGAAATACTATGTGGACTCTGTGAAGGGCCGATTCACCATCTCCAGAGACAACGCCAAGAACTCACTGTATCTGCAAATGAACAGCCTGAGAGCCGAGGACACGGCTGTGTATTACTGTGCGAGA-CTGTCTGGCAGCAGCTGGG-AC----TTTGACTACTGGGGCCAGGGAACCCTGGTCACCGTCTCCTCA\n",
      "\n"
     ]
    }
   ],
   "source": [
    "# Comparar duas squencias de anticorpos com alinhamento pairwise\n",
    "lista_de_aticorpos = [] # lista para guardar separadamente cada sequencia do arquivo multifasta\n",
    "for seq_record in SeqIO.parse(\"anticorpos_sars_cov_2.fasta\", \"fasta\"):\n",
    "    lista_de_aticorpos.append(str(seq_record.seq)) # adicionando cada sequencia a lista\n",
    "\n",
    "alinhador = Align.PairwiseAligner()                          \n",
    "alinhador.match_score = 100 # pontuacao para match\n",
    "alinhador.mismatch_score = 0 # pontuacao para mismatch\n",
    "alinhador.gap_score = -100 # pontuacao para gap\n",
    "alinhamentos = alinhador.align(lista_de_aticorpos[0], lista_de_aticorpos[1])\n",
    "\n",
    "qtdAlinhamentos  = len(alinhamentos)\n",
    "print(f\"Quantidade de alinhamentos ótimos: {qtdAlinhamentos}\\n\")\n",
    "\n",
    "for alinhamento in alinhamentos:\n",
    "    print(alinhamento)"
   ]
  },
  {
   "cell_type": "markdown",
   "id": "minus-hobby",
   "metadata": {},
   "source": [
    "#### Problema: Obter os nomes de genes da via metabólica de vitamina C\n",
    "#### Solução: Consultar os dados de vias metabólicas no banco de dados KEGG"
   ]
  },
  {
   "cell_type": "code",
   "execution_count": 43,
   "id": "sixth-major",
   "metadata": {},
   "outputs": [
    {
     "name": "stdout",
     "output_type": "stream",
     "text": [
      "Existe(m) 1 via(s) de Ascorbate e 30 genes relacionados.\n",
      "Os genes são: \n",
      "UGDH, UGT2A1, UGT2A3, UGT2B17, UGT2B11, UGT2B28, UGT1A6, UGT1A4, UGT1A1, UGT1A3, UGT2B10, UGT1A9, UGT2B7, UGT1A10, UGT1A8, UGT1A5, UGT2B15, UGT1A7, UGT2B4, UGT2A2, GUSB, KL, MIOX, AKR1A1, RGN, ALDH2, ALDH3A2, ALDH1B1, ALDH7A1, ALDH9A1\n"
     ]
    }
   ],
   "source": [
    "# Obter dados de genes relacionados a via metabolica de vitamina C em humanos\n",
    "human_pathways = REST.kegg_list(\"pathway\", \"hsa\").read()\n",
    "\n",
    "# Filtar para humanos, Ascorbate\n",
    "Ascorbate_pathways = []\n",
    "for line in human_pathways.rstrip().split(\"\\n\"):\n",
    "    entry, description = line.split(\"\\t\")\n",
    "    if \"Ascorbate\" in description:\n",
    "        Ascorbate_pathways.append(entry)\n",
    "\n",
    "# Pegar genes da via de Ascorbate e adicionar em uma lista\n",
    "Ascorbate_genes = [] \n",
    "for pathway in Ascorbate_pathways:\n",
    "    pathway_file = REST.kegg_get(pathway).read()  # for each pathway\n",
    "\n",
    "    # Iterar sobre o pathway\n",
    "    current_section = None\n",
    "    for line in pathway_file.rstrip().split(\"\\n\"):\n",
    "        section = line[:12].strip()  # nomes na 12a coluna\n",
    "        if not section == \"\":\n",
    "            current_section = section\n",
    "        \n",
    "        if current_section == \"GENE\":\n",
    "            gene_identifiers, gene_description = line[12:].split(\"; \")\n",
    "            gene_id, gene_symbol = gene_identifiers.split()\n",
    "\n",
    "            if not gene_symbol in Ascorbate_genes:\n",
    "                Ascorbate_genes.append(gene_symbol)\n",
    "\n",
    "                \n",
    "print(f\"Existe(m) {len(Ascorbate_pathways)} via(s) de Ascorbate e {len(Ascorbate_genes)} genes relacionados.\")\n",
    "print(f\"Os genes são: \")\n",
    "print(\", \".join(Ascorbate_genes))"
   ]
  },
  {
   "cell_type": "markdown",
   "id": "completed-raising",
   "metadata": {},
   "source": [
    "#### Problema: Obter detalhes de uma proteína a partir de seu ID no banco de dados Uniprot\n",
    "#### Solução: Consultar os dados da proteína no banco de dados Uniprot"
   ]
  },
  {
   "cell_type": "code",
   "execution_count": 38,
   "id": "gorgeous-fitting",
   "metadata": {},
   "outputs": [
    {
     "name": "stdout",
     "output_type": "stream",
     "text": [
      "P01764\n",
      "HV323_HUMAN\n",
      "RecName: Full=Immunoglobulin heavy variable 3-23 {ECO:0000303|PubMed:11340299, ECO:0000303|Ref.8}; AltName: Full=Ig heavy chain V-III region LAY {ECO:0000305|PubMed:4139708}; AltName: Full=Ig heavy chain V-III region POM {ECO:0000305|PubMed:4139708}; AltName: Full=Ig heavy chain V-III region TEI {ECO:0000305|PubMed:4522793}; AltName: Full=Ig heavy chain V-III region TIL {ECO:0000305|PubMed:409716}; AltName: Full=Ig heavy chain V-III region TUR {ECO:0000305|PubMed:4522793}; AltName: Full=Ig heavy chain V-III region VH26 {ECO:0000305|PubMed:6450418}; AltName: Full=Ig heavy chain V-III region WAS {ECO:0000305|PubMed:4522793}; AltName: Full=Ig heavy chain V-III region ZAP {ECO:0000305|PubMed:4522793}; Flags: Precursor;\n",
      "Seq('MEFGLSWLFLVAILKGVQCEVQLVESGGGLVQPGGSLRLSCAASGFTFSSYAMS...CAK')\n",
      "Length 117\n",
      "['3D-structure', 'Adaptive immunity', 'Cell membrane', 'Direct protein sequencing', 'Disulfide bond', 'Immunity', 'Immunoglobulin', 'Immunoglobulin domain', 'Membrane', 'Reference proteome', 'Secreted', 'Signal']\n"
     ]
    }
   ],
   "source": [
    "# Obter detalhes da proteina: Immunoglobulin heavy variable 3-23 (P01764)\n",
    "with ExPASy.get_sprot_raw(\"P01764\") as handle:\n",
    "    seq_record = SeqIO.read(handle, \"swiss\")\n",
    "print(seq_record.id)\n",
    "print(seq_record.name)\n",
    "print(seq_record.description)\n",
    "print(repr(seq_record.seq))\n",
    "print(\"Length %i\" % len(seq_record))\n",
    "print(seq_record.annotations[\"keywords\"])"
   ]
  }
 ],
 "metadata": {
  "kernelspec": {
   "display_name": "Python 3",
   "language": "python",
   "name": "python3"
  },
  "language_info": {
   "codemirror_mode": {
    "name": "ipython",
    "version": 3
   },
   "file_extension": ".py",
   "mimetype": "text/x-python",
   "name": "python",
   "nbconvert_exporter": "python",
   "pygments_lexer": "ipython3",
   "version": "3.9.2"
  }
 },
 "nbformat": 4,
 "nbformat_minor": 5
}
